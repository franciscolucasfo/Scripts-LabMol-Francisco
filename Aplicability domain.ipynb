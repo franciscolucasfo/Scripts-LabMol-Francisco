{
 "cells": [
  {
   "cell_type": "code",
   "execution_count": null,
   "metadata": {},
   "outputs": [],
   "source": [
    "from rdkit import Chem\n",
    "from rdkit.Chem import AllChem\n",
    "from rdkit import DataStructs\n",
    "\n",
    "import numpy as np\n",
    "from itertools import combinations\n",
    "import matplotlib.pyplot as plt\n",
    "import pandas as pd\n",
    "from tqdm import tqdm\n",
    "from sklearn.model_selection import train_test_split\n",
    "\n",
    "\n",
    "# 1. Carregar as moléculas do conjunto de treinamento\n",
    "# Aqui, por simplicidade, usaremos smiles de exemplo. Substitua pela sua lista de smiles.\n",
    "df=pd.read_csv(r\"C:\\Users\\Francisco\\Downloads\\HEK_curated_reduced_1-5.csv\")\n",
    "x=df[['SMILES']]\n",
    "y=df[['Outcome']]\n",
    "\n",
    "X_train, X_test, y_train, y_test = train_test_split(x, y, test_size=0.2, train_size=0.8, random_state=42, stratify=y)\n"
   ]
  },
  {
   "cell_type": "code",
   "execution_count": null,
   "metadata": {},
   "outputs": [],
   "source": [
    "molecules_train = [Chem.MolFromSmiles(smile) for smile in X_train['SMILES']]\n",
    "\n",
    "# 2. Calcular os fingerprints\n",
    "# Usaremos o Morgan Fingerprint (equivalente ao ECFP)\n",
    "fingerprints_train = [AllChem.GetMorganFingerprintAsBitVect(mol, radius=2, nBits=1024) for mol in molecules_train]\n",
    "\n",
    "# 3. Calcular as similaridades (Coeficiente de Tanimoto) entre todos os pares de moléculas\n",
    "def calculate_tanimoto(fp_list):\n",
    "    n = len(fp_list)\n",
    "    sim_matrix = np.zeros((n, n))\n",
    "    total_pairs = n * (n - 1) // 2  # Número total de pares\n",
    "    pairs = combinations(range(n), 2)\n",
    "    for i, j in tqdm(pairs, total=total_pairs, desc=\"Calculando similaridades\"):\n",
    "        sim = DataStructs.FingerprintSimilarity(fp_list[i], fp_list[j])\n",
    "        sim_matrix[i, j] = sim\n",
    "        sim_matrix[j, i] = sim\n",
    "    return sim_matrix\n",
    "\n",
    "similarity_matrix = calculate_tanimoto(fingerprints_train)\n",
    "\n",
    "# 4. Extrair os valores superiores da matriz (sem repetição)\n",
    "similarity_values = similarity_matrix[np.triu_indices(len(fingerprints_train), k=1)]\n",
    "\n",
    "# 5. Analisar a distribuição de similaridades\n",
    "mean_sim = np.mean(similarity_values)\n",
    "median_sim = np.median(similarity_values)\n",
    "std_sim = np.std(similarity_values)\n",
    "\n",
    "print(f\"Média de Similaridade: {mean_sim:.4f}\")\n",
    "print(f\"Mediana de Similaridade: {median_sim:.4f}\")\n",
    "print(f\"Desvio Padrão: {std_sim:.4f}\")\n",
    "\n",
    "# 6. Definir o threshold\n",
    "# Podemos usar o percentil 5% como exemplo\n",
    "threshold = np.percentile(similarity_values, 5)\n",
    "print(f\"Tanimoto Similarity Threshold (5th percentile): {threshold:.4f}\")\n",
    "\n",
    "# 7. Plot the histogram of similarities\n",
    "plt.hist(similarity_values, bins=50, edgecolor='black')\n",
    "plt.axvline(threshold, color='red', linestyle='dashed', linewidth=2, label=f'Threshold = {threshold:.2f}')\n",
    "plt.title('Distribution of Tanimoto Similarities (HEK 293)')\n",
    "plt.xlabel('Tanimoto Similarity')\n",
    "plt.ylabel('Frequency')\n",
    "plt.legend()\n",
    "plt.show()"
   ]
  },
  {
   "cell_type": "code",
   "execution_count": null,
   "metadata": {},
   "outputs": [],
   "source": [
    "np.save(r'C:\\Users\\Francisco\\Downloads\\HEKsimilarity_matrix', similarity_values)"
   ]
  },
  {
   "cell_type": "code",
   "execution_count": null,
   "metadata": {},
   "outputs": [],
   "source": [
    "def calculate_percentage_within_domain(test_fps, train_fps, threshold):\n",
    "    within_domain_count = 0\n",
    "    \n",
    "    for test_fp in tqdm(test_fps, desc=\"Checking domain applicability\"):\n",
    "        # Calcula a similaridade com todos os compostos do treino\n",
    "        similarities = [DataStructs.FingerprintSimilarity(test_fp, train_fp) for train_fp in train_fps]\n",
    "        max_similarity = max(similarities)  # Encontra a similaridade máxima com o treino\n",
    "        \n",
    "        # Verifica se está dentro do domínio\n",
    "        if max_similarity >= threshold:\n",
    "            within_domain_count += 1\n",
    "    \n",
    "    # Calcula a porcentagem\n",
    "    total_test_compounds = len(test_fps)\n",
    "    percentage_within_domain = (within_domain_count / total_test_compounds) * 100\n",
    "    \n",
    "    return percentage_within_domain\n",
    "\n",
    "molecules_test = [Chem.MolFromSmiles(smile) for smile in X_test['SMILES']]\n",
    "\n",
    "test_fingerprints=[AllChem.GetMorganFingerprintAsBitVect(mol, radius=2, nBits=1024) for mol in molecules_test]\n",
    "\n",
    "# Chamada da função\n",
    "percentage_within = calculate_percentage_within_domain(test_fingerprints, fingerprints_train, threshold)\n",
    "print(f\"{percentage_within:.2f}% of the test compounds are within the domain of applicability.\")\n"
   ]
  }
 ],
 "metadata": {
  "kernelspec": {
   "display_name": "ia",
   "language": "python",
   "name": "python3"
  },
  "language_info": {
   "codemirror_mode": {
    "name": "ipython",
    "version": 3
   },
   "file_extension": ".py",
   "mimetype": "text/x-python",
   "name": "python",
   "nbconvert_exporter": "python",
   "pygments_lexer": "ipython3",
   "version": "3.13.0"
  }
 },
 "nbformat": 4,
 "nbformat_minor": 2
}

{
 "cells": [
  {
   "cell_type": "code",
   "execution_count": null,
   "metadata": {},
   "outputs": [],
   "source": [
    "import joblib\n",
    "import json\n",
    "from sklearn.metrics import balanced_accuracy_score\n",
    "\n",
    "# Load the model\n",
    "model = joblib.load(r\"D:\\OneDrive\\Documentos\\LabMol\\IC-Citotoxicidade\\SERVIDOR CYTO SAFE\\New_Cytosafe\\3T3\\model_LGBM_216f.joblib\")\n",
    "\n",
    "# Load data\n",
    "with open(r\"D:\\OneDrive\\Documentos\\LabMol\\IC-Citotoxicidade\\SERVIDOR CYTO SAFE\\New_Cytosafe\\3T3\\data_3T3_1_5\\curated_data\\x\\binary\\x_train\\x_train_ecfp_fp_2_1024.json\", 'r') as f:\n",
    "    x_train = json.load(f)\n",
    "\n",
    "with open(r\"D:\\OneDrive\\Documentos\\LabMol\\IC-Citotoxicidade\\SERVIDOR CYTO SAFE\\New_Cytosafe\\3T3\\data_3T3_1_5\\curated_data\\y\\binary\\y_ext\\y_ext_ecfp_fp_2_1024.json\", 'r') as f:\n",
    "    y_test = json.load(f)\n",
    "\n",
    "with open(r\"D:\\OneDrive\\Documentos\\LabMol\\IC-Citotoxicidade\\SERVIDOR CYTO SAFE\\New_Cytosafe\\3T3\\data_3T3_1_5\\curated_data\\x\\binary\\x_ext\\x_ext_ecfp_fp_2_1024.json\", 'r') as f:\n",
    "    x_test = json.load(f)\n"
   ]
  },
  {
   "cell_type": "code",
   "execution_count": null,
   "metadata": {},
   "outputs": [],
   "source": [
    "import numpy as np\n",
    "import pandas as pd\n",
    "\n",
    "X_test_df = pd.DataFrame(x_test)\n",
    "X_test_df = X_test_df.add_prefix('var_')\n",
    "\n",
    "X_train_df = pd.DataFrame(x_train)\n",
    "X_train_df = X_train_df.add_prefix('var_')\n",
    "\n",
    "features_sel = np.array(['var_1', 'var_2', 'var_3', 'var_4', 'var_5', 'var_14', 'var_15',\n",
    "       'var_23', 'var_24', 'var_29', 'var_33', 'var_36', 'var_41',\n",
    "       'var_42', 'var_43', 'var_45', 'var_46', 'var_64', 'var_65',\n",
    "       'var_74', 'var_75', 'var_77', 'var_80', 'var_83', 'var_85',\n",
    "       'var_90', 'var_92', 'var_95', 'var_114', 'var_117', 'var_119',\n",
    "       'var_121', 'var_128', 'var_131', 'var_133', 'var_136', 'var_139',\n",
    "       'var_140', 'var_142', 'var_145', 'var_155', 'var_158', 'var_163',\n",
    "       'var_175', 'var_191', 'var_197', 'var_200', 'var_212', 'var_216',\n",
    "       'var_222', 'var_225', 'var_233', 'var_238', 'var_242', 'var_248',\n",
    "       'var_250', 'var_255', 'var_268', 'var_271', 'var_282', 'var_283',\n",
    "       'var_289', 'var_297', 'var_298', 'var_301', 'var_305', 'var_310',\n",
    "       'var_314', 'var_318', 'var_322', 'var_325', 'var_326', 'var_333',\n",
    "       'var_335', 'var_338', 'var_345', 'var_348', 'var_352', 'var_361',\n",
    "       'var_362', 'var_366', 'var_367', 'var_369', 'var_378', 'var_381',\n",
    "       'var_383', 'var_385', 'var_386', 'var_387', 'var_389', 'var_392',\n",
    "       'var_393', 'var_405', 'var_407', 'var_419', 'var_421', 'var_428',\n",
    "       'var_429', 'var_435', 'var_446', 'var_448', 'var_452', 'var_456',\n",
    "       'var_458', 'var_475', 'var_480', 'var_481', 'var_484', 'var_486',\n",
    "       'var_491', 'var_492', 'var_511', 'var_518', 'var_521', 'var_523',\n",
    "       'var_525', 'var_527', 'var_540', 'var_546', 'var_549', 'var_551',\n",
    "       'var_556', 'var_560', 'var_561', 'var_562', 'var_565', 'var_573',\n",
    "       'var_576', 'var_579', 'var_580', 'var_585', 'var_586', 'var_590',\n",
    "       'var_591', 'var_593', 'var_602', 'var_610', 'var_615', 'var_624',\n",
    "       'var_628', 'var_641', 'var_650', 'var_652', 'var_656', 'var_658',\n",
    "       'var_659', 'var_667', 'var_673', 'var_675', 'var_686', 'var_689',\n",
    "       'var_691', 'var_692', 'var_695', 'var_698', 'var_714', 'var_715',\n",
    "       'var_718', 'var_721', 'var_726', 'var_730', 'var_736', 'var_739',\n",
    "       'var_741', 'var_751', 'var_767', 'var_785', 'var_792', 'var_798',\n",
    "       'var_799', 'var_801', 'var_802', 'var_807', 'var_820', 'var_823',\n",
    "       'var_828', 'var_831', 'var_836', 'var_838', 'var_841', 'var_842',\n",
    "       'var_843', 'var_849', 'var_855', 'var_856', 'var_875', 'var_883',\n",
    "       'var_886', 'var_890', 'var_893', 'var_896', 'var_897', 'var_899',\n",
    "       'var_904', 'var_918', 'var_922', 'var_924', 'var_926', 'var_932',\n",
    "       'var_935', 'var_940', 'var_942', 'var_946', 'var_950', 'var_956',\n",
    "       'var_974', 'var_976', 'var_980', 'var_985', 'var_987', 'var_993',\n",
    "       'var_997', 'var_1005', 'var_1017', 'var_1019', 'var_1020'],\n",
    "      dtype=object)\n"
   ]
  },
  {
   "cell_type": "code",
   "execution_count": null,
   "metadata": {},
   "outputs": [],
   "source": [
    "#features = sorted(features_sel, reverse = False, key = lambda ele: int(ele.split('_')[1]))\n",
    "features = sorted(features_sel, reverse = False, key = lambda ele: int(ele.split('_')[1]))\n",
    "X_new_test = X_test_df[features]\n",
    "X_new_train = X_train_df[features]"
   ]
  },
  {
   "cell_type": "code",
   "execution_count": null,
   "metadata": {},
   "outputs": [],
   "source": [
    "x_test = np.array(X_new_test)\n",
    "x_train = np.array(X_new_train)\n",
    "y_test = np.array(y_test)\n",
    "\n"
   ]
  },
  {
   "cell_type": "code",
   "execution_count": null,
   "metadata": {},
   "outputs": [],
   "source": [
    "# predict Y_test\n",
    "y_pred = model.predict(X_new_test)\n",
    "y_pred"
   ]
  },
  {
   "cell_type": "code",
   "execution_count": null,
   "metadata": {},
   "outputs": [],
   "source": [
    "def getNeighborsDitance(trainingSet, testInstance, k):\n",
    "    from sklearn.metrics.pairwise import pairwise_distances\n",
    "    neighbors_k= pairwise_distances(trainingSet, Y=testInstance, metric='dice', n_jobs=-1)\n",
    "    neighbors_k.sort(0)\n",
    "    similarity= 1-neighbors_k\n",
    "    return similarity[k-1,:]\n"
   ]
  },
  {
   "cell_type": "code",
   "execution_count": null,
   "metadata": {},
   "outputs": [],
   "source": [
    "def Adcalc(k, Dc):\n",
    "    \"\"\" Calculate the Application Domain (AD) of a query set X with a training set T and a given k and Dc.\"\"\"\n",
    "\n",
    "    distance_train_set = []\n",
    "    distance_test_set = []\n",
    "    AD = []\n",
    "    k = k\n",
    "    distance_train = getNeighborsDitance(x_train, x_train , k)\n",
    "    distance_train_set.append(distance_train)\n",
    "    distance_test = getNeighborsDitance(x_train, x_test, k)\n",
    "    distance_test_set.append(distance_test)\n",
    "    Dc = Dc\n",
    "    for i in range(len(x_test)):\n",
    "        ad=0\n",
    "        if distance_test_set[0][i] >= Dc:\n",
    "            ad = 1\n",
    "        AD.append(ad)\n",
    "    \n",
    "    AD = pd.DataFrame(AD)\n",
    "    AD = AD.rename(columns = {0:'AD'})\n",
    "    \n",
    "    return AD"
   ]
  },
  {
   "cell_type": "code",
   "execution_count": null,
   "metadata": {},
   "outputs": [],
   "source": [
    "def compareAD(y_pred, y_true, k, AD, Dc):\n",
    "\n",
    "    \"\"\" Create a single Dataset that compares  \"\"\"\n",
    "\n",
    "    # join data\n",
    "    y_pred = pd.DataFrame(y_pred)\n",
    "    y_pred = y_pred.rename(columns = {0:'y_pred'})\n",
    "    y_true = pd.DataFrame(y_test)\n",
    "    y_true = y_true.rename(columns = {0:'y_true'})\n",
    "    joinedData = pd.concat([y_pred, y_true, AD['AD']], axis=1)\n",
    "\n",
    "    # drop rows with AD = 0\n",
    "    finalData = joinedData.drop(joinedData[joinedData['AD'] == 0].index)\n",
    "    \n",
    "    # predict bacc within AD == 1\n",
    "    BACC = balanced_accuracy_score(finalData['y_true'], finalData['y_pred'])\n",
    "\n",
    "    # joined into a single df\n",
    "    emptydic = {\"k\":[], \"Threshold\": [], \"BACC\": [], \"Inside AD\": [], \"Outside AD\": []}\n",
    "\n",
    "    emptydic['k'].append(k)\n",
    "    emptydic['Threshold'].append(Dc)\n",
    "    emptydic['BACC'].append(BACC)\n",
    "    emptydic['Inside AD'].append(len(finalData))\n",
    "    emptydic['Outside AD'].append(len(joinedData) - len(finalData))\n",
    "\n",
    "    return emptydic"
   ]
  },
  {
   "cell_type": "code",
   "execution_count": 37,
   "metadata": {},
   "outputs": [],
   "source": [
    "%%capture\n",
    "# final loop to compare different thresdholds and k\n",
    "\n",
    "k = range(1, 11, 1)\n",
    "Dc = np.arange(0.05, 0.9, 0.05)\n",
    "\n",
    "results = pd.DataFrame({\"k\":[], \"Threshold\": [], \"BACC\": [], \"Inside AD\": [], \"Outside AD\": []})\n",
    "for i in k:\n",
    "    for j in Dc:\n",
    "        \n",
    "        AD = Adcalc(i, j)\n",
    "        final_dict = compareAD(y_pred=y_pred, y_true=y_test, k=i, AD=AD, Dc=round(j, 2))\n",
    "        results.loc[len(results)] = final_dict\n",
    "        results = results.reset_index(drop=True)"
   ]
  },
  {
   "cell_type": "code",
   "execution_count": null,
   "metadata": {},
   "outputs": [],
   "source": [
    "results.to_csv(r\"D:\\OneDrive\\Documentos\\LabMol\\IC-Citotoxicidade\\SERVIDOR CYTO SAFE\\New_Cytosafe\\3T3\\results_DA.csv\", index=False)\n",
    "results.to_excel(r\"D:\\OneDrive\\Documentos\\LabMol\\IC-Citotoxicidade\\SERVIDOR CYTO SAFE\\New_Cytosafe\\3T3\\results_DA.xlsx\", index=False)"
   ]
  }
 ],
 "metadata": {
  "kernelspec": {
   "display_name": "ia",
   "language": "python",
   "name": "python3"
  },
  "language_info": {
   "codemirror_mode": {
    "name": "ipython",
    "version": 3
   },
   "file_extension": ".py",
   "mimetype": "text/x-python",
   "name": "python",
   "nbconvert_exporter": "python",
   "pygments_lexer": "ipython3",
   "version": "3.10.6"
  }
 },
 "nbformat": 4,
 "nbformat_minor": 2
}

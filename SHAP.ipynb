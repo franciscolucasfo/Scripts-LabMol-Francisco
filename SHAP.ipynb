{
 "cells": [
  {
   "cell_type": "code",
   "execution_count": null,
   "metadata": {},
   "outputs": [],
   "source": [
    "import pandas as pd\n",
    "import numpy as np\n",
    "import matplotlib.pyplot as plt\n",
    "\n",
    "import shap\n",
    "from sklearn.model_selection import train_test_split\n",
    "\n",
    "from rdkit.Chem import AllChem\n",
    "from rdkit import Chem\n",
    "from rdkit.Chem import rdMolDescriptors\n",
    "from rdkit.Chem.Draw import IPythonConsole\n",
    "from rdkit.Chem import Draw\n",
    "\n",
    "import joblib"
   ]
  },
  {
   "cell_type": "code",
   "execution_count": null,
   "metadata": {},
   "outputs": [],
   "source": [
    "df = pd.read_csv(r\"D:\\OneDrive\\Documentos\\LabMol\\IC-Citotoxicidade\\datasets\\AID_1345083 HEK\\Balanced\\SHAP\\curated_reduced(SMILES).csv\")\n",
    "model = joblib.load(r\"D:\\OneDrive\\Documentos\\LabMol\\IC-Citotoxicidade\\datasets\\AID_1345083 HEK\\Balanced\\SHAP\\xgb_classifier_ecfp_fp_2_1024.joblib\")"
   ]
  },
  {
   "cell_type": "code",
   "execution_count": null,
   "metadata": {},
   "outputs": [],
   "source": [
    "smiles_train, smiles_test, y_train, y_test = train_test_split(df['SMILES'], df['Outcome'], test_size=0.2, random_state=4)\n",
    "#Certifique-se de que o random_state seja o mesmo do treinamento\n",
    "\n",
    "smiles_test = pd.DataFrame(smiles_test)"
   ]
  },
  {
   "cell_type": "markdown",
   "metadata": {},
   "source": [
    "### Descritores e SHAP"
   ]
  },
  {
   "cell_type": "code",
   "execution_count": null,
   "metadata": {},
   "outputs": [],
   "source": [
    "#Certifique-se de verificar o raio e o nBits\n",
    "smiles_test['mol'] = [Chem.MolFromSmiles(x) for x in smiles_test['SMILES']]\n",
    "X = np.array([AllChem.GetMorganFingerprintAsBitVect(x, radius = 2, nBits = 1024, useFeatures=False) for x in smiles_test['mol']])"
   ]
  },
  {
   "cell_type": "code",
   "execution_count": null,
   "metadata": {},
   "outputs": [],
   "source": [
    "#Salvando bitInfo\n",
    "bi_all=[]\n",
    "for x in smiles_test['mol']:\n",
    "    bi={}\n",
    "    AllChem.GetMorganFingerprintAsBitVect(x, radius = 2, nBits = 1024, useFeatures=False, bitInfo=bi); bi_all.append(bi)"
   ]
  },
  {
   "cell_type": "code",
   "execution_count": null,
   "metadata": {},
   "outputs": [],
   "source": [
    "explainer = shap.TreeExplainer(model)\n",
    "shap_values = explainer(X)"
   ]
  },
  {
   "cell_type": "markdown",
   "metadata": {},
   "source": [
    "### Plotting SHAP values"
   ]
  },
  {
   "cell_type": "code",
   "execution_count": null,
   "metadata": {},
   "outputs": [],
   "source": [
    "shap.plots.bar(shap_values)"
   ]
  },
  {
   "cell_type": "code",
   "execution_count": null,
   "metadata": {},
   "outputs": [],
   "source": [
    "shap.plots.violin(shap_values)"
   ]
  },
  {
   "cell_type": "code",
   "execution_count": null,
   "metadata": {},
   "outputs": [],
   "source": [
    "shap.plots.waterfall(shap_values[3], max_display= 5)\n"
   ]
  },
  {
   "cell_type": "markdown",
   "metadata": {},
   "source": [
    "### Exploração dos bits"
   ]
  },
  {
   "cell_type": "code",
   "execution_count": null,
   "metadata": {},
   "outputs": [],
   "source": [
    "bit_desejado = 890\n",
    "compostos_com_bit_desejado = [i for i, d in enumerate(bi_all) if bit_desejado in d]\n",
    "print(compostos_com_bit_desejado[0:10])"
   ]
  },
  {
   "cell_type": "code",
   "execution_count": null,
   "metadata": {},
   "outputs": [],
   "source": [
    "from ipywidgets import interact,fixed,IntSlider\n",
    "def renderFpBit(mol,bitIdx,bitInfo,fn):\n",
    "    bid = bitIdx\n",
    "    return(display(fn(mol,bid,bitInfo)))"
   ]
  },
  {
   "cell_type": "code",
   "execution_count": null,
   "metadata": {},
   "outputs": [],
   "source": [
    "index = 3 #select the number of molecule\n",
    "bit_infos = bi_all[index] #select the number of molecule by index\n",
    "mol_all_list = smiles_test['mol'].iloc[index] #select the number of molecule y index\n",
    "\n",
    "interact(renderFpBit, bitIdx=bit_infos.keys(),mol=fixed(mol_all_list), \n",
    "         bitInfo=fixed(bit_infos),fn=fixed(Draw.DrawMorganBit));"
   ]
  },
  {
   "cell_type": "code",
   "execution_count": null,
   "metadata": {},
   "outputs": [],
   "source": [
    "index_predict = 3 #select the number of molecule\n",
    "\n",
    "result = model.predict(X[1].reshape(1, -1))\n",
    "\n",
    "print('Predicted value: ', result, 'Real value: ', y_test.iloc[index_predict])"
   ]
  }
 ],
 "metadata": {
  "kernelspec": {
   "display_name": "base",
   "language": "python",
   "name": "python3"
  },
  "language_info": {
   "codemirror_mode": {
    "name": "ipython",
    "version": 3
   },
   "file_extension": ".py",
   "mimetype": "text/x-python",
   "name": "python",
   "nbconvert_exporter": "python",
   "pygments_lexer": "ipython3",
   "version": "3.10.6"
  },
  "orig_nbformat": 4
 },
 "nbformat": 4,
 "nbformat_minor": 2
}

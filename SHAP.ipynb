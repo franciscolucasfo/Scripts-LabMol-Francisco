{
  "nbformat": 4,
  "nbformat_minor": 0,
  "metadata": {
    "colab": {
      "provenance": []
    },
    "kernelspec": {
      "name": "python3",
      "display_name": "Python 3"
    },
    "language_info": {
      "name": "python"
    }
  },
  "cells": [
    {
      "cell_type": "code",
      "source": [
        "!pip install shap\n",
        "!pip install rdkit\n",
        "\n",
        "from google.colab import output\n",
        "output.clear()\n",
        "print(\"Packages loaded\")\n"
      ],
      "metadata": {
        "id": "8ht5pMybX4DG",
        "colab": {
          "base_uri": "https://localhost:8080/"
        },
        "outputId": "0f2b5af8-46ce-4ed4-feea-26d9a4372a70"
      },
      "execution_count": 6,
      "outputs": [
        {
          "output_type": "stream",
          "name": "stdout",
          "text": [
            "Packages loaded\n"
          ]
        }
      ]
    },
    {
      "cell_type": "code",
      "execution_count": null,
      "metadata": {
        "id": "3Hzzaf2KLVNY"
      },
      "outputs": [],
      "source": [
        "import json\n",
        "import numpy as np\n",
        "import pandas as pd\n",
        "import shap\n",
        "import joblib\n",
        "import matplotlib.pyplot as plt\n",
        "\n",
        "shap.initjs()"
      ]
    },
    {
      "cell_type": "code",
      "source": [],
      "metadata": {
        "id": "2DOGIaH8r2q9"
      },
      "execution_count": null,
      "outputs": []
    },
    {
      "cell_type": "code",
      "source": [
        "model = joblib.load('/content/lgbm_classifier_ecfp_fp_2_1024.joblib')"
      ],
      "metadata": {
        "id": "cG4yIgrcYXON"
      },
      "execution_count": null,
      "outputs": []
    },
    {
      "cell_type": "code",
      "source": [
        "explainer = shap.explainers.GPUTree(model, X)\n",
        "shap_values = explainer(X)"
      ],
      "metadata": {
        "id": "4wBInUxaYfJe"
      },
      "execution_count": null,
      "outputs": []
    },
    {
      "cell_type": "code",
      "source": [
        "shap_values"
      ],
      "metadata": {
        "id": "t22SXiursA3Y"
      },
      "execution_count": null,
      "outputs": []
    },
    {
      "cell_type": "code",
      "source": [
        "np.save('shapvalues.npy', [shap_values])"
      ],
      "metadata": {
        "id": "80sUK_sLM3yC"
      },
      "execution_count": null,
      "outputs": []
    },
    {
      "cell_type": "code",
      "source": [
        "shap.summary_plot(shap_values, X_test)\n",
        "plt.savefig('summary_plot.png')"
      ],
      "metadata": {
        "id": "Yix-8zKfnuPA"
      },
      "execution_count": null,
      "outputs": []
    },
    {
      "cell_type": "code",
      "source": [
        "shap.summary_plot(shap_values[0], X_test)"
      ],
      "metadata": {
        "id": "uorsLPSSyxQt"
      },
      "execution_count": null,
      "outputs": []
    },
    {
      "cell_type": "code",
      "source": [
        "shap.summary_plot(shap_values[1], X_test)"
      ],
      "metadata": {
        "id": "4f9Dsmhs3Fjm"
      },
      "execution_count": null,
      "outputs": []
    },
    {
      "cell_type": "code",
      "source": [
        "shap.dependence_plot(561, shap_values[0], X_test, interaction_index= 1)"
      ],
      "metadata": {
        "id": "Ped_cjzD3gyr"
      },
      "execution_count": null,
      "outputs": []
    }
  ]
}
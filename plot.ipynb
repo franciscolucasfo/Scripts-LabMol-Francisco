{
 "cells": [
  {
   "cell_type": "code",
   "execution_count": null,
   "metadata": {},
   "outputs": [],
   "source": [
    "import pandas as pd\n",
    "import matplotlib.pyplot as plt\n",
    "import seaborn as sns\n",
    "from sklearn.manifold import TSNE"
   ]
  },
  {
   "cell_type": "code",
   "execution_count": null,
   "metadata": {},
   "outputs": [],
   "source": [
    "df=pd.read_csv(r\"C:\\Users\\franc\\OneDrive\\Documentos\\LabMol\\IC-Citotoxicidade\\datasets\\AID_1345082 3T3\\BALANCED\\ECFP4.csv\")"
   ]
  },
  {
   "cell_type": "code",
   "execution_count": null,
   "metadata": {},
   "outputs": [],
   "source": [
    "%%time\n",
    "tsne = TSNE(random_state=0).fit_transform(df)\n",
    "tsne_df = pd.DataFrame(tsne, columns= ['X_TSNE', 'Y_TSNE'])\n",
    "\n",
    "tsne_df.info()"
   ]
  },
  {
   "cell_type": "code",
   "execution_count": null,
   "metadata": {},
   "outputs": [],
   "source": [
    "Activity = pd.read_csv(r\"C:\\Users\\franc\\OneDrive\\Documentos\\LabMol\\IC-Citotoxicidade\\datasets\\AID_1345082 3T3\\BALANCED\\y.csv\")\n",
    "Activity['Color'] = Activity['Outcome'].map({0: 'blue', 1: 'red'})"
   ]
  },
  {
   "cell_type": "code",
   "execution_count": null,
   "metadata": {},
   "outputs": [],
   "source": [
    "tsne_df = pd.concat([tsne_df, Activity], axis=1)"
   ]
  },
  {
   "cell_type": "code",
   "execution_count": null,
   "metadata": {},
   "outputs": [],
   "source": [
    "scatterplot = sns.scatterplot(data=tsne_df, x='X_TSNE', y='Y_TSNE', c=tsne_df['Color'], s=10, alpha=0.5)\n",
    "scatterplot.set_title('Chemical Space of AID_1345082 3T3 (Under-sampling)')\n",
    "\n",
    "legend_labels = ['Non-cytotoxic', 'Cytotoxic']\n",
    "sns.despine()\n",
    "plt.legend(handles=[plt.Line2D([], [], marker='o', color='blue', markersize=8, linestyle='None'),\n",
    "                    plt.Line2D([], [], marker='o', color='red', markersize=8, linestyle='None')],\n",
    "           labels=legend_labels, title='Outcome')"
   ]
  },
  {
   "cell_type": "code",
   "execution_count": null,
   "metadata": {},
   "outputs": [],
   "source": [
    "scatterplot.figure.savefig('scatterplot.svg', dpi=500)"
   ]
  }
 ],
 "metadata": {
  "kernelspec": {
   "display_name": "my-rdkit-env",
   "language": "python",
   "name": "python3"
  },
  "language_info": {
   "codemirror_mode": {
    "name": "ipython",
    "version": 3
   },
   "file_extension": ".py",
   "mimetype": "text/x-python",
   "name": "python",
   "nbconvert_exporter": "python",
   "pygments_lexer": "ipython3",
   "version": "3.11.0"
  },
  "orig_nbformat": 4
 },
 "nbformat": 4,
 "nbformat_minor": 2
}

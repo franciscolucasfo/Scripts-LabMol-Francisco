{
 "cells": [
  {
   "cell_type": "code",
   "execution_count": 11,
   "metadata": {},
   "outputs": [
    {
     "name": "stderr",
     "output_type": "stream",
     "text": [
      "c:\\Users\\franc\\anaconda3\\envs\\ia_env\\Lib\\site-packages\\sklearn\\base.py:376: InconsistentVersionWarning: Trying to unpickle estimator LabelEncoder from version 1.2.2 when using version 1.5.1. This might lead to breaking code or invalid results. Use at your own risk. For more info please refer to:\n",
      "https://scikit-learn.org/stable/model_persistence.html#security-maintainability-limitations\n",
      "  warnings.warn(\n"
     ]
    }
   ],
   "source": [
    "import joblib\n",
    "import json\n",
    "from sklearn.metrics import balanced_accuracy_score, f1_score, roc_auc_score, matthews_corrcoef, precision_score, recall_score\n",
    "\n",
    "# Load the model\n",
    "model = joblib.load(r\"C:\\Users\\franc\\OneDrive\\Documentos\\LabMol\\Scripts\\GIT Scripts\\Pipeline-LAB\\data\\models\\binary\\lgbm_classifier_ecfp_fp_2_1024.joblib\")\n",
    "\n",
    "# Load the external data\n",
    "with open(r\"C:\\Users\\franc\\OneDrive\\Documentos\\LabMol\\Scripts\\GIT Scripts\\Pipeline-LAB\\data\\curated_data\\x\\binary\\x_ext\\x_ext_ecfp_fp_2_1024.json\", 'r') as f:\n",
    "    x = json.load(f)\n",
    "\n",
    "with open(r\"C:\\Users\\franc\\OneDrive\\Documentos\\LabMol\\Scripts\\GIT Scripts\\Pipeline-LAB\\data\\curated_data\\y\\binary\\y_ext\\y_ext_ecfp_fp_2_1024.json\", 'r') as f:\n",
    "    y = json.load(f)\n"
   ]
  },
  {
   "cell_type": "code",
   "execution_count": null,
   "metadata": {},
   "outputs": [],
   "source": [
    "import numpy as np\n",
    "import pandas as pd\n",
    "\n",
    "X_infos_df = pd.DataFrame(x)\n",
    "X_infos_df = X_infos_df.add_prefix('var_')\n",
    "\n",
    "features_sel = np.array(['var_1', 'var_2', 'var_3', 'var_4', 'var_5', 'var_14', 'var_15',\n",
    "       'var_23', 'var_24', 'var_29', 'var_33', 'var_36', 'var_41',\n",
    "       'var_42', 'var_43', 'var_45', 'var_46', 'var_64', 'var_65',\n",
    "       'var_74', 'var_75', 'var_77', 'var_80', 'var_83', 'var_85',\n",
    "       'var_90', 'var_92', 'var_95', 'var_114', 'var_117', 'var_119',\n",
    "       'var_121', 'var_128', 'var_131', 'var_133', 'var_136', 'var_139',\n",
    "       'var_140', 'var_142', 'var_145', 'var_155', 'var_158', 'var_163',\n",
    "       'var_175', 'var_191', 'var_197', 'var_200', 'var_212', 'var_216',\n",
    "       'var_222', 'var_225', 'var_233', 'var_238', 'var_242', 'var_248',\n",
    "       'var_250', 'var_255', 'var_268', 'var_271', 'var_282', 'var_283',\n",
    "       'var_289', 'var_297', 'var_298', 'var_301', 'var_305', 'var_310',\n",
    "       'var_314', 'var_318', 'var_322', 'var_325', 'var_326', 'var_333',\n",
    "       'var_335', 'var_338', 'var_345', 'var_348', 'var_352', 'var_361',\n",
    "       'var_362', 'var_366', 'var_367', 'var_369', 'var_378', 'var_381',\n",
    "       'var_383', 'var_385', 'var_386', 'var_387', 'var_389', 'var_392',\n",
    "       'var_393', 'var_405', 'var_407', 'var_419', 'var_421', 'var_428',\n",
    "       'var_429', 'var_435', 'var_446', 'var_448', 'var_452', 'var_456',\n",
    "       'var_458', 'var_475', 'var_480', 'var_481', 'var_484', 'var_486',\n",
    "       'var_491', 'var_492', 'var_511', 'var_518', 'var_521', 'var_523',\n",
    "       'var_525', 'var_527', 'var_540', 'var_546', 'var_549', 'var_551',\n",
    "       'var_556', 'var_560', 'var_561', 'var_562', 'var_565', 'var_573',\n",
    "       'var_576', 'var_579', 'var_580', 'var_585', 'var_586', 'var_590',\n",
    "       'var_591', 'var_593', 'var_602', 'var_610', 'var_615', 'var_624',\n",
    "       'var_628', 'var_641', 'var_650', 'var_652', 'var_656', 'var_658',\n",
    "       'var_659', 'var_667', 'var_673', 'var_675', 'var_686', 'var_689',\n",
    "       'var_691', 'var_692', 'var_695', 'var_698', 'var_714', 'var_715',\n",
    "       'var_718', 'var_721', 'var_726', 'var_730', 'var_736', 'var_739',\n",
    "       'var_741', 'var_751', 'var_767', 'var_785', 'var_792', 'var_798',\n",
    "       'var_799', 'var_801', 'var_802', 'var_807', 'var_820', 'var_823',\n",
    "       'var_828', 'var_831', 'var_836', 'var_838', 'var_841', 'var_842',\n",
    "       'var_843', 'var_849', 'var_855', 'var_856', 'var_875', 'var_883',\n",
    "       'var_886', 'var_890', 'var_893', 'var_896', 'var_897', 'var_899',\n",
    "       'var_904', 'var_918', 'var_922', 'var_924', 'var_926', 'var_932',\n",
    "       'var_935', 'var_940', 'var_942', 'var_946', 'var_950', 'var_956',\n",
    "       'var_974', 'var_976', 'var_980', 'var_985', 'var_987', 'var_993',\n",
    "       'var_997', 'var_1005', 'var_1017', 'var_1019', 'var_1020'],\n",
    "      dtype=object)"
   ]
  },
  {
   "cell_type": "code",
   "execution_count": null,
   "metadata": {},
   "outputs": [],
   "source": [
    "#features = sorted(features_sel, reverse = False, key = lambda ele: int(ele.split('_')[1]))\n",
    "features = sorted(features_sel, reverse = False, key = lambda ele: int(ele.split('_')[1]))\n",
    "X_new = X_infos_df[features]\n",
    "X_new "
   ]
  },
  {
   "cell_type": "code",
   "execution_count": 12,
   "metadata": {},
   "outputs": [],
   "source": [
    "X_new = x"
   ]
  },
  {
   "cell_type": "code",
   "execution_count": 13,
   "metadata": {},
   "outputs": [
    {
     "name": "stdout",
     "output_type": "stream",
     "text": [
      "BACC: 0.6\n",
      "F1: 0.46\n",
      "AUC: 0.6\n",
      "MCC: 0.21\n",
      "Precision: 0.51\n",
      "Sen: 0.43\n",
      "Spe: 0.77\n",
      "TP: 59\n",
      "FP: 57\n",
      "TN: 191\n",
      "FN: 79\n"
     ]
    }
   ],
   "source": [
    "from sklearn.metrics import confusion_matrix\n",
    "import pandas as pd\n",
    "import math\n",
    "\n",
    "# Perform external validation\n",
    "preds = model.predict(X_new)\n",
    "\n",
    "def compute_metrics(y_test, y_pred):\n",
    "    cm = confusion_matrix(y_test, y_pred)\n",
    "    tp = cm[1, 1]\n",
    "    tn = cm[0, 0]\n",
    "    fn = cm[1, 0]\n",
    "    fp = cm[0, 1]\n",
    "    Sensitivity = tp / (tp + fn) #recall\n",
    "    Specificity = tn / (tn + fp)\n",
    "    precision = tp / (tp + fp)\n",
    "    bacc = (Sensitivity + Specificity) / 2\n",
    "    mcc = (tp*tn - fp*fn) / math.sqrt((tp+fp)*(tp+fn)*(tn+fp)*(tn+fn))\n",
    "    f1 = 2 * (precision * Sensitivity) / (precision + Sensitivity)\n",
    "    auc = roc_auc_score(y_test, y_pred)\n",
    "    return {\n",
    "        'BACC': bacc,\n",
    "        'F1': f1,\n",
    "        'AUC': auc,\n",
    "        'MCC': mcc,\n",
    "        'Precision': precision,\n",
    "        'Sen': Sensitivity,\n",
    "        'Spe': Specificity,\n",
    "        'TP': tp,\n",
    "        'FP': fp,\n",
    "        'TN': tn,\n",
    "        'FN': fn\n",
    "    }\n",
    "\n",
    "# Use the function\n",
    "metrics = compute_metrics(y, preds)\n",
    "\n",
    "# Print metrics\n",
    "for metric, value in metrics.items():\n",
    "    print(f\"{metric}: {round(value, 2)}\")"
   ]
  }
 ],
 "metadata": {
  "kernelspec": {
   "display_name": "rods_env_1",
   "language": "python",
   "name": "python3"
  },
  "language_info": {
   "codemirror_mode": {
    "name": "ipython",
    "version": 3
   },
   "file_extension": ".py",
   "mimetype": "text/x-python",
   "name": "python",
   "nbconvert_exporter": "python",
   "pygments_lexer": "ipython3",
   "version": "3.12.4"
  }
 },
 "nbformat": 4,
 "nbformat_minor": 2
}

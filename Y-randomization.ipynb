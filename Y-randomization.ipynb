{
 "cells": [
  {
   "cell_type": "code",
   "execution_count": null,
   "metadata": {},
   "outputs": [],
   "source": [
    "import joblib\n",
    "import json\n",
    "from sklearn.metrics import balanced_accuracy_score, f1_score, roc_auc_score, matthews_corrcoef, precision_score, recall_score\n",
    "\n",
    "# Load the model\n",
    "model = joblib.load(r\"C:\\Users\\franc\\OneDrive\\Documentos\\LabMol\\IC-Citotoxicidade\\SERVIDOR CYTO SAFE\\New_Cytosafe\\HEK293\\model_LGBM_173f.joblib\")\n",
    "\n",
    "# Load the external data\n",
    "with open(r\"C:\\Users\\franc\\OneDrive\\Documentos\\LabMol\\IC-Citotoxicidade\\SERVIDOR CYTO SAFE\\New_Cytosafe\\HEK293\\curated_data\\x\\binary\\x_ext\\x_ext_ecfp_fp_2_1024.json\", 'r') as f:\n",
    "    x = json.load(f)\n",
    "\n",
    "with open(r\"C:\\Users\\franc\\OneDrive\\Documentos\\LabMol\\IC-Citotoxicidade\\SERVIDOR CYTO SAFE\\New_Cytosafe\\HEK293\\curated_data\\y\\binary\\y_ext\\y_ext_ecfp_fp_2_1024.json\", 'r') as f:\n",
    "    y = json.load(f)\n"
   ]
  },
  {
   "cell_type": "code",
   "execution_count": null,
   "metadata": {},
   "outputs": [],
   "source": [
    "import random\n",
    "random.shuffle(y)"
   ]
  },
  {
   "cell_type": "code",
   "execution_count": null,
   "metadata": {},
   "outputs": [],
   "source": [
    "import numpy as np\n",
    "import pandas as pd\n",
    "\n",
    "X_infos_df = pd.DataFrame(x)\n",
    "X_infos_df = X_infos_df.add_prefix('var_')\n",
    "\n",
    "features_sel = np.array(['var_1', 'var_2', 'var_4', 'var_6', 'var_15', 'var_19', 'var_23',\n",
    "       'var_29', 'var_33', 'var_36', 'var_41', 'var_42', 'var_45',\n",
    "       'var_46', 'var_63', 'var_64', 'var_72', 'var_74', 'var_80',\n",
    "       'var_83', 'var_86', 'var_90', 'var_92', 'var_114', 'var_115',\n",
    "       'var_117', 'var_119', 'var_121', 'var_128', 'var_136', 'var_138',\n",
    "       'var_139', 'var_140', 'var_175', 'var_191', 'var_197', 'var_209',\n",
    "       'var_212', 'var_216', 'var_218', 'var_222', 'var_233', 'var_242',\n",
    "       'var_249', 'var_250', 'var_255', 'var_271', 'var_283', 'var_284',\n",
    "       'var_288', 'var_294', 'var_301', 'var_310', 'var_314', 'var_316',\n",
    "       'var_322', 'var_333', 'var_352', 'var_361', 'var_367', 'var_378',\n",
    "       'var_381', 'var_383', 'var_387', 'var_389', 'var_393', 'var_407',\n",
    "       'var_418', 'var_428', 'var_452', 'var_456', 'var_458', 'var_472',\n",
    "       'var_480', 'var_481', 'var_482', 'var_484', 'var_486', 'var_491',\n",
    "       'var_492', 'var_511', 'var_518', 'var_519', 'var_521', 'var_523',\n",
    "       'var_531', 'var_540', 'var_549', 'var_551', 'var_556', 'var_561',\n",
    "       'var_562', 'var_573', 'var_574', 'var_579', 'var_585', 'var_590',\n",
    "       'var_602', 'var_628', 'var_641', 'var_646', 'var_650', 'var_651',\n",
    "       'var_652', 'var_656', 'var_659', 'var_665', 'var_667', 'var_669',\n",
    "       'var_673', 'var_675', 'var_689', 'var_692', 'var_695', 'var_698',\n",
    "       'var_699', 'var_703', 'var_713', 'var_714', 'var_715', 'var_718',\n",
    "       'var_726', 'var_730', 'var_736', 'var_738', 'var_739', 'var_741',\n",
    "       'var_751', 'var_758', 'var_767', 'var_772', 'var_778', 'var_785',\n",
    "       'var_792', 'var_798', 'var_799', 'var_801', 'var_802', 'var_807',\n",
    "       'var_828', 'var_831', 'var_832', 'var_841', 'var_842', 'var_843',\n",
    "       'var_847', 'var_849', 'var_852', 'var_864', 'var_875', 'var_881',\n",
    "       'var_883', 'var_886', 'var_890', 'var_893', 'var_896', 'var_899',\n",
    "       'var_904', 'var_922', 'var_926', 'var_932', 'var_935', 'var_940',\n",
    "       'var_946', 'var_950', 'var_976', 'var_980', 'var_985', 'var_998',\n",
    "       'var_1005', 'var_1008', 'var_1017', 'var_1019'], dtype=object)\n"
   ]
  },
  {
   "cell_type": "code",
   "execution_count": null,
   "metadata": {},
   "outputs": [],
   "source": [
    "#features = sorted(features_sel, reverse = False, key = lambda ele: int(ele.split('_')[1]))\n",
    "features = sorted(features_sel, reverse = False, key = lambda ele: int(ele.split('_')[1]))\n",
    "X_new = X_infos_df[features]\n",
    "X_new "
   ]
  },
  {
   "cell_type": "code",
   "execution_count": null,
   "metadata": {},
   "outputs": [],
   "source": [
    "from sklearn.metrics import confusion_matrix\n",
    "import pandas as pd\n",
    "\n",
    "# Perform external validation\n",
    "preds = model.predict(X_new)\n",
    "\n",
    "# Calculate metrics\n",
    "balanced_accuracy = round(balanced_accuracy_score(y, preds), 2)\n",
    "f1 = round(f1_score(y, preds, average='weighted'), 2)\n",
    "roc_auc = round(roc_auc_score(y, preds, multi_class='ovr'), 2)\n",
    "mcc = round(matthews_corrcoef(y, preds), 2)\n",
    "precision = round(precision_score(y, preds, average='weighted'), 2)\n",
    "\n",
    "# Calculate confusion matrix\n",
    "cm = confusion_matrix(y, preds)\n",
    "\n",
    "# Calculate sensitivity and specificity\n",
    "sensitivity = round(cm[1, 1] / (cm[1, 1] + cm[1, 0]), 2)  # Corrected\n",
    "specificity = round(cm[0, 0] / (cm[0, 0] + cm[0, 1]), 2)  # Unchanged\n",
    "\n",
    "# Print metrics\n",
    "print(f\"Balanced Accuracy: {balanced_accuracy}\")\n",
    "print(f\"F1-score: {f1}\")\n",
    "print(f\"AUC: {roc_auc}\")\n",
    "print(f\"MCC: {mcc}\")\n",
    "print(f\"Precision: {precision}\")\n",
    "print(f\"Sensitivity: {sensitivity}\")\n",
    "print(f\"Specificity: {specificity}\")\n",
    "\n",
    "# Print confusion matrix\n",
    "print(\"\\nConfusion Matrix:\")\n",
    "# Assign TP, FP, TN, FN\n",
    "TP = cm[1, 1]\n",
    "FP = cm[0, 1]\n",
    "TN = cm[0, 0]\n",
    "FN = cm[1, 0]\n",
    "\n",
    "# Print TP, FP, TN, FN\n",
    "print(f\"True Positives: {TP}\")\n",
    "print(f\"False Positives: {FP}\")\n",
    "print(f\"True Negatives: {TN}\")\n",
    "print(f\"False Negatives: {FN}\")"
   ]
  }
 ],
 "metadata": {
  "kernelspec": {
   "display_name": "rods_env_1",
   "language": "python",
   "name": "python3"
  },
  "language_info": {
   "codemirror_mode": {
    "name": "ipython",
    "version": 3
   },
   "file_extension": ".py",
   "mimetype": "text/x-python",
   "name": "python",
   "nbconvert_exporter": "python",
   "pygments_lexer": "ipython3",
   "version": "3.10.6"
  }
 },
 "nbformat": 4,
 "nbformat_minor": 2
}

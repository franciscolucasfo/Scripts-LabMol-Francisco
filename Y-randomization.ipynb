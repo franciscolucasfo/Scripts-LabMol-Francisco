{
 "cells": [
  {
   "cell_type": "code",
   "execution_count": 4,
   "metadata": {},
   "outputs": [],
   "source": [
    "import numpy as np\n",
    "import pandas as pd\n",
    "import joblib\n",
    "import json\n",
    "\n",
    "#Savepath\n",
    "save_path = r\"D:\\OneDrive\\Documentos\\LabMol\\IC-Citotoxicidade\\SERVIDOR CYTO SAFE\\New_Cytosafe\\HEK293\\y_randomization_results_HEK.xlsx\"\n",
    "\n",
    "# Load the model\n",
    "model_base = joblib.load(r\"D:\\OneDrive\\Documentos\\LabMol\\IC-Citotoxicidade\\SERVIDOR CYTO SAFE\\New_Cytosafe\\HEK293\\model_LGBM_173f.joblib\")\n",
    "\n",
    "# Load the external data\n",
    "with open(r\"D:\\OneDrive\\Documentos\\LabMol\\IC-Citotoxicidade\\SERVIDOR CYTO SAFE\\New_Cytosafe\\HEK293\\curated_data\\x\\binary\\x_ext\\x_ext_ecfp_fp_2_1024.json\", 'r') as f:\n",
    "    x_test = json.load(f)\n",
    "\n",
    "with open(r\"D:\\OneDrive\\Documentos\\LabMol\\IC-Citotoxicidade\\SERVIDOR CYTO SAFE\\New_Cytosafe\\HEK293\\curated_data\\y\\binary\\y_ext\\y_ext_ecfp_fp_2_1024.json\", 'r') as f:\n",
    "    y_test = json.load(f)\n",
    "\n",
    "# Load the internal data\n",
    "with open(r\"D:\\OneDrive\\Documentos\\LabMol\\IC-Citotoxicidade\\SERVIDOR CYTO SAFE\\New_Cytosafe\\HEK293\\curated_data\\x\\binary\\x_train\\x_train_ecfp_fp_2_1024.json\", 'r') as f:\n",
    "    x_train = json.load(f)\n",
    "\n",
    "with open(r\"D:\\OneDrive\\Documentos\\LabMol\\IC-Citotoxicidade\\SERVIDOR CYTO SAFE\\New_Cytosafe\\HEK293\\curated_data\\y\\binary\\y_train\\y_train_ecfp_fp_2_1024.json\", 'r') as f:\n",
    "    y_train = json.load(f)\n",
    "\n"
   ]
  },
  {
   "cell_type": "code",
   "execution_count": 5,
   "metadata": {},
   "outputs": [],
   "source": [
    "X_ext_infos_df = pd.DataFrame(x_test)\n",
    "X_ext_infos_df = X_ext_infos_df.add_prefix('var_')\n",
    "\n",
    "X_int_infos_df = pd.DataFrame(x_train)\n",
    "X_int_infos_df = X_int_infos_df.add_prefix('var_')\n",
    "\n",
    "\n",
    "features_sel = np.array(['var_1', 'var_2', 'var_4', 'var_6', 'var_15', 'var_19', 'var_23',\n",
    "       'var_29', 'var_33', 'var_36', 'var_41', 'var_42', 'var_45',\n",
    "       'var_46', 'var_63', 'var_64', 'var_72', 'var_74', 'var_80',\n",
    "       'var_83', 'var_86', 'var_90', 'var_92', 'var_114', 'var_115',\n",
    "       'var_117', 'var_119', 'var_121', 'var_128', 'var_136', 'var_138',\n",
    "       'var_139', 'var_140', 'var_175', 'var_191', 'var_197', 'var_209',\n",
    "       'var_212', 'var_216', 'var_218', 'var_222', 'var_233', 'var_242',\n",
    "       'var_249', 'var_250', 'var_255', 'var_271', 'var_283', 'var_284',\n",
    "       'var_288', 'var_294', 'var_301', 'var_310', 'var_314', 'var_316',\n",
    "       'var_322', 'var_333', 'var_352', 'var_361', 'var_367', 'var_378',\n",
    "       'var_381', 'var_383', 'var_387', 'var_389', 'var_393', 'var_407',\n",
    "       'var_418', 'var_428', 'var_452', 'var_456', 'var_458', 'var_472',\n",
    "       'var_480', 'var_481', 'var_482', 'var_484', 'var_486', 'var_491',\n",
    "       'var_492', 'var_511', 'var_518', 'var_519', 'var_521', 'var_523',\n",
    "       'var_531', 'var_540', 'var_549', 'var_551', 'var_556', 'var_561',\n",
    "       'var_562', 'var_573', 'var_574', 'var_579', 'var_585', 'var_590',\n",
    "       'var_602', 'var_628', 'var_641', 'var_646', 'var_650', 'var_651',\n",
    "       'var_652', 'var_656', 'var_659', 'var_665', 'var_667', 'var_669',\n",
    "       'var_673', 'var_675', 'var_689', 'var_692', 'var_695', 'var_698',\n",
    "       'var_699', 'var_703', 'var_713', 'var_714', 'var_715', 'var_718',\n",
    "       'var_726', 'var_730', 'var_736', 'var_738', 'var_739', 'var_741',\n",
    "       'var_751', 'var_758', 'var_767', 'var_772', 'var_778', 'var_785',\n",
    "       'var_792', 'var_798', 'var_799', 'var_801', 'var_802', 'var_807',\n",
    "       'var_828', 'var_831', 'var_832', 'var_841', 'var_842', 'var_843',\n",
    "       'var_847', 'var_849', 'var_852', 'var_864', 'var_875', 'var_881',\n",
    "       'var_883', 'var_886', 'var_890', 'var_893', 'var_896', 'var_899',\n",
    "       'var_904', 'var_922', 'var_926', 'var_932', 'var_935', 'var_940',\n",
    "       'var_946', 'var_950', 'var_976', 'var_980', 'var_985', 'var_998',\n",
    "       'var_1005', 'var_1008', 'var_1017', 'var_1019'], dtype=object)\n"
   ]
  },
  {
   "cell_type": "code",
   "execution_count": 6,
   "metadata": {},
   "outputs": [],
   "source": [
    "features = sorted(features_sel, reverse = False, key = lambda ele: int(ele.split('_')[1]))\n",
    "x_ext_new = X_ext_infos_df[features]\n",
    "x_int_new = X_int_infos_df[features]"
   ]
  },
  {
   "cell_type": "code",
   "execution_count": 7,
   "metadata": {},
   "outputs": [
    {
     "name": "stderr",
     "output_type": "stream",
     "text": [
      "c:\\Users\\LabMo\\anaconda3\\envs\\my-rdkit-env\\Lib\\site-packages\\lightgbm\\engine.py:204: UserWarning: Found `num_iterations` in params. Will use it instead of argument\n",
      "  _log_warning(f\"Found `{alias}` in params. Will use it instead of argument\")\n"
     ]
    },
    {
     "name": "stdout",
     "output_type": "stream",
     "text": [
      "[LightGBM] [Info] Number of positive: 4913, number of negative: 24563\n",
      "[LightGBM] [Info] Auto-choosing row-wise multi-threading, the overhead of testing was 0.083732 seconds.\n",
      "You can set `force_row_wise=true` to remove the overhead.\n",
      "And if memory is not enough, you can set `force_col_wise=true`.\n",
      "[LightGBM] [Info] Total Bins 2048\n",
      "[LightGBM] [Info] Number of data points in the train set: 29476, number of used features: 1024\n",
      "[LightGBM] [Info] [binary:BoostFromScore]: pavg=0.166678 -> initscore=-1.609356\n",
      "[LightGBM] [Info] Start training from score -1.609356\n"
     ]
    },
    {
     "name": "stderr",
     "output_type": "stream",
     "text": [
      "c:\\Users\\LabMo\\anaconda3\\envs\\my-rdkit-env\\Lib\\site-packages\\lightgbm\\engine.py:204: UserWarning: Found `num_iterations` in params. Will use it instead of argument\n",
      "  _log_warning(f\"Found `{alias}` in params. Will use it instead of argument\")\n"
     ]
    },
    {
     "name": "stdout",
     "output_type": "stream",
     "text": [
      "[LightGBM] [Info] Number of positive: 4913, number of negative: 24563\n",
      "[LightGBM] [Info] Auto-choosing row-wise multi-threading, the overhead of testing was 0.084593 seconds.\n",
      "You can set `force_row_wise=true` to remove the overhead.\n",
      "And if memory is not enough, you can set `force_col_wise=true`.\n",
      "[LightGBM] [Info] Total Bins 2048\n",
      "[LightGBM] [Info] Number of data points in the train set: 29476, number of used features: 1024\n",
      "[LightGBM] [Info] [binary:BoostFromScore]: pavg=0.166678 -> initscore=-1.609356\n",
      "[LightGBM] [Info] Start training from score -1.609356\n"
     ]
    },
    {
     "name": "stderr",
     "output_type": "stream",
     "text": [
      "c:\\Users\\LabMo\\anaconda3\\envs\\my-rdkit-env\\Lib\\site-packages\\lightgbm\\engine.py:204: UserWarning: Found `num_iterations` in params. Will use it instead of argument\n",
      "  _log_warning(f\"Found `{alias}` in params. Will use it instead of argument\")\n"
     ]
    },
    {
     "name": "stdout",
     "output_type": "stream",
     "text": [
      "[LightGBM] [Info] Number of positive: 4913, number of negative: 24563\n",
      "[LightGBM] [Info] Auto-choosing row-wise multi-threading, the overhead of testing was 0.082431 seconds.\n",
      "You can set `force_row_wise=true` to remove the overhead.\n",
      "And if memory is not enough, you can set `force_col_wise=true`.\n",
      "[LightGBM] [Info] Total Bins 2048\n",
      "[LightGBM] [Info] Number of data points in the train set: 29476, number of used features: 1024\n",
      "[LightGBM] [Info] [binary:BoostFromScore]: pavg=0.166678 -> initscore=-1.609356\n",
      "[LightGBM] [Info] Start training from score -1.609356\n"
     ]
    },
    {
     "name": "stderr",
     "output_type": "stream",
     "text": [
      "c:\\Users\\LabMo\\anaconda3\\envs\\my-rdkit-env\\Lib\\site-packages\\lightgbm\\engine.py:204: UserWarning: Found `num_iterations` in params. Will use it instead of argument\n",
      "  _log_warning(f\"Found `{alias}` in params. Will use it instead of argument\")\n"
     ]
    },
    {
     "name": "stdout",
     "output_type": "stream",
     "text": [
      "[LightGBM] [Info] Number of positive: 4913, number of negative: 24563\n",
      "[LightGBM] [Info] Auto-choosing row-wise multi-threading, the overhead of testing was 0.084270 seconds.\n",
      "You can set `force_row_wise=true` to remove the overhead.\n",
      "And if memory is not enough, you can set `force_col_wise=true`.\n",
      "[LightGBM] [Info] Total Bins 2048\n",
      "[LightGBM] [Info] Number of data points in the train set: 29476, number of used features: 1024\n",
      "[LightGBM] [Info] [binary:BoostFromScore]: pavg=0.166678 -> initscore=-1.609356\n",
      "[LightGBM] [Info] Start training from score -1.609356\n",
      "[LightGBM] [Warning] No further splits with positive gain, best gain: -inf\n",
      "[LightGBM] [Warning] No further splits with positive gain, best gain: -inf\n"
     ]
    },
    {
     "name": "stderr",
     "output_type": "stream",
     "text": [
      "c:\\Users\\LabMo\\anaconda3\\envs\\my-rdkit-env\\Lib\\site-packages\\lightgbm\\engine.py:204: UserWarning: Found `num_iterations` in params. Will use it instead of argument\n",
      "  _log_warning(f\"Found `{alias}` in params. Will use it instead of argument\")\n"
     ]
    },
    {
     "name": "stdout",
     "output_type": "stream",
     "text": [
      "[LightGBM] [Info] Number of positive: 4913, number of negative: 24563\n",
      "[LightGBM] [Info] Auto-choosing row-wise multi-threading, the overhead of testing was 0.085214 seconds.\n",
      "You can set `force_row_wise=true` to remove the overhead.\n",
      "And if memory is not enough, you can set `force_col_wise=true`.\n",
      "[LightGBM] [Info] Total Bins 2048\n",
      "[LightGBM] [Info] Number of data points in the train set: 29476, number of used features: 1024\n",
      "[LightGBM] [Info] [binary:BoostFromScore]: pavg=0.166678 -> initscore=-1.609356\n",
      "[LightGBM] [Info] Start training from score -1.609356\n"
     ]
    },
    {
     "name": "stderr",
     "output_type": "stream",
     "text": [
      "c:\\Users\\LabMo\\anaconda3\\envs\\my-rdkit-env\\Lib\\site-packages\\lightgbm\\engine.py:204: UserWarning: Found `num_iterations` in params. Will use it instead of argument\n",
      "  _log_warning(f\"Found `{alias}` in params. Will use it instead of argument\")\n"
     ]
    },
    {
     "name": "stdout",
     "output_type": "stream",
     "text": [
      "[LightGBM] [Info] Number of positive: 4913, number of negative: 24563\n",
      "[LightGBM] [Info] Auto-choosing row-wise multi-threading, the overhead of testing was 0.080904 seconds.\n",
      "You can set `force_row_wise=true` to remove the overhead.\n",
      "And if memory is not enough, you can set `force_col_wise=true`.\n",
      "[LightGBM] [Info] Total Bins 2048\n",
      "[LightGBM] [Info] Number of data points in the train set: 29476, number of used features: 1024\n",
      "[LightGBM] [Info] [binary:BoostFromScore]: pavg=0.166678 -> initscore=-1.609356\n",
      "[LightGBM] [Info] Start training from score -1.609356\n"
     ]
    },
    {
     "name": "stderr",
     "output_type": "stream",
     "text": [
      "c:\\Users\\LabMo\\anaconda3\\envs\\my-rdkit-env\\Lib\\site-packages\\lightgbm\\engine.py:204: UserWarning: Found `num_iterations` in params. Will use it instead of argument\n",
      "  _log_warning(f\"Found `{alias}` in params. Will use it instead of argument\")\n"
     ]
    },
    {
     "name": "stdout",
     "output_type": "stream",
     "text": [
      "[LightGBM] [Info] Number of positive: 4913, number of negative: 24563\n",
      "[LightGBM] [Info] Auto-choosing row-wise multi-threading, the overhead of testing was 0.082256 seconds.\n",
      "You can set `force_row_wise=true` to remove the overhead.\n",
      "And if memory is not enough, you can set `force_col_wise=true`.\n",
      "[LightGBM] [Info] Total Bins 2048\n",
      "[LightGBM] [Info] Number of data points in the train set: 29476, number of used features: 1024\n",
      "[LightGBM] [Info] [binary:BoostFromScore]: pavg=0.166678 -> initscore=-1.609356\n",
      "[LightGBM] [Info] Start training from score -1.609356\n"
     ]
    },
    {
     "name": "stderr",
     "output_type": "stream",
     "text": [
      "c:\\Users\\LabMo\\anaconda3\\envs\\my-rdkit-env\\Lib\\site-packages\\lightgbm\\engine.py:204: UserWarning: Found `num_iterations` in params. Will use it instead of argument\n",
      "  _log_warning(f\"Found `{alias}` in params. Will use it instead of argument\")\n"
     ]
    },
    {
     "name": "stdout",
     "output_type": "stream",
     "text": [
      "[LightGBM] [Info] Number of positive: 4913, number of negative: 24563\n",
      "[LightGBM] [Info] Auto-choosing row-wise multi-threading, the overhead of testing was 0.086122 seconds.\n",
      "You can set `force_row_wise=true` to remove the overhead.\n",
      "And if memory is not enough, you can set `force_col_wise=true`.\n",
      "[LightGBM] [Info] Total Bins 2048\n",
      "[LightGBM] [Info] Number of data points in the train set: 29476, number of used features: 1024\n",
      "[LightGBM] [Info] [binary:BoostFromScore]: pavg=0.166678 -> initscore=-1.609356\n",
      "[LightGBM] [Info] Start training from score -1.609356\n"
     ]
    },
    {
     "name": "stderr",
     "output_type": "stream",
     "text": [
      "c:\\Users\\LabMo\\anaconda3\\envs\\my-rdkit-env\\Lib\\site-packages\\lightgbm\\engine.py:204: UserWarning: Found `num_iterations` in params. Will use it instead of argument\n",
      "  _log_warning(f\"Found `{alias}` in params. Will use it instead of argument\")\n"
     ]
    },
    {
     "name": "stdout",
     "output_type": "stream",
     "text": [
      "[LightGBM] [Info] Number of positive: 4913, number of negative: 24563\n",
      "[LightGBM] [Info] Auto-choosing row-wise multi-threading, the overhead of testing was 0.083097 seconds.\n",
      "You can set `force_row_wise=true` to remove the overhead.\n",
      "And if memory is not enough, you can set `force_col_wise=true`.\n",
      "[LightGBM] [Info] Total Bins 2048\n",
      "[LightGBM] [Info] Number of data points in the train set: 29476, number of used features: 1024\n",
      "[LightGBM] [Info] [binary:BoostFromScore]: pavg=0.166678 -> initscore=-1.609356\n",
      "[LightGBM] [Info] Start training from score -1.609356\n",
      "[LightGBM] [Warning] No further splits with positive gain, best gain: -inf\n"
     ]
    },
    {
     "name": "stderr",
     "output_type": "stream",
     "text": [
      "c:\\Users\\LabMo\\anaconda3\\envs\\my-rdkit-env\\Lib\\site-packages\\lightgbm\\engine.py:204: UserWarning: Found `num_iterations` in params. Will use it instead of argument\n",
      "  _log_warning(f\"Found `{alias}` in params. Will use it instead of argument\")\n"
     ]
    },
    {
     "name": "stdout",
     "output_type": "stream",
     "text": [
      "[LightGBM] [Info] Number of positive: 4913, number of negative: 24563\n",
      "[LightGBM] [Info] Auto-choosing row-wise multi-threading, the overhead of testing was 0.081011 seconds.\n",
      "You can set `force_row_wise=true` to remove the overhead.\n",
      "And if memory is not enough, you can set `force_col_wise=true`.\n",
      "[LightGBM] [Info] Total Bins 2048\n",
      "[LightGBM] [Info] Number of data points in the train set: 29476, number of used features: 1024\n",
      "[LightGBM] [Info] [binary:BoostFromScore]: pavg=0.166678 -> initscore=-1.609356\n",
      "[LightGBM] [Info] Start training from score -1.609356\n",
      "[LightGBM] [Warning] No further splits with positive gain, best gain: -inf\n"
     ]
    },
    {
     "name": "stderr",
     "output_type": "stream",
     "text": [
      "c:\\Users\\LabMo\\anaconda3\\envs\\my-rdkit-env\\Lib\\site-packages\\lightgbm\\engine.py:204: UserWarning: Found `num_iterations` in params. Will use it instead of argument\n",
      "  _log_warning(f\"Found `{alias}` in params. Will use it instead of argument\")\n"
     ]
    },
    {
     "name": "stdout",
     "output_type": "stream",
     "text": [
      "[LightGBM] [Info] Number of positive: 4913, number of negative: 24563\n",
      "[LightGBM] [Info] Auto-choosing row-wise multi-threading, the overhead of testing was 0.080688 seconds.\n",
      "You can set `force_row_wise=true` to remove the overhead.\n",
      "And if memory is not enough, you can set `force_col_wise=true`.\n",
      "[LightGBM] [Info] Total Bins 2048\n",
      "[LightGBM] [Info] Number of data points in the train set: 29476, number of used features: 1024\n",
      "[LightGBM] [Info] [binary:BoostFromScore]: pavg=0.166678 -> initscore=-1.609356\n",
      "[LightGBM] [Info] Start training from score -1.609356\n",
      "[LightGBM] [Warning] No further splits with positive gain, best gain: -inf\n"
     ]
    },
    {
     "name": "stderr",
     "output_type": "stream",
     "text": [
      "c:\\Users\\LabMo\\anaconda3\\envs\\my-rdkit-env\\Lib\\site-packages\\lightgbm\\engine.py:204: UserWarning: Found `num_iterations` in params. Will use it instead of argument\n",
      "  _log_warning(f\"Found `{alias}` in params. Will use it instead of argument\")\n"
     ]
    },
    {
     "name": "stdout",
     "output_type": "stream",
     "text": [
      "[LightGBM] [Info] Number of positive: 4913, number of negative: 24563\n",
      "[LightGBM] [Info] Auto-choosing row-wise multi-threading, the overhead of testing was 0.081825 seconds.\n",
      "You can set `force_row_wise=true` to remove the overhead.\n",
      "And if memory is not enough, you can set `force_col_wise=true`.\n",
      "[LightGBM] [Info] Total Bins 2048\n",
      "[LightGBM] [Info] Number of data points in the train set: 29476, number of used features: 1024\n",
      "[LightGBM] [Info] [binary:BoostFromScore]: pavg=0.166678 -> initscore=-1.609356\n",
      "[LightGBM] [Info] Start training from score -1.609356\n"
     ]
    },
    {
     "name": "stderr",
     "output_type": "stream",
     "text": [
      "c:\\Users\\LabMo\\anaconda3\\envs\\my-rdkit-env\\Lib\\site-packages\\lightgbm\\engine.py:204: UserWarning: Found `num_iterations` in params. Will use it instead of argument\n",
      "  _log_warning(f\"Found `{alias}` in params. Will use it instead of argument\")\n"
     ]
    },
    {
     "name": "stdout",
     "output_type": "stream",
     "text": [
      "[LightGBM] [Info] Number of positive: 4913, number of negative: 24563\n",
      "[LightGBM] [Info] Auto-choosing row-wise multi-threading, the overhead of testing was 0.079689 seconds.\n",
      "You can set `force_row_wise=true` to remove the overhead.\n",
      "And if memory is not enough, you can set `force_col_wise=true`.\n",
      "[LightGBM] [Info] Total Bins 2048\n",
      "[LightGBM] [Info] Number of data points in the train set: 29476, number of used features: 1024\n",
      "[LightGBM] [Info] [binary:BoostFromScore]: pavg=0.166678 -> initscore=-1.609356\n",
      "[LightGBM] [Info] Start training from score -1.609356\n",
      "[LightGBM] [Warning] No further splits with positive gain, best gain: -inf\n"
     ]
    },
    {
     "name": "stderr",
     "output_type": "stream",
     "text": [
      "c:\\Users\\LabMo\\anaconda3\\envs\\my-rdkit-env\\Lib\\site-packages\\lightgbm\\engine.py:204: UserWarning: Found `num_iterations` in params. Will use it instead of argument\n",
      "  _log_warning(f\"Found `{alias}` in params. Will use it instead of argument\")\n"
     ]
    },
    {
     "name": "stdout",
     "output_type": "stream",
     "text": [
      "[LightGBM] [Info] Number of positive: 4913, number of negative: 24563\n",
      "[LightGBM] [Info] Auto-choosing row-wise multi-threading, the overhead of testing was 0.081127 seconds.\n",
      "You can set `force_row_wise=true` to remove the overhead.\n",
      "And if memory is not enough, you can set `force_col_wise=true`.\n",
      "[LightGBM] [Info] Total Bins 2048\n",
      "[LightGBM] [Info] Number of data points in the train set: 29476, number of used features: 1024\n",
      "[LightGBM] [Info] [binary:BoostFromScore]: pavg=0.166678 -> initscore=-1.609356\n",
      "[LightGBM] [Info] Start training from score -1.609356\n"
     ]
    },
    {
     "name": "stderr",
     "output_type": "stream",
     "text": [
      "c:\\Users\\LabMo\\anaconda3\\envs\\my-rdkit-env\\Lib\\site-packages\\lightgbm\\engine.py:204: UserWarning: Found `num_iterations` in params. Will use it instead of argument\n",
      "  _log_warning(f\"Found `{alias}` in params. Will use it instead of argument\")\n"
     ]
    },
    {
     "name": "stdout",
     "output_type": "stream",
     "text": [
      "[LightGBM] [Info] Number of positive: 4913, number of negative: 24563\n",
      "[LightGBM] [Info] Auto-choosing row-wise multi-threading, the overhead of testing was 0.079479 seconds.\n",
      "You can set `force_row_wise=true` to remove the overhead.\n",
      "And if memory is not enough, you can set `force_col_wise=true`.\n",
      "[LightGBM] [Info] Total Bins 2048\n",
      "[LightGBM] [Info] Number of data points in the train set: 29476, number of used features: 1024\n",
      "[LightGBM] [Info] [binary:BoostFromScore]: pavg=0.166678 -> initscore=-1.609356\n",
      "[LightGBM] [Info] Start training from score -1.609356\n"
     ]
    },
    {
     "name": "stderr",
     "output_type": "stream",
     "text": [
      "c:\\Users\\LabMo\\anaconda3\\envs\\my-rdkit-env\\Lib\\site-packages\\lightgbm\\engine.py:204: UserWarning: Found `num_iterations` in params. Will use it instead of argument\n",
      "  _log_warning(f\"Found `{alias}` in params. Will use it instead of argument\")\n"
     ]
    },
    {
     "name": "stdout",
     "output_type": "stream",
     "text": [
      "[LightGBM] [Info] Number of positive: 4913, number of negative: 24563\n",
      "[LightGBM] [Info] Auto-choosing col-wise multi-threading, the overhead of testing was 0.153613 seconds.\n",
      "You can set `force_col_wise=true` to remove the overhead.\n",
      "[LightGBM] [Info] Total Bins 2048\n",
      "[LightGBM] [Info] Number of data points in the train set: 29476, number of used features: 1024\n",
      "[LightGBM] [Info] [binary:BoostFromScore]: pavg=0.166678 -> initscore=-1.609356\n",
      "[LightGBM] [Info] Start training from score -1.609356\n",
      "[LightGBM] [Warning] No further splits with positive gain, best gain: -inf\n"
     ]
    },
    {
     "name": "stderr",
     "output_type": "stream",
     "text": [
      "c:\\Users\\LabMo\\anaconda3\\envs\\my-rdkit-env\\Lib\\site-packages\\lightgbm\\engine.py:204: UserWarning: Found `num_iterations` in params. Will use it instead of argument\n",
      "  _log_warning(f\"Found `{alias}` in params. Will use it instead of argument\")\n"
     ]
    },
    {
     "name": "stdout",
     "output_type": "stream",
     "text": [
      "[LightGBM] [Info] Number of positive: 4913, number of negative: 24563\n",
      "[LightGBM] [Info] Auto-choosing row-wise multi-threading, the overhead of testing was 0.082896 seconds.\n",
      "You can set `force_row_wise=true` to remove the overhead.\n",
      "And if memory is not enough, you can set `force_col_wise=true`.\n",
      "[LightGBM] [Info] Total Bins 2048\n",
      "[LightGBM] [Info] Number of data points in the train set: 29476, number of used features: 1024\n",
      "[LightGBM] [Info] [binary:BoostFromScore]: pavg=0.166678 -> initscore=-1.609356\n",
      "[LightGBM] [Info] Start training from score -1.609356\n"
     ]
    },
    {
     "name": "stderr",
     "output_type": "stream",
     "text": [
      "c:\\Users\\LabMo\\anaconda3\\envs\\my-rdkit-env\\Lib\\site-packages\\lightgbm\\engine.py:204: UserWarning: Found `num_iterations` in params. Will use it instead of argument\n",
      "  _log_warning(f\"Found `{alias}` in params. Will use it instead of argument\")\n"
     ]
    },
    {
     "name": "stdout",
     "output_type": "stream",
     "text": [
      "[LightGBM] [Info] Number of positive: 4913, number of negative: 24563\n",
      "[LightGBM] [Info] Auto-choosing row-wise multi-threading, the overhead of testing was 0.089938 seconds.\n",
      "You can set `force_row_wise=true` to remove the overhead.\n",
      "And if memory is not enough, you can set `force_col_wise=true`.\n",
      "[LightGBM] [Info] Total Bins 2048\n",
      "[LightGBM] [Info] Number of data points in the train set: 29476, number of used features: 1024\n",
      "[LightGBM] [Info] [binary:BoostFromScore]: pavg=0.166678 -> initscore=-1.609356\n",
      "[LightGBM] [Info] Start training from score -1.609356\n"
     ]
    },
    {
     "name": "stderr",
     "output_type": "stream",
     "text": [
      "c:\\Users\\LabMo\\anaconda3\\envs\\my-rdkit-env\\Lib\\site-packages\\lightgbm\\engine.py:204: UserWarning: Found `num_iterations` in params. Will use it instead of argument\n",
      "  _log_warning(f\"Found `{alias}` in params. Will use it instead of argument\")\n"
     ]
    },
    {
     "name": "stdout",
     "output_type": "stream",
     "text": [
      "[LightGBM] [Info] Number of positive: 4913, number of negative: 24563\n",
      "[LightGBM] [Info] Auto-choosing row-wise multi-threading, the overhead of testing was 0.079666 seconds.\n",
      "You can set `force_row_wise=true` to remove the overhead.\n",
      "And if memory is not enough, you can set `force_col_wise=true`.\n",
      "[LightGBM] [Info] Total Bins 2048\n",
      "[LightGBM] [Info] Number of data points in the train set: 29476, number of used features: 1024\n",
      "[LightGBM] [Info] [binary:BoostFromScore]: pavg=0.166678 -> initscore=-1.609356\n",
      "[LightGBM] [Info] Start training from score -1.609356\n",
      "[LightGBM] [Warning] No further splits with positive gain, best gain: -inf\n"
     ]
    },
    {
     "name": "stderr",
     "output_type": "stream",
     "text": [
      "c:\\Users\\LabMo\\anaconda3\\envs\\my-rdkit-env\\Lib\\site-packages\\lightgbm\\engine.py:204: UserWarning: Found `num_iterations` in params. Will use it instead of argument\n",
      "  _log_warning(f\"Found `{alias}` in params. Will use it instead of argument\")\n"
     ]
    },
    {
     "name": "stdout",
     "output_type": "stream",
     "text": [
      "[LightGBM] [Info] Number of positive: 4913, number of negative: 24563\n",
      "[LightGBM] [Info] Auto-choosing row-wise multi-threading, the overhead of testing was 0.087631 seconds.\n",
      "You can set `force_row_wise=true` to remove the overhead.\n",
      "And if memory is not enough, you can set `force_col_wise=true`.\n",
      "[LightGBM] [Info] Total Bins 2048\n",
      "[LightGBM] [Info] Number of data points in the train set: 29476, number of used features: 1024\n",
      "[LightGBM] [Info] [binary:BoostFromScore]: pavg=0.166678 -> initscore=-1.609356\n",
      "[LightGBM] [Info] Start training from score -1.609356\n",
      "[LightGBM] [Warning] No further splits with positive gain, best gain: -inf\n"
     ]
    },
    {
     "name": "stderr",
     "output_type": "stream",
     "text": [
      "c:\\Users\\LabMo\\anaconda3\\envs\\my-rdkit-env\\Lib\\site-packages\\lightgbm\\engine.py:204: UserWarning: Found `num_iterations` in params. Will use it instead of argument\n",
      "  _log_warning(f\"Found `{alias}` in params. Will use it instead of argument\")\n"
     ]
    },
    {
     "name": "stdout",
     "output_type": "stream",
     "text": [
      "[LightGBM] [Info] Number of positive: 4913, number of negative: 24563\n",
      "[LightGBM] [Info] Auto-choosing row-wise multi-threading, the overhead of testing was 0.094723 seconds.\n",
      "You can set `force_row_wise=true` to remove the overhead.\n",
      "And if memory is not enough, you can set `force_col_wise=true`.\n",
      "[LightGBM] [Info] Total Bins 2048\n",
      "[LightGBM] [Info] Number of data points in the train set: 29476, number of used features: 1024\n",
      "[LightGBM] [Info] [binary:BoostFromScore]: pavg=0.166678 -> initscore=-1.609356\n",
      "[LightGBM] [Info] Start training from score -1.609356\n"
     ]
    },
    {
     "name": "stderr",
     "output_type": "stream",
     "text": [
      "c:\\Users\\LabMo\\anaconda3\\envs\\my-rdkit-env\\Lib\\site-packages\\lightgbm\\engine.py:204: UserWarning: Found `num_iterations` in params. Will use it instead of argument\n",
      "  _log_warning(f\"Found `{alias}` in params. Will use it instead of argument\")\n"
     ]
    },
    {
     "name": "stdout",
     "output_type": "stream",
     "text": [
      "[LightGBM] [Info] Number of positive: 4913, number of negative: 24563\n",
      "[LightGBM] [Info] Auto-choosing row-wise multi-threading, the overhead of testing was 0.092218 seconds.\n",
      "You can set `force_row_wise=true` to remove the overhead.\n",
      "And if memory is not enough, you can set `force_col_wise=true`.\n",
      "[LightGBM] [Info] Total Bins 2048\n",
      "[LightGBM] [Info] Number of data points in the train set: 29476, number of used features: 1024\n",
      "[LightGBM] [Info] [binary:BoostFromScore]: pavg=0.166678 -> initscore=-1.609356\n",
      "[LightGBM] [Info] Start training from score -1.609356\n"
     ]
    },
    {
     "name": "stderr",
     "output_type": "stream",
     "text": [
      "c:\\Users\\LabMo\\anaconda3\\envs\\my-rdkit-env\\Lib\\site-packages\\lightgbm\\engine.py:204: UserWarning: Found `num_iterations` in params. Will use it instead of argument\n",
      "  _log_warning(f\"Found `{alias}` in params. Will use it instead of argument\")\n"
     ]
    },
    {
     "name": "stdout",
     "output_type": "stream",
     "text": [
      "[LightGBM] [Info] Number of positive: 4913, number of negative: 24563\n",
      "[LightGBM] [Info] Auto-choosing row-wise multi-threading, the overhead of testing was 0.082381 seconds.\n",
      "You can set `force_row_wise=true` to remove the overhead.\n",
      "And if memory is not enough, you can set `force_col_wise=true`.\n",
      "[LightGBM] [Info] Total Bins 2048\n",
      "[LightGBM] [Info] Number of data points in the train set: 29476, number of used features: 1024\n",
      "[LightGBM] [Info] [binary:BoostFromScore]: pavg=0.166678 -> initscore=-1.609356\n",
      "[LightGBM] [Info] Start training from score -1.609356\n"
     ]
    },
    {
     "name": "stderr",
     "output_type": "stream",
     "text": [
      "c:\\Users\\LabMo\\anaconda3\\envs\\my-rdkit-env\\Lib\\site-packages\\lightgbm\\engine.py:204: UserWarning: Found `num_iterations` in params. Will use it instead of argument\n",
      "  _log_warning(f\"Found `{alias}` in params. Will use it instead of argument\")\n"
     ]
    },
    {
     "name": "stdout",
     "output_type": "stream",
     "text": [
      "[LightGBM] [Info] Number of positive: 4913, number of negative: 24563\n",
      "[LightGBM] [Info] Auto-choosing col-wise multi-threading, the overhead of testing was 0.086667 seconds.\n",
      "You can set `force_col_wise=true` to remove the overhead.\n",
      "[LightGBM] [Info] Total Bins 2048\n",
      "[LightGBM] [Info] Number of data points in the train set: 29476, number of used features: 1024\n",
      "[LightGBM] [Info] [binary:BoostFromScore]: pavg=0.166678 -> initscore=-1.609356\n",
      "[LightGBM] [Info] Start training from score -1.609356\n"
     ]
    },
    {
     "name": "stderr",
     "output_type": "stream",
     "text": [
      "c:\\Users\\LabMo\\anaconda3\\envs\\my-rdkit-env\\Lib\\site-packages\\lightgbm\\engine.py:204: UserWarning: Found `num_iterations` in params. Will use it instead of argument\n",
      "  _log_warning(f\"Found `{alias}` in params. Will use it instead of argument\")\n"
     ]
    },
    {
     "name": "stdout",
     "output_type": "stream",
     "text": [
      "[LightGBM] [Info] Number of positive: 4913, number of negative: 24563\n",
      "[LightGBM] [Info] Auto-choosing row-wise multi-threading, the overhead of testing was 0.080410 seconds.\n",
      "You can set `force_row_wise=true` to remove the overhead.\n",
      "And if memory is not enough, you can set `force_col_wise=true`.\n",
      "[LightGBM] [Info] Total Bins 2048\n",
      "[LightGBM] [Info] Number of data points in the train set: 29476, number of used features: 1024\n",
      "[LightGBM] [Info] [binary:BoostFromScore]: pavg=0.166678 -> initscore=-1.609356\n",
      "[LightGBM] [Info] Start training from score -1.609356\n"
     ]
    },
    {
     "name": "stderr",
     "output_type": "stream",
     "text": [
      "c:\\Users\\LabMo\\anaconda3\\envs\\my-rdkit-env\\Lib\\site-packages\\lightgbm\\engine.py:204: UserWarning: Found `num_iterations` in params. Will use it instead of argument\n",
      "  _log_warning(f\"Found `{alias}` in params. Will use it instead of argument\")\n"
     ]
    },
    {
     "name": "stdout",
     "output_type": "stream",
     "text": [
      "[LightGBM] [Info] Number of positive: 4913, number of negative: 24563\n",
      "[LightGBM] [Info] Auto-choosing row-wise multi-threading, the overhead of testing was 0.076333 seconds.\n",
      "You can set `force_row_wise=true` to remove the overhead.\n",
      "And if memory is not enough, you can set `force_col_wise=true`.\n",
      "[LightGBM] [Info] Total Bins 2048\n",
      "[LightGBM] [Info] Number of data points in the train set: 29476, number of used features: 1024\n",
      "[LightGBM] [Info] [binary:BoostFromScore]: pavg=0.166678 -> initscore=-1.609356\n",
      "[LightGBM] [Info] Start training from score -1.609356\n"
     ]
    },
    {
     "name": "stderr",
     "output_type": "stream",
     "text": [
      "c:\\Users\\LabMo\\anaconda3\\envs\\my-rdkit-env\\Lib\\site-packages\\lightgbm\\engine.py:204: UserWarning: Found `num_iterations` in params. Will use it instead of argument\n",
      "  _log_warning(f\"Found `{alias}` in params. Will use it instead of argument\")\n"
     ]
    },
    {
     "name": "stdout",
     "output_type": "stream",
     "text": [
      "[LightGBM] [Info] Number of positive: 4913, number of negative: 24563\n",
      "[LightGBM] [Info] Auto-choosing col-wise multi-threading, the overhead of testing was 0.079561 seconds.\n",
      "You can set `force_col_wise=true` to remove the overhead.\n",
      "[LightGBM] [Info] Total Bins 2048\n",
      "[LightGBM] [Info] Number of data points in the train set: 29476, number of used features: 1024\n",
      "[LightGBM] [Info] [binary:BoostFromScore]: pavg=0.166678 -> initscore=-1.609356\n",
      "[LightGBM] [Info] Start training from score -1.609356\n",
      "[LightGBM] [Warning] No further splits with positive gain, best gain: -inf\n"
     ]
    },
    {
     "name": "stderr",
     "output_type": "stream",
     "text": [
      "c:\\Users\\LabMo\\anaconda3\\envs\\my-rdkit-env\\Lib\\site-packages\\lightgbm\\engine.py:204: UserWarning: Found `num_iterations` in params. Will use it instead of argument\n",
      "  _log_warning(f\"Found `{alias}` in params. Will use it instead of argument\")\n"
     ]
    },
    {
     "name": "stdout",
     "output_type": "stream",
     "text": [
      "[LightGBM] [Info] Number of positive: 4913, number of negative: 24563\n",
      "[LightGBM] [Info] Auto-choosing row-wise multi-threading, the overhead of testing was 0.100528 seconds.\n",
      "You can set `force_row_wise=true` to remove the overhead.\n",
      "And if memory is not enough, you can set `force_col_wise=true`.\n",
      "[LightGBM] [Info] Total Bins 2048\n",
      "[LightGBM] [Info] Number of data points in the train set: 29476, number of used features: 1024\n",
      "[LightGBM] [Info] [binary:BoostFromScore]: pavg=0.166678 -> initscore=-1.609356\n",
      "[LightGBM] [Info] Start training from score -1.609356\n",
      "[LightGBM] [Warning] No further splits with positive gain, best gain: -inf\n"
     ]
    },
    {
     "name": "stderr",
     "output_type": "stream",
     "text": [
      "c:\\Users\\LabMo\\anaconda3\\envs\\my-rdkit-env\\Lib\\site-packages\\lightgbm\\engine.py:204: UserWarning: Found `num_iterations` in params. Will use it instead of argument\n",
      "  _log_warning(f\"Found `{alias}` in params. Will use it instead of argument\")\n"
     ]
    },
    {
     "name": "stdout",
     "output_type": "stream",
     "text": [
      "[LightGBM] [Info] Number of positive: 4913, number of negative: 24563\n",
      "[LightGBM] [Info] Auto-choosing row-wise multi-threading, the overhead of testing was 0.077454 seconds.\n",
      "You can set `force_row_wise=true` to remove the overhead.\n",
      "And if memory is not enough, you can set `force_col_wise=true`.\n",
      "[LightGBM] [Info] Total Bins 2048\n",
      "[LightGBM] [Info] Number of data points in the train set: 29476, number of used features: 1024\n",
      "[LightGBM] [Info] [binary:BoostFromScore]: pavg=0.166678 -> initscore=-1.609356\n",
      "[LightGBM] [Info] Start training from score -1.609356\n"
     ]
    },
    {
     "name": "stderr",
     "output_type": "stream",
     "text": [
      "c:\\Users\\LabMo\\anaconda3\\envs\\my-rdkit-env\\Lib\\site-packages\\lightgbm\\engine.py:204: UserWarning: Found `num_iterations` in params. Will use it instead of argument\n",
      "  _log_warning(f\"Found `{alias}` in params. Will use it instead of argument\")\n"
     ]
    },
    {
     "name": "stdout",
     "output_type": "stream",
     "text": [
      "[LightGBM] [Info] Number of positive: 4913, number of negative: 24563\n",
      "[LightGBM] [Info] Auto-choosing row-wise multi-threading, the overhead of testing was 0.074595 seconds.\n",
      "You can set `force_row_wise=true` to remove the overhead.\n",
      "And if memory is not enough, you can set `force_col_wise=true`.\n",
      "[LightGBM] [Info] Total Bins 2048\n",
      "[LightGBM] [Info] Number of data points in the train set: 29476, number of used features: 1024\n",
      "[LightGBM] [Info] [binary:BoostFromScore]: pavg=0.166678 -> initscore=-1.609356\n",
      "[LightGBM] [Info] Start training from score -1.609356\n",
      "[LightGBM] [Warning] No further splits with positive gain, best gain: -inf\n"
     ]
    },
    {
     "name": "stderr",
     "output_type": "stream",
     "text": [
      "c:\\Users\\LabMo\\anaconda3\\envs\\my-rdkit-env\\Lib\\site-packages\\lightgbm\\engine.py:204: UserWarning: Found `num_iterations` in params. Will use it instead of argument\n",
      "  _log_warning(f\"Found `{alias}` in params. Will use it instead of argument\")\n"
     ]
    },
    {
     "name": "stdout",
     "output_type": "stream",
     "text": [
      "[LightGBM] [Info] Number of positive: 4913, number of negative: 24563\n",
      "[LightGBM] [Info] Auto-choosing row-wise multi-threading, the overhead of testing was 0.077471 seconds.\n",
      "You can set `force_row_wise=true` to remove the overhead.\n",
      "And if memory is not enough, you can set `force_col_wise=true`.\n",
      "[LightGBM] [Info] Total Bins 2048\n",
      "[LightGBM] [Info] Number of data points in the train set: 29476, number of used features: 1024\n",
      "[LightGBM] [Info] [binary:BoostFromScore]: pavg=0.166678 -> initscore=-1.609356\n",
      "[LightGBM] [Info] Start training from score -1.609356\n"
     ]
    },
    {
     "name": "stderr",
     "output_type": "stream",
     "text": [
      "c:\\Users\\LabMo\\anaconda3\\envs\\my-rdkit-env\\Lib\\site-packages\\lightgbm\\engine.py:204: UserWarning: Found `num_iterations` in params. Will use it instead of argument\n",
      "  _log_warning(f\"Found `{alias}` in params. Will use it instead of argument\")\n"
     ]
    },
    {
     "name": "stdout",
     "output_type": "stream",
     "text": [
      "[LightGBM] [Info] Number of positive: 4913, number of negative: 24563\n",
      "[LightGBM] [Info] Auto-choosing row-wise multi-threading, the overhead of testing was 0.091556 seconds.\n",
      "You can set `force_row_wise=true` to remove the overhead.\n",
      "And if memory is not enough, you can set `force_col_wise=true`.\n",
      "[LightGBM] [Info] Total Bins 2048\n",
      "[LightGBM] [Info] Number of data points in the train set: 29476, number of used features: 1024\n",
      "[LightGBM] [Info] [binary:BoostFromScore]: pavg=0.166678 -> initscore=-1.609356\n",
      "[LightGBM] [Info] Start training from score -1.609356\n",
      "[LightGBM] [Warning] No further splits with positive gain, best gain: -inf\n"
     ]
    },
    {
     "name": "stderr",
     "output_type": "stream",
     "text": [
      "c:\\Users\\LabMo\\anaconda3\\envs\\my-rdkit-env\\Lib\\site-packages\\lightgbm\\engine.py:204: UserWarning: Found `num_iterations` in params. Will use it instead of argument\n",
      "  _log_warning(f\"Found `{alias}` in params. Will use it instead of argument\")\n"
     ]
    },
    {
     "name": "stdout",
     "output_type": "stream",
     "text": [
      "[LightGBM] [Info] Number of positive: 4913, number of negative: 24563\n",
      "[LightGBM] [Info] Auto-choosing row-wise multi-threading, the overhead of testing was 0.088451 seconds.\n",
      "You can set `force_row_wise=true` to remove the overhead.\n",
      "And if memory is not enough, you can set `force_col_wise=true`.\n",
      "[LightGBM] [Info] Total Bins 2048\n",
      "[LightGBM] [Info] Number of data points in the train set: 29476, number of used features: 1024\n",
      "[LightGBM] [Info] [binary:BoostFromScore]: pavg=0.166678 -> initscore=-1.609356\n",
      "[LightGBM] [Info] Start training from score -1.609356\n",
      "[LightGBM] [Warning] No further splits with positive gain, best gain: -inf\n"
     ]
    },
    {
     "name": "stderr",
     "output_type": "stream",
     "text": [
      "c:\\Users\\LabMo\\anaconda3\\envs\\my-rdkit-env\\Lib\\site-packages\\lightgbm\\engine.py:204: UserWarning: Found `num_iterations` in params. Will use it instead of argument\n",
      "  _log_warning(f\"Found `{alias}` in params. Will use it instead of argument\")\n"
     ]
    },
    {
     "name": "stdout",
     "output_type": "stream",
     "text": [
      "[LightGBM] [Info] Number of positive: 4913, number of negative: 24563\n",
      "[LightGBM] [Info] Auto-choosing row-wise multi-threading, the overhead of testing was 0.081554 seconds.\n",
      "You can set `force_row_wise=true` to remove the overhead.\n",
      "And if memory is not enough, you can set `force_col_wise=true`.\n",
      "[LightGBM] [Info] Total Bins 2048\n",
      "[LightGBM] [Info] Number of data points in the train set: 29476, number of used features: 1024\n",
      "[LightGBM] [Info] [binary:BoostFromScore]: pavg=0.166678 -> initscore=-1.609356\n",
      "[LightGBM] [Info] Start training from score -1.609356\n"
     ]
    },
    {
     "name": "stderr",
     "output_type": "stream",
     "text": [
      "c:\\Users\\LabMo\\anaconda3\\envs\\my-rdkit-env\\Lib\\site-packages\\lightgbm\\engine.py:204: UserWarning: Found `num_iterations` in params. Will use it instead of argument\n",
      "  _log_warning(f\"Found `{alias}` in params. Will use it instead of argument\")\n"
     ]
    },
    {
     "name": "stdout",
     "output_type": "stream",
     "text": [
      "[LightGBM] [Info] Number of positive: 4913, number of negative: 24563\n",
      "[LightGBM] [Info] Auto-choosing row-wise multi-threading, the overhead of testing was 0.077370 seconds.\n",
      "You can set `force_row_wise=true` to remove the overhead.\n",
      "And if memory is not enough, you can set `force_col_wise=true`.\n",
      "[LightGBM] [Info] Total Bins 2048\n",
      "[LightGBM] [Info] Number of data points in the train set: 29476, number of used features: 1024\n",
      "[LightGBM] [Info] [binary:BoostFromScore]: pavg=0.166678 -> initscore=-1.609356\n",
      "[LightGBM] [Info] Start training from score -1.609356\n"
     ]
    },
    {
     "name": "stderr",
     "output_type": "stream",
     "text": [
      "c:\\Users\\LabMo\\anaconda3\\envs\\my-rdkit-env\\Lib\\site-packages\\lightgbm\\engine.py:204: UserWarning: Found `num_iterations` in params. Will use it instead of argument\n",
      "  _log_warning(f\"Found `{alias}` in params. Will use it instead of argument\")\n"
     ]
    },
    {
     "name": "stdout",
     "output_type": "stream",
     "text": [
      "[LightGBM] [Info] Number of positive: 4913, number of negative: 24563\n",
      "[LightGBM] [Info] Auto-choosing row-wise multi-threading, the overhead of testing was 0.076852 seconds.\n",
      "You can set `force_row_wise=true` to remove the overhead.\n",
      "And if memory is not enough, you can set `force_col_wise=true`.\n",
      "[LightGBM] [Info] Total Bins 2048\n",
      "[LightGBM] [Info] Number of data points in the train set: 29476, number of used features: 1024\n",
      "[LightGBM] [Info] [binary:BoostFromScore]: pavg=0.166678 -> initscore=-1.609356\n",
      "[LightGBM] [Info] Start training from score -1.609356\n"
     ]
    },
    {
     "name": "stderr",
     "output_type": "stream",
     "text": [
      "c:\\Users\\LabMo\\anaconda3\\envs\\my-rdkit-env\\Lib\\site-packages\\lightgbm\\engine.py:204: UserWarning: Found `num_iterations` in params. Will use it instead of argument\n",
      "  _log_warning(f\"Found `{alias}` in params. Will use it instead of argument\")\n"
     ]
    },
    {
     "name": "stdout",
     "output_type": "stream",
     "text": [
      "[LightGBM] [Info] Number of positive: 4913, number of negative: 24563\n",
      "[LightGBM] [Info] Auto-choosing row-wise multi-threading, the overhead of testing was 0.075563 seconds.\n",
      "You can set `force_row_wise=true` to remove the overhead.\n",
      "And if memory is not enough, you can set `force_col_wise=true`.\n",
      "[LightGBM] [Info] Total Bins 2048\n",
      "[LightGBM] [Info] Number of data points in the train set: 29476, number of used features: 1024\n",
      "[LightGBM] [Info] [binary:BoostFromScore]: pavg=0.166678 -> initscore=-1.609356\n",
      "[LightGBM] [Info] Start training from score -1.609356\n"
     ]
    },
    {
     "name": "stderr",
     "output_type": "stream",
     "text": [
      "c:\\Users\\LabMo\\anaconda3\\envs\\my-rdkit-env\\Lib\\site-packages\\lightgbm\\engine.py:204: UserWarning: Found `num_iterations` in params. Will use it instead of argument\n",
      "  _log_warning(f\"Found `{alias}` in params. Will use it instead of argument\")\n"
     ]
    },
    {
     "name": "stdout",
     "output_type": "stream",
     "text": [
      "[LightGBM] [Info] Number of positive: 4913, number of negative: 24563\n",
      "[LightGBM] [Info] Auto-choosing row-wise multi-threading, the overhead of testing was 0.077438 seconds.\n",
      "You can set `force_row_wise=true` to remove the overhead.\n",
      "And if memory is not enough, you can set `force_col_wise=true`.\n",
      "[LightGBM] [Info] Total Bins 2048\n",
      "[LightGBM] [Info] Number of data points in the train set: 29476, number of used features: 1024\n",
      "[LightGBM] [Info] [binary:BoostFromScore]: pavg=0.166678 -> initscore=-1.609356\n",
      "[LightGBM] [Info] Start training from score -1.609356\n"
     ]
    },
    {
     "name": "stderr",
     "output_type": "stream",
     "text": [
      "c:\\Users\\LabMo\\anaconda3\\envs\\my-rdkit-env\\Lib\\site-packages\\lightgbm\\engine.py:204: UserWarning: Found `num_iterations` in params. Will use it instead of argument\n",
      "  _log_warning(f\"Found `{alias}` in params. Will use it instead of argument\")\n"
     ]
    },
    {
     "name": "stdout",
     "output_type": "stream",
     "text": [
      "[LightGBM] [Info] Number of positive: 4913, number of negative: 24563\n",
      "[LightGBM] [Info] Auto-choosing row-wise multi-threading, the overhead of testing was 0.079448 seconds.\n",
      "You can set `force_row_wise=true` to remove the overhead.\n",
      "And if memory is not enough, you can set `force_col_wise=true`.\n",
      "[LightGBM] [Info] Total Bins 2048\n",
      "[LightGBM] [Info] Number of data points in the train set: 29476, number of used features: 1024\n",
      "[LightGBM] [Info] [binary:BoostFromScore]: pavg=0.166678 -> initscore=-1.609356\n",
      "[LightGBM] [Info] Start training from score -1.609356\n"
     ]
    },
    {
     "name": "stderr",
     "output_type": "stream",
     "text": [
      "c:\\Users\\LabMo\\anaconda3\\envs\\my-rdkit-env\\Lib\\site-packages\\lightgbm\\engine.py:204: UserWarning: Found `num_iterations` in params. Will use it instead of argument\n",
      "  _log_warning(f\"Found `{alias}` in params. Will use it instead of argument\")\n"
     ]
    },
    {
     "name": "stdout",
     "output_type": "stream",
     "text": [
      "[LightGBM] [Info] Number of positive: 4913, number of negative: 24563\n",
      "[LightGBM] [Info] Auto-choosing row-wise multi-threading, the overhead of testing was 0.076265 seconds.\n",
      "You can set `force_row_wise=true` to remove the overhead.\n",
      "And if memory is not enough, you can set `force_col_wise=true`.\n",
      "[LightGBM] [Info] Total Bins 2048\n",
      "[LightGBM] [Info] Number of data points in the train set: 29476, number of used features: 1024\n",
      "[LightGBM] [Info] [binary:BoostFromScore]: pavg=0.166678 -> initscore=-1.609356\n",
      "[LightGBM] [Info] Start training from score -1.609356\n"
     ]
    },
    {
     "name": "stderr",
     "output_type": "stream",
     "text": [
      "c:\\Users\\LabMo\\anaconda3\\envs\\my-rdkit-env\\Lib\\site-packages\\lightgbm\\engine.py:204: UserWarning: Found `num_iterations` in params. Will use it instead of argument\n",
      "  _log_warning(f\"Found `{alias}` in params. Will use it instead of argument\")\n"
     ]
    },
    {
     "name": "stdout",
     "output_type": "stream",
     "text": [
      "[LightGBM] [Info] Number of positive: 4913, number of negative: 24563\n",
      "[LightGBM] [Info] Auto-choosing row-wise multi-threading, the overhead of testing was 0.081219 seconds.\n",
      "You can set `force_row_wise=true` to remove the overhead.\n",
      "And if memory is not enough, you can set `force_col_wise=true`.\n",
      "[LightGBM] [Info] Total Bins 2048\n",
      "[LightGBM] [Info] Number of data points in the train set: 29476, number of used features: 1024\n",
      "[LightGBM] [Info] [binary:BoostFromScore]: pavg=0.166678 -> initscore=-1.609356\n",
      "[LightGBM] [Info] Start training from score -1.609356\n"
     ]
    },
    {
     "name": "stderr",
     "output_type": "stream",
     "text": [
      "c:\\Users\\LabMo\\anaconda3\\envs\\my-rdkit-env\\Lib\\site-packages\\lightgbm\\engine.py:204: UserWarning: Found `num_iterations` in params. Will use it instead of argument\n",
      "  _log_warning(f\"Found `{alias}` in params. Will use it instead of argument\")\n"
     ]
    },
    {
     "name": "stdout",
     "output_type": "stream",
     "text": [
      "[LightGBM] [Info] Number of positive: 4913, number of negative: 24563\n",
      "[LightGBM] [Info] Auto-choosing row-wise multi-threading, the overhead of testing was 0.078160 seconds.\n",
      "You can set `force_row_wise=true` to remove the overhead.\n",
      "And if memory is not enough, you can set `force_col_wise=true`.\n",
      "[LightGBM] [Info] Total Bins 2048\n",
      "[LightGBM] [Info] Number of data points in the train set: 29476, number of used features: 1024\n",
      "[LightGBM] [Info] [binary:BoostFromScore]: pavg=0.166678 -> initscore=-1.609356\n",
      "[LightGBM] [Info] Start training from score -1.609356\n"
     ]
    },
    {
     "name": "stderr",
     "output_type": "stream",
     "text": [
      "c:\\Users\\LabMo\\anaconda3\\envs\\my-rdkit-env\\Lib\\site-packages\\lightgbm\\engine.py:204: UserWarning: Found `num_iterations` in params. Will use it instead of argument\n",
      "  _log_warning(f\"Found `{alias}` in params. Will use it instead of argument\")\n"
     ]
    },
    {
     "name": "stdout",
     "output_type": "stream",
     "text": [
      "[LightGBM] [Info] Number of positive: 4913, number of negative: 24563\n",
      "[LightGBM] [Info] Auto-choosing row-wise multi-threading, the overhead of testing was 0.078193 seconds.\n",
      "You can set `force_row_wise=true` to remove the overhead.\n",
      "And if memory is not enough, you can set `force_col_wise=true`.\n",
      "[LightGBM] [Info] Total Bins 2048\n",
      "[LightGBM] [Info] Number of data points in the train set: 29476, number of used features: 1024\n",
      "[LightGBM] [Info] [binary:BoostFromScore]: pavg=0.166678 -> initscore=-1.609356\n",
      "[LightGBM] [Info] Start training from score -1.609356\n"
     ]
    },
    {
     "name": "stderr",
     "output_type": "stream",
     "text": [
      "c:\\Users\\LabMo\\anaconda3\\envs\\my-rdkit-env\\Lib\\site-packages\\lightgbm\\engine.py:204: UserWarning: Found `num_iterations` in params. Will use it instead of argument\n",
      "  _log_warning(f\"Found `{alias}` in params. Will use it instead of argument\")\n"
     ]
    },
    {
     "name": "stdout",
     "output_type": "stream",
     "text": [
      "[LightGBM] [Info] Number of positive: 4913, number of negative: 24563\n",
      "[LightGBM] [Info] Auto-choosing col-wise multi-threading, the overhead of testing was 0.082014 seconds.\n",
      "You can set `force_col_wise=true` to remove the overhead.\n",
      "[LightGBM] [Info] Total Bins 2048\n",
      "[LightGBM] [Info] Number of data points in the train set: 29476, number of used features: 1024\n",
      "[LightGBM] [Info] [binary:BoostFromScore]: pavg=0.166678 -> initscore=-1.609356\n",
      "[LightGBM] [Info] Start training from score -1.609356\n",
      "[LightGBM] [Warning] No further splits with positive gain, best gain: -inf\n"
     ]
    },
    {
     "name": "stderr",
     "output_type": "stream",
     "text": [
      "c:\\Users\\LabMo\\anaconda3\\envs\\my-rdkit-env\\Lib\\site-packages\\lightgbm\\engine.py:204: UserWarning: Found `num_iterations` in params. Will use it instead of argument\n",
      "  _log_warning(f\"Found `{alias}` in params. Will use it instead of argument\")\n"
     ]
    },
    {
     "name": "stdout",
     "output_type": "stream",
     "text": [
      "[LightGBM] [Info] Number of positive: 4913, number of negative: 24563\n",
      "[LightGBM] [Info] Auto-choosing row-wise multi-threading, the overhead of testing was 0.085894 seconds.\n",
      "You can set `force_row_wise=true` to remove the overhead.\n",
      "And if memory is not enough, you can set `force_col_wise=true`.\n",
      "[LightGBM] [Info] Total Bins 2048\n",
      "[LightGBM] [Info] Number of data points in the train set: 29476, number of used features: 1024\n",
      "[LightGBM] [Info] [binary:BoostFromScore]: pavg=0.166678 -> initscore=-1.609356\n",
      "[LightGBM] [Info] Start training from score -1.609356\n"
     ]
    },
    {
     "name": "stderr",
     "output_type": "stream",
     "text": [
      "c:\\Users\\LabMo\\anaconda3\\envs\\my-rdkit-env\\Lib\\site-packages\\lightgbm\\engine.py:204: UserWarning: Found `num_iterations` in params. Will use it instead of argument\n",
      "  _log_warning(f\"Found `{alias}` in params. Will use it instead of argument\")\n"
     ]
    },
    {
     "name": "stdout",
     "output_type": "stream",
     "text": [
      "[LightGBM] [Info] Number of positive: 4913, number of negative: 24563\n",
      "[LightGBM] [Info] Auto-choosing row-wise multi-threading, the overhead of testing was 0.094803 seconds.\n",
      "You can set `force_row_wise=true` to remove the overhead.\n",
      "And if memory is not enough, you can set `force_col_wise=true`.\n",
      "[LightGBM] [Info] Total Bins 2048\n",
      "[LightGBM] [Info] Number of data points in the train set: 29476, number of used features: 1024\n",
      "[LightGBM] [Info] [binary:BoostFromScore]: pavg=0.166678 -> initscore=-1.609356\n",
      "[LightGBM] [Info] Start training from score -1.609356\n",
      "[LightGBM] [Warning] No further splits with positive gain, best gain: -inf\n"
     ]
    },
    {
     "name": "stderr",
     "output_type": "stream",
     "text": [
      "c:\\Users\\LabMo\\anaconda3\\envs\\my-rdkit-env\\Lib\\site-packages\\lightgbm\\engine.py:204: UserWarning: Found `num_iterations` in params. Will use it instead of argument\n",
      "  _log_warning(f\"Found `{alias}` in params. Will use it instead of argument\")\n"
     ]
    },
    {
     "name": "stdout",
     "output_type": "stream",
     "text": [
      "[LightGBM] [Info] Number of positive: 4913, number of negative: 24563\n",
      "[LightGBM] [Info] Auto-choosing row-wise multi-threading, the overhead of testing was 0.231312 seconds.\n",
      "You can set `force_row_wise=true` to remove the overhead.\n",
      "And if memory is not enough, you can set `force_col_wise=true`.\n",
      "[LightGBM] [Info] Total Bins 2048\n",
      "[LightGBM] [Info] Number of data points in the train set: 29476, number of used features: 1024\n",
      "[LightGBM] [Info] [binary:BoostFromScore]: pavg=0.166678 -> initscore=-1.609356\n",
      "[LightGBM] [Info] Start training from score -1.609356\n"
     ]
    },
    {
     "name": "stderr",
     "output_type": "stream",
     "text": [
      "c:\\Users\\LabMo\\anaconda3\\envs\\my-rdkit-env\\Lib\\site-packages\\lightgbm\\engine.py:204: UserWarning: Found `num_iterations` in params. Will use it instead of argument\n",
      "  _log_warning(f\"Found `{alias}` in params. Will use it instead of argument\")\n"
     ]
    },
    {
     "name": "stdout",
     "output_type": "stream",
     "text": [
      "[LightGBM] [Info] Number of positive: 4913, number of negative: 24563\n",
      "[LightGBM] [Info] Auto-choosing row-wise multi-threading, the overhead of testing was 0.077518 seconds.\n",
      "You can set `force_row_wise=true` to remove the overhead.\n",
      "And if memory is not enough, you can set `force_col_wise=true`.\n",
      "[LightGBM] [Info] Total Bins 2048\n",
      "[LightGBM] [Info] Number of data points in the train set: 29476, number of used features: 1024\n",
      "[LightGBM] [Info] [binary:BoostFromScore]: pavg=0.166678 -> initscore=-1.609356\n",
      "[LightGBM] [Info] Start training from score -1.609356\n"
     ]
    },
    {
     "name": "stderr",
     "output_type": "stream",
     "text": [
      "c:\\Users\\LabMo\\anaconda3\\envs\\my-rdkit-env\\Lib\\site-packages\\lightgbm\\engine.py:204: UserWarning: Found `num_iterations` in params. Will use it instead of argument\n",
      "  _log_warning(f\"Found `{alias}` in params. Will use it instead of argument\")\n"
     ]
    },
    {
     "name": "stdout",
     "output_type": "stream",
     "text": [
      "[LightGBM] [Info] Number of positive: 4913, number of negative: 24563\n",
      "[LightGBM] [Info] Auto-choosing row-wise multi-threading, the overhead of testing was 0.082803 seconds.\n",
      "You can set `force_row_wise=true` to remove the overhead.\n",
      "And if memory is not enough, you can set `force_col_wise=true`.\n",
      "[LightGBM] [Info] Total Bins 2048\n",
      "[LightGBM] [Info] Number of data points in the train set: 29476, number of used features: 1024\n",
      "[LightGBM] [Info] [binary:BoostFromScore]: pavg=0.166678 -> initscore=-1.609356\n",
      "[LightGBM] [Info] Start training from score -1.609356\n"
     ]
    },
    {
     "name": "stderr",
     "output_type": "stream",
     "text": [
      "c:\\Users\\LabMo\\anaconda3\\envs\\my-rdkit-env\\Lib\\site-packages\\lightgbm\\engine.py:204: UserWarning: Found `num_iterations` in params. Will use it instead of argument\n",
      "  _log_warning(f\"Found `{alias}` in params. Will use it instead of argument\")\n"
     ]
    },
    {
     "name": "stdout",
     "output_type": "stream",
     "text": [
      "[LightGBM] [Info] Number of positive: 4913, number of negative: 24563\n",
      "[LightGBM] [Info] Auto-choosing row-wise multi-threading, the overhead of testing was 0.086384 seconds.\n",
      "You can set `force_row_wise=true` to remove the overhead.\n",
      "And if memory is not enough, you can set `force_col_wise=true`.\n",
      "[LightGBM] [Info] Total Bins 2048\n",
      "[LightGBM] [Info] Number of data points in the train set: 29476, number of used features: 1024\n",
      "[LightGBM] [Info] [binary:BoostFromScore]: pavg=0.166678 -> initscore=-1.609356\n",
      "[LightGBM] [Info] Start training from score -1.609356\n",
      "[LightGBM] [Warning] No further splits with positive gain, best gain: -inf\n",
      "    Round  Balanced Accuracy       MCC  F1 Score\n",
      "0     1.0           0.510189  0.030396  0.756344\n",
      "1     2.0           0.506036  0.018484  0.754369\n",
      "2     3.0           0.497973 -0.006597  0.750431\n",
      "3     4.0           0.501883  0.005854  0.752008\n",
      "4     5.0           0.497566 -0.007932  0.750179\n",
      "5     6.0           0.497160 -0.008740  0.748602\n",
      "6     7.0           0.505385  0.016264  0.753548\n",
      "7     8.0           0.498055 -0.006211  0.750077\n",
      "8     9.0           0.502289  0.007295  0.752876\n",
      "9    10.0           0.494229 -0.017872  0.746801\n",
      "10   11.0           0.500335  0.001068  0.751561\n",
      "11   12.0           0.500254  0.000794  0.751025\n",
      "12   13.0           0.498545 -0.004421  0.749184\n",
      "13   14.0           0.509130  0.028015  0.756481\n",
      "14   15.0           0.500499  0.001552  0.751110\n",
      "15   16.0           0.502779  0.008631  0.752580\n",
      "16   17.0           0.502860  0.009063  0.753131\n",
      "17   18.0           0.511491  0.035658  0.758365\n",
      "18   19.0           0.505710  0.017521  0.754208\n",
      "19   20.0           0.501068  0.003437  0.752280\n",
      "20   21.0           0.501149  0.003779  0.752800\n",
      "21   22.0           0.503022  0.009662  0.753446\n",
      "22   23.0           0.502861  0.008682  0.752016\n",
      "23   24.0           0.498056 -0.006014  0.749327\n",
      "24   25.0           0.501068  0.003392  0.751978\n",
      "25   26.0           0.504569  0.014723  0.754668\n",
      "26   27.0           0.501231  0.003893  0.751986\n",
      "27   28.0           0.501150  0.003609  0.751752\n",
      "28   29.0           0.495124 -0.015471  0.747960\n",
      "29   30.0           0.505059  0.015400  0.753555\n",
      "30   31.0           0.501801  0.005702  0.752394\n",
      "31   32.0           0.506932  0.021464  0.755268\n",
      "32   33.0           0.493903 -0.018919  0.746633\n",
      "33   34.0           0.503186  0.009825  0.752665\n",
      "34   35.0           0.507501  0.024168  0.756646\n",
      "35   36.0           0.497649 -0.007066  0.748301\n",
      "36   37.0           0.501476  0.004511  0.751287\n",
      "37   38.0           0.499277 -0.002243  0.750218\n",
      "38   39.0           0.501231  0.003893  0.751986\n",
      "39   40.0           0.493496 -0.020079  0.746239\n",
      "40   41.0           0.507584  0.022839  0.754916\n",
      "41   42.0           0.506117  0.019598  0.755581\n",
      "42   43.0           0.508071  0.025202  0.756249\n",
      "43   44.0           0.495939 -0.012538  0.747866\n",
      "44   45.0           0.501558  0.004709  0.751045\n",
      "45   46.0           0.502860  0.008893  0.752661\n",
      "46   47.0           0.502046  0.006187  0.751368\n",
      "47   48.0           0.506687  0.021307  0.755833\n",
      "48   49.0           0.503918  0.012512  0.754023\n",
      "49   50.0           0.497242 -0.008447  0.748528\n"
     ]
    }
   ],
   "source": [
    "from sklearn.metrics import balanced_accuracy_score, matthews_corrcoef, f1_score\n",
    "import lightgbm as lgb\n",
    "import pandas as pd\n",
    "import numpy as np\n",
    "\n",
    "params = model_base.get_params()\n",
    "\n",
    "# Definir o número de rounds de y-randomization\n",
    "n_rounds = 50\n",
    "\n",
    "# Inicializar dataframe para armazenar os resultados\n",
    "resultados = pd.DataFrame(columns=['Round', 'Balanced Accuracy', 'MCC', 'F1 Score'])\n",
    "\n",
    "# Realizar os rounds de y-randomization\n",
    "for i in range(n_rounds):\n",
    "    # Embaralhar as variáveis dependentes no dataset de treino e ajustar o modelo\n",
    "    y_teste_random = np.random.permutation(y_train)\n",
    "\n",
    "    model_y = lgb.LGBMClassifier(**params)\n",
    "    model_y.fit(x_train, y_teste_random)\n",
    "\n",
    "    y_pred = model_y.predict(x_test)\n",
    "\n",
    "    # Calcular as métricas de desempenho\n",
    "    balanced_accuracy = balanced_accuracy_score(y_test, y_pred)\n",
    "    mcc = matthews_corrcoef(y_test, y_pred)\n",
    "    f1 = f1_score(y_test, y_pred, average='weighted')\n",
    "\n",
    "    # Apender os resultados ao dataframe\n",
    "    resultados.loc[i] = [i+1, balanced_accuracy, mcc, f1]\n",
    "\n",
    "# Exibir o dataframe com os resultados\n",
    "resultados.to_excel(save_path, index=False)\n",
    "print(resultados)"
   ]
  }
 ],
 "metadata": {
  "kernelspec": {
   "display_name": "rods_env_1",
   "language": "python",
   "name": "python3"
  },
  "language_info": {
   "codemirror_mode": {
    "name": "ipython",
    "version": 3
   },
   "file_extension": ".py",
   "mimetype": "text/x-python",
   "name": "python",
   "nbconvert_exporter": "python",
   "pygments_lexer": "ipython3",
   "version": "3.12.4"
  }
 },
 "nbformat": 4,
 "nbformat_minor": 2
}

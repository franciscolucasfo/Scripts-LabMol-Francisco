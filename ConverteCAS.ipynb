{
 "cells": [
  {
   "cell_type": "code",
   "execution_count": 1,
   "metadata": {},
   "outputs": [],
   "source": [
    "import cirpy\n",
    "import pandas as pd"
   ]
  },
  {
   "cell_type": "code",
   "execution_count": null,
   "metadata": {},
   "outputs": [],
   "source": [
    "df = pd.read_excel('/Users/franciscolucasfeitosadeoliveira/Library/CloudStorage/OneDrive-Pessoal/Documentos/LabMol/Predskin/DADOS/EC3/ec3data prepared.xlsx')\n",
    "df.head()"
   ]
  },
  {
   "cell_type": "code",
   "execution_count": null,
   "metadata": {},
   "outputs": [],
   "source": [
    "def get_smiles(cas):\n",
    "    try:\n",
    "        return cirpy.resolve(cas, 'smiles')\n",
    "    except Exception as e:\n",
    "        return None\n",
    "    \n",
    "from tqdm import tqdm\n",
    "tqdm.pandas()\n",
    "\n",
    "df['Canonical SMILES'] = df.progress_apply(lambda row: row['Canonical SMILES'] if pd.notna(row['Canonical SMILES']) else get_smiles(row['CAS No']), axis=1)"
   ]
  },
  {
   "cell_type": "code",
   "execution_count": null,
   "metadata": {},
   "outputs": [],
   "source": [
    "def get_IUPAC(cas):\n",
    "    try:\n",
    "        return cirpy.resolve(cas, 'iupac_name')\n",
    "    except Exception as e:\n",
    "        return None\n",
    "\n",
    "from tqdm import tqdm\n",
    "tqdm.pandas()\n",
    "\n",
    "df['IUPAC'] = df.progress_apply(lambda row: row['IUPAC'] if pd.notna(row['IUPAC']) else get_IUPAC(row['CAS No']), axis=1)"
   ]
  },
  {
   "cell_type": "code",
   "execution_count": 5,
   "metadata": {},
   "outputs": [],
   "source": [
    "df.to_excel('ec3withsmiles.xlsx', index=False)"
   ]
  }
 ],
 "metadata": {
  "kernelspec": {
   "display_name": "ia",
   "language": "python",
   "name": "python3"
  },
  "language_info": {
   "codemirror_mode": {
    "name": "ipython",
    "version": 3
   },
   "file_extension": ".py",
   "mimetype": "text/x-python",
   "name": "python",
   "nbconvert_exporter": "python",
   "pygments_lexer": "ipython3",
   "version": "3.12.6"
  },
  "orig_nbformat": 4
 },
 "nbformat": 4,
 "nbformat_minor": 2
}

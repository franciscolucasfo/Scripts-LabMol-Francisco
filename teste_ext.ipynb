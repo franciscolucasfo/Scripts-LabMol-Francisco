{
 "cells": [
  {
   "cell_type": "code",
   "execution_count": 1,
   "metadata": {},
   "outputs": [],
   "source": [
    "import pandas as pd\n",
    "import joblib\n",
    "import numpy as np\n",
    "from rdkit import Chem\n",
    "from rdkit.Chem import AllChem"
   ]
  },
  {
   "cell_type": "code",
   "execution_count": 2,
   "metadata": {},
   "outputs": [],
   "source": [
    "df = pd.read_excel(r\"C:\\Users\\LabMo\\Downloads\\3T3_Curation_Python.xlsx\")"
   ]
  },
  {
   "cell_type": "code",
   "execution_count": 3,
   "metadata": {},
   "outputs": [
    {
     "data": {
      "text/plain": [
       "Outcome\n",
       "0    74829\n",
       "1     5826\n",
       "dtype: int64"
      ]
     },
     "execution_count": 3,
     "metadata": {},
     "output_type": "execute_result"
    }
   ],
   "source": [
    "df.groupby('Outcome').size()"
   ]
  },
  {
   "cell_type": "code",
   "execution_count": 22,
   "metadata": {},
   "outputs": [],
   "source": [
    "model = joblib.load(r\"D:\\OneDrive\\Documentos\\LabMol\\IC-Citotoxicidade\\SERVIDOR CYTO SAFE\\CYTOSAFE\\3T3\\data_3T3_1_1\\models\\binary\\lgbm_classifier_ecfp_fp_2_1024.joblib\")"
   ]
  },
  {
   "cell_type": "code",
   "execution_count": 10,
   "metadata": {},
   "outputs": [],
   "source": [
    "df['mol'] = [Chem.MolFromSmiles(x) for x in df['SMILES']]\n",
    "fps = np.array([AllChem.GetMorganFingerprintAsBitVect(x, radius = 2, nBits = 1024, useFeatures=False) for x in df['mol']])"
   ]
  },
  {
   "cell_type": "code",
   "execution_count": 23,
   "metadata": {},
   "outputs": [],
   "source": [
    "predicted = model.predict(fps)\n"
   ]
  },
  {
   "cell_type": "code",
   "execution_count": 24,
   "metadata": {},
   "outputs": [],
   "source": [
    "y_hat = np.round(predicted).astype(int)"
   ]
  },
  {
   "cell_type": "code",
   "execution_count": 25,
   "metadata": {},
   "outputs": [],
   "source": [
    "y = df['Outcome'].values"
   ]
  },
  {
   "cell_type": "code",
   "execution_count": 26,
   "metadata": {},
   "outputs": [],
   "source": [
    "def find_TP(y, y_hat):\n",
    "   # counts the number of true positives (y = 1, y_hat = 1)\n",
    "   return sum((y == 1) & (y_hat == 1))\n",
    "def find_FN(y, y_hat):\n",
    "   # counts the number of false negatives (y = 1, y_hat = 0) Type-II error\n",
    "   return sum((y == 1) & (y_hat == 0))\n",
    "def find_FP(y, y_hat):\n",
    "   # counts the number of false positives (y = 0, y_hat = 1) Type-I error\n",
    "   return sum((y == 0) & (y_hat == 1))\n",
    "def find_TN(y, y_hat):\n",
    "   # counts the number of true negatives (y = 0, y_hat = 0)\n",
    "   return sum((y == 0) & (y_hat == 0))"
   ]
  },
  {
   "cell_type": "code",
   "execution_count": 27,
   "metadata": {},
   "outputs": [
    {
     "name": "stdout",
     "output_type": "stream",
     "text": [
      "TP: 4631\n",
      "FN: 1195\n",
      "FP: 8241\n",
      "TN: 66588\n",
      "Precision: 0.3597731510254817\n",
      "Recall: 0.7948849982835565\n",
      "Accuracy: 0.8830078730394891\n"
     ]
    }
   ],
   "source": [
    "TP = find_TP(y, y_hat)\n",
    "FN = find_FN(y, y_hat)\n",
    "FP = find_FP(y, y_hat)\n",
    "TN = find_TN(y, y_hat)\n",
    "print('TP:',TP)\n",
    "print('FN:',FN)\n",
    "print('FP:',FP)\n",
    "print('TN:',TN)\n",
    "precision = TP/(TP+FP)\n",
    "print('Precision:',precision)\n",
    "recall = TP/(TP+FN)\n",
    "print('Recall:',recall)\n",
    "accuracy = (TP+TN)/(TP+TN+FP+FN)\n",
    "print('Accuracy:',accuracy)"
   ]
  }
 ],
 "metadata": {
  "kernelspec": {
   "display_name": "ia",
   "language": "python",
   "name": "python3"
  },
  "language_info": {
   "codemirror_mode": {
    "name": "ipython",
    "version": 3
   },
   "file_extension": ".py",
   "mimetype": "text/x-python",
   "name": "python",
   "nbconvert_exporter": "python",
   "pygments_lexer": "ipython3",
   "version": "3.10.6"
  }
 },
 "nbformat": 4,
 "nbformat_minor": 2
}

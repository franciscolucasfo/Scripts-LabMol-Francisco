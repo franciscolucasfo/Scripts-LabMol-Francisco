{
 "cells": [
  {
   "cell_type": "code",
   "execution_count": null,
   "metadata": {},
   "outputs": [],
   "source": [
    "import pandas as pd"
   ]
  },
  {
   "cell_type": "code",
   "execution_count": null,
   "metadata": {},
   "outputs": [],
   "source": [
    "df = pd.read_csv(r\"C:\\Users\\franc\\OneDrive\\Documentos\\LabMol\\IC-Citotoxicidade\\datasets\\AID_1345083 HEK\\curated_reduced.csv\")    # read csv file"
   ]
  },
  {
   "cell_type": "code",
   "execution_count": null,
   "metadata": {},
   "outputs": [],
   "source": [
    "df"
   ]
  },
  {
   "cell_type": "code",
   "execution_count": null,
   "metadata": {},
   "outputs": [],
   "source": [
    "df[['Panel ID','Panel Name']]"
   ]
  },
  {
   "cell_type": "code",
   "execution_count": null,
   "metadata": {},
   "outputs": [],
   "source": [
    "df.groupby(['Panel Name']).size()"
   ]
  },
  {
   "cell_type": "code",
   "execution_count": null,
   "metadata": {},
   "outputs": [],
   "source": [
    "nome_procurado1 = 'HEK293'\n",
    "\n",
    "df_filtrado1 = df.loc[df['Panel Name'] == nome_procurado1]\n",
    "\n",
    "df_filtrado1.reset_index(drop=True, inplace=True)\n"
   ]
  },
  {
   "cell_type": "code",
   "execution_count": null,
   "metadata": {},
   "outputs": [],
   "source": [
    "nome_procurado2 = 'KB-3-1'\n",
    "\n",
    "df_filtrado2 = df.loc[df['Panel Name'] == nome_procurado2]\n",
    "\n",
    "df_filtrado2.reset_index(drop=True, inplace=True)"
   ]
  },
  {
   "cell_type": "code",
   "execution_count": null,
   "metadata": {},
   "outputs": [],
   "source": [
    "nome_procurado3 = 'NIH3T3'\n",
    "\n",
    "df_filtrado3 = df.loc[df['Panel Name'] == nome_procurado3]\n",
    "\n",
    "df_filtrado3.reset_index(drop=True, inplace=True)"
   ]
  },
  {
   "cell_type": "code",
   "execution_count": null,
   "metadata": {},
   "outputs": [],
   "source": [
    "nome_procurado4 = 'CRL-7250'\n",
    "\n",
    "df_filtrado4 = df.loc[df['Panel Name'] == nome_procurado4]\n",
    "\n",
    "df_filtrado4.reset_index(drop=True, inplace=True)"
   ]
  },
  {
   "cell_type": "code",
   "execution_count": null,
   "metadata": {},
   "outputs": [],
   "source": [
    "nome_procurado5 = 'HaCat'\n",
    "\n",
    "df_filtrado5 = df.loc[df['Panel Name'] == nome_procurado5]\n",
    "\n",
    "df_filtrado5.reset_index(drop=True, inplace=True)"
   ]
  },
  {
   "cell_type": "code",
   "execution_count": null,
   "metadata": {},
   "outputs": [],
   "source": [
    "df_filtrado1.to_csv(r'C:\\Users\\franc\\OneDrive\\Documentos\\LabMol\\IC-Citotoxicidade\\datasets\\AID_1296008\\HEK293.csv', index = False)\n",
    "df_filtrado2.to_csv(r'C:\\Users\\franc\\OneDrive\\Documentos\\LabMol\\IC-Citotoxicidade\\datasets\\AID_1296008\\KB-3-1.csv', index = False)\n",
    "df_filtrado3.to_csv(r'C:\\Users\\franc\\OneDrive\\Documentos\\LabMol\\IC-Citotoxicidade\\datasets\\AID_1296008\\NIH3T3.csv', index = False)\n",
    "df_filtrado4.to_csv(r'C:\\Users\\franc\\OneDrive\\Documentos\\LabMol\\IC-Citotoxicidade\\datasets\\AID_1296008\\CRL-7250.csv', index = False)\n",
    "df_filtrado5.to_csv(r'C:\\Users\\franc\\OneDrive\\Documentos\\LabMol\\IC-Citotoxicidade\\datasets\\AID_1296008\\HaCat.csv', index = False)"
   ]
  }
 ],
 "metadata": {
  "kernelspec": {
   "display_name": "ia",
   "language": "python",
   "name": "python3"
  },
  "language_info": {
   "codemirror_mode": {
    "name": "ipython",
    "version": 3
   },
   "file_extension": ".py",
   "mimetype": "text/x-python",
   "name": "python",
   "nbconvert_exporter": "python",
   "pygments_lexer": "ipython3",
   "version": "3.10.6"
  },
  "orig_nbformat": 4
 },
 "nbformat": 4,
 "nbformat_minor": 2
}

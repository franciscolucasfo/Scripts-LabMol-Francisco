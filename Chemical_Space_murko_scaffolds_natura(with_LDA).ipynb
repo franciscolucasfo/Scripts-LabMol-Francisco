{
  "cells": [
    {
      "attachments": {},
      "cell_type": "markdown",
      "id": "fc4ffa44",
      "metadata": {
        "id": "fc4ffa44"
      },
      "source": [
        "### Chemical Space Analysis - PCA, tSNE, Murcko frameworks\n",
        "\n",
        "Developed by Joyce Borba "
      ]
    },
    {
      "attachments": {},
      "cell_type": "markdown",
      "id": "456594f6",
      "metadata": {
        "id": "456594f6"
      },
      "source": [
        "### Import the Necessary Libraries\n",
        "\n",
        "\n"
      ]
    },
    {
      "cell_type": "code",
      "execution_count": null,
      "id": "e862d19f",
      "metadata": {
        "id": "e862d19f"
      },
      "outputs": [],
      "source": [
        "import os\n",
        "import time\n",
        "import pandas as pd\n",
        "import numpy as np\n",
        "\n",
        "from rdkit import Chem\n",
        "from rdkit.Chem import AllChem\n",
        "from rdkit.Chem import PandasTools\n",
        "from rdkit.Chem.Scaffolds.MurckoScaffold import MurckoScaffoldSmilesFromSmiles\n",
        "from rdkit import Chem, DataStructs\n",
        "from rdkit.Chem import Draw\n",
        "from rdkit.Chem.Draw import IPythonConsole\n",
        "from rdkit.Chem import rdFingerprintGenerator\n",
        "from rdkit.Chem import rdDepictor\n",
        "from rdkit.Chem.Draw import rdMolDraw2D\n",
        "from rdkit.Chem.PandasTools import ChangeMoleculeRendering\n",
        "\n",
        "import mols2grid\n",
        "from tqdm.auto import tqdm\n",
        "from ipywidgets import widgets\n",
        "from typing import List\n",
        "\n",
        "from sklearn.discriminant_analysis import LinearDiscriminantAnalysis as LDA\n",
        "from sklearn.preprocessing import StandardScaler\n",
        "from sklearn.decomposition import PCA\n",
        "from sklearn.manifold import TSNE\n",
        "import umap\n",
        "#import hdbscan\n",
        "\n",
        "import matplotlib.pyplot as plt\n",
        "import seaborn as sns\n",
        "IPythonConsole.ipython_useSVG=True \n",
        "from IPython.display import SVG\n",
        "\n",
        "#Bokeh library for plotting\n",
        "import json\n",
        "from bokeh.plotting import figure, show, output_notebook, ColumnDataSource\n",
        "from bokeh.models import HoverTool\n",
        "from bokeh.transform import factor_cmap\n",
        "from bokeh.transform import transform\n",
        "from bokeh.transform import LinearColorMapper\n",
        "from bokeh.models import ColorBar\n",
        "from bokeh.palettes import PiYG\n",
        "from bokeh.plotting import figure, output_file, save\n",
        "output_notebook()\n",
        "\n"
      ]
    },
    {
      "attachments": {},
      "cell_type": "markdown",
      "id": "Ji63JOQ02iD-",
      "metadata": {
        "id": "Ji63JOQ02iD-"
      },
      "source": [
        "Enable Pandas **progress_apply**"
      ]
    },
    {
      "cell_type": "code",
      "execution_count": null,
      "id": "aa12b848",
      "metadata": {
        "id": "aa12b848"
      },
      "outputs": [],
      "source": [
        "tqdm.pandas()"
      ]
    },
    {
      "attachments": {},
      "cell_type": "markdown",
      "id": "b4cb7ca4",
      "metadata": {
        "id": "b4cb7ca4"
      },
      "source": [
        "### Setup"
      ]
    },
    {
      "attachments": {},
      "cell_type": "markdown",
      "id": "493a7a5a",
      "metadata": {
        "id": "493a7a5a"
      },
      "source": [
        "Read the SMILES data"
      ]
    },
    {
      "cell_type": "code",
      "execution_count": null,
      "id": "EzP2Bg4Qqr6D",
      "metadata": {
        "id": "EzP2Bg4Qqr6D"
      },
      "outputs": [],
      "source": [
        "fname = r\"C:\\Users\\franc\\OneDrive\\Documentos\\LabMol\\IC-Citotoxicidade\\datasets\\AID_1345082 3T3\\BALANCED\\curated_reduced_com_smiles.csv\""
      ]
    },
    {
      "cell_type": "code",
      "execution_count": null,
      "id": "42aUPFUxqr6D",
      "metadata": {
        "id": "42aUPFUxqr6D"
      },
      "outputs": [],
      "source": [
        "#df = PandasTools.LoadSDF(fname, smilesName='SMILES', includeFingerprints=False)\n",
        "#df.info()"
      ]
    },
    {
      "cell_type": "code",
      "execution_count": null,
      "id": "ZCArYYpmqr6E",
      "metadata": {
        "colab": {
          "base_uri": "https://localhost:8080/"
        },
        "id": "ZCArYYpmqr6E",
        "outputId": "c6bf02c5-c64c-46a7-f2b7-938eb98fe7e0"
      },
      "outputs": [],
      "source": [
        "df = pd.read_csv(fname)\n",
        "df.info()"
      ]
    },
    {
      "cell_type": "code",
      "execution_count": null,
      "id": "X02T_UmSqr6F",
      "metadata": {
        "colab": {
          "base_uri": "https://localhost:8080/"
        },
        "id": "X02T_UmSqr6F",
        "outputId": "3810902e-0b27-4c82-8895-df648845c228"
      },
      "outputs": [],
      "source": [
        "df=df.rename(columns={'Outcome':'ACTIVITY'})\n",
        "df.info()"
      ]
    },
    {
      "cell_type": "code",
      "execution_count": null,
      "id": "iqeXfstbqr6F",
      "metadata": {
        "colab": {
          "base_uri": "https://localhost:8080/"
        },
        "id": "iqeXfstbqr6F",
        "outputId": "47988a6a-b4ab-4e1b-ead9-66a9bb2d304b"
      },
      "outputs": [],
      "source": [
        "df1=df[['SMILES','ACTIVITY']]\n",
        "df1.info()"
      ]
    },
    {
      "cell_type": "code",
      "execution_count": null,
      "id": "8dd0ee2d",
      "metadata": {},
      "outputs": [],
      "source": [
        "a =pd.DataFrame(df)\n",
        "a"
      ]
    },
    {
      "cell_type": "code",
      "execution_count": null,
      "id": "ZjsQX8Hrqr6F",
      "metadata": {
        "colab": {
          "base_uri": "https://localhost:8080/"
        },
        "id": "ZjsQX8Hrqr6F",
        "outputId": "7d61bc44-33a4-49e2-a3cf-347f21672c09"
      },
      "outputs": [],
      "source": [
        "df1.isnull().any()"
      ]
    },
    {
      "cell_type": "code",
      "execution_count": null,
      "id": "bwFOUlbjqr6G",
      "metadata": {
        "id": "bwFOUlbjqr6G"
      },
      "outputs": [],
      "source": [
        "df1=df1.dropna(subset=['ACTIVITY'])"
      ]
    },
    {
      "cell_type": "code",
      "execution_count": null,
      "id": "DD2xhMHFqr6G",
      "metadata": {
        "colab": {
          "base_uri": "https://localhost:8080/"
        },
        "id": "DD2xhMHFqr6G",
        "outputId": "ab8d913c-bba9-4c9f-f994-4626c1959e1f"
      },
      "outputs": [],
      "source": [
        "df1.info()"
      ]
    },
    {
      "cell_type": "code",
      "execution_count": null,
      "id": "OLCr0LGmqr6G",
      "metadata": {
        "colab": {
          "base_uri": "https://localhost:8080/",
          "referenced_widgets": [
            "67e735ddc778411cab143aae5f993c37",
            "6afd6865f0344cfdadc76ea52918e6a3",
            "50a9b1e8d6d241ea99ff0b8344cfb8e7",
            "5d024a47b41842e9bb01c3c6305572e8",
            "f034dbd3cf42408188b91de6231e3ce4",
            "26db39ce456540ad9e5d566f54ec3156",
            "3c6933c2c2e048518283930bf71fe699",
            "5c6c3cca86f74fbbaa86642000a24a60",
            "6ff5d66a76044c79b177157151ab27f9",
            "6513cbe41afb45ddb61d72df87bd5282",
            "7078e3813d534f95b7a79a1a4c256729"
          ]
        },
        "id": "OLCr0LGmqr6G",
        "outputId": "cf21d926-6e29-4e9b-b8a1-b63bc74e7b90"
      },
      "outputs": [],
      "source": [
        "df1['mol'] = df.SMILES.progress_apply(Chem.MolFromSmiles)"
      ]
    },
    {
      "cell_type": "code",
      "execution_count": null,
      "id": "5JEJge-lqr6H",
      "metadata": {
        "colab": {
          "base_uri": "https://localhost:8080/"
        },
        "id": "5JEJge-lqr6H",
        "outputId": "2261d10c-f0f9-4419-ba2c-7d6f13433295"
      },
      "outputs": [],
      "source": [
        "df1.isnull().any()"
      ]
    },
    {
      "cell_type": "code",
      "execution_count": null,
      "id": "45TpCTtiqr6H",
      "metadata": {
        "colab": {
          "base_uri": "https://localhost:8080/"
        },
        "id": "45TpCTtiqr6H",
        "outputId": "a74d9a67-d42a-4155-d514-916ddd1af498"
      },
      "outputs": [],
      "source": [
        "df1.info()"
      ]
    },
    {
      "cell_type": "code",
      "execution_count": null,
      "id": "PuXt6XqGqr6H",
      "metadata": {
        "colab": {
          "base_uri": "https://localhost:8080/"
        },
        "id": "PuXt6XqGqr6H",
        "outputId": "1e41e9dc-94e4-4c32-ca46-6fe59a0f7bfb"
      },
      "outputs": [],
      "source": [
        "df2=df1.dropna(subset=['mol'])\n",
        "df2.info()"
      ]
    },
    {
      "cell_type": "code",
      "execution_count": null,
      "id": "sNcWMLYgqr6I",
      "metadata": {
        "colab": {
          "base_uri": "https://localhost:8080/",
          "referenced_widgets": [
            "1cda8fe79129414f97cfe07e2ca95908",
            "a1d3897700324eafb70814e3e35f769d",
            "130ff75781fe4dd697b0517e40a71a68",
            "083401f5f4bb4627af9014584b13936c",
            "0684e343c9394209b887d8b202d67fe2",
            "a4cc0993098f4be2871ba7658a448056",
            "a7f552e84cdb46bca7d87563d3b7532c",
            "f99c67c7631641d682ad5471216052a4",
            "324d5341356c455195ff451eeaea4cdf",
            "614a01e758a04ccea8878c1500d6e79f",
            "837c3c6814ae46afb4023899dee32f29"
          ]
        },
        "id": "sNcWMLYgqr6I",
        "outputId": "9e34c630-acc3-401f-aabf-ec2794cc02d5"
      },
      "outputs": [],
      "source": [
        "df2['framework'] = df2.SMILES.progress_apply(MurckoScaffoldSmilesFromSmiles)"
      ]
    },
    {
      "attachments": {},
      "cell_type": "markdown",
      "id": "33cba281",
      "metadata": {
        "id": "33cba281"
      },
      "source": [
        "### Create a DataFrame to Organize the Scaffolds\n",
        "\n"
      ]
    },
    {
      "attachments": {},
      "cell_type": "markdown",
      "id": "5a8da9f8",
      "metadata": {
        "id": "5a8da9f8"
      },
      "source": [
        "As the first part of our analysis, we'd like to look at how frequently each scaffold occurs.  We used the groupby function, agregating via framework - \"size\" counts the frequency and we also calculate the mean activity for further analysis."
      ]
    },
    {
      "cell_type": "code",
      "execution_count": null,
      "id": "3COcJULjqr6J",
      "metadata": {
        "colab": {
          "base_uri": "https://localhost:8080/"
        },
        "id": "3COcJULjqr6J",
        "outputId": "0e3014fc-e01c-4692-e857-ea408d1815ea"
      },
      "outputs": [],
      "source": [
        "scaffold_df = df2.groupby('framework').agg({'framework':'size', 'ACTIVITY':'mean'})\n",
        "scaffold_df"
      ]
    },
    {
      "cell_type": "code",
      "execution_count": null,
      "id": "uhRnH65lqr6J",
      "metadata": {
        "colab": {
          "base_uri": "https://localhost:8080/"
        },
        "id": "uhRnH65lqr6J",
        "outputId": "859866f0-77ae-45f2-a96a-059145105076"
      },
      "outputs": [],
      "source": [
        "#reseting the index and sorting values for the most present scaffolds\n",
        "scaffold_df=scaffold_df.rename(columns={'framework':'n_mol'})\n",
        "scaffold_df=scaffold_df.reset_index()\n",
        "scaffold_df['scaffold_idx'] = scaffold_df.index\n",
        "scaffold_df=scaffold_df.rename(columns={'framework':'scaffold'})\n",
        "scaffold_df=scaffold_df.sort_values(by=['n_mol'], ascending=False)\n",
        "scaffold_df.head()"
      ]
    },
    {
      "cell_type": "code",
      "execution_count": null,
      "id": "rntF4pu6qr6K",
      "metadata": {
        "id": "rntF4pu6qr6K"
      },
      "outputs": [],
      "source": [
        "scaffold_df.to_csv('scaffolds_ames_grouped.csv')"
      ]
    },
    {
      "cell_type": "code",
      "execution_count": null,
      "id": "AyPOnToSqr6K",
      "metadata": {
        "id": "AyPOnToSqr6K"
      },
      "outputs": [],
      "source": [
        "df2.to_csv('ames_cpds_scaffods.csv')"
      ]
    },
    {
      "cell_type": "code",
      "execution_count": null,
      "id": "uxbiMZSfqr6K",
      "metadata": {
        "colab": {
          "base_uri": "https://localhost:8080/"
        },
        "id": "uxbiMZSfqr6K",
        "outputId": "b446075d-203e-43b4-fb76-5c9ff38331a8"
      },
      "outputs": [],
      "source": [
        "#tirei os dados sem scaffold e o benzeno pro plot ficar mais bonito e informativo:\n",
        "scaffold_df = scaffold_df[scaffold_df.scaffold != '']\n",
        "scaffold_df = scaffold_df[scaffold_df.scaffold != 'c1ccccc1']\n",
        "scaffold_df.head()"
      ]
    },
    {
      "attachments": {},
      "cell_type": "markdown",
      "id": "Uzrfg0jwqr6L",
      "metadata": {
        "id": "Uzrfg0jwqr6L"
      },
      "source": [
        "### Calculate descriptors (morgan)"
      ]
    },
    {
      "cell_type": "code",
      "execution_count": null,
      "id": "Ndo_TqgLqr6L",
      "metadata": {
        "colab": {
          "base_uri": "https://localhost:8080/",
          "referenced_widgets": [
            "72819f10678747c18cb7bdea55f96cd4",
            "1bb3859f69e24770af2825e0c821c704",
            "a9ef93379a4543c59f8bfec6225819ef",
            "d9d6c9a5d9c7436198671b95a94d99bc",
            "27a8feea0fb2461da2b8a22f8ec1834e",
            "c24eb773704b4b60833330e971689c27",
            "8d6a6b38a4bf41c9a8a79408fb6c4e9e",
            "f81847106d494b5989953c4182dddf7c",
            "56ab5715256642b2ba15a415743ab7d5",
            "f701d94e20bd46a59aaa2d71dbf822db",
            "89d3c8e861204ed2b0d822f99de5978f"
          ]
        },
        "id": "Ndo_TqgLqr6L",
        "outputId": "039f7b59-897c-4bb3-d933-adeccce8b8fa"
      },
      "outputs": [],
      "source": [
        "scaffold_df['mol'] = scaffold_df.scaffold.progress_apply(Chem.MolFromSmiles)"
      ]
    },
    {
      "cell_type": "code",
      "execution_count": null,
      "id": "NKx1HHpXqr6L",
      "metadata": {
        "id": "NKx1HHpXqr6L"
      },
      "outputs": [],
      "source": [
        "scaffold_df=scaffold_df.loc[scaffold_df.mol.notnull()]"
      ]
    },
    {
      "cell_type": "code",
      "execution_count": null,
      "id": "lEEyAn9jqr6L",
      "metadata": {
        "colab": {
          "base_uri": "https://localhost:8080/"
        },
        "id": "lEEyAn9jqr6L",
        "outputId": "f39a9644-6165-40bb-e6fb-492f83c00ded"
      },
      "outputs": [],
      "source": [
        "scaffold_df.info()"
      ]
    },
    {
      "cell_type": "code",
      "execution_count": null,
      "id": "63aa6686",
      "metadata": {},
      "outputs": [],
      "source": [
        "scaffold_df"
      ]
    },
    {
      "cell_type": "code",
      "execution_count": null,
      "id": "6N_zVUafqr6L",
      "metadata": {
        "id": "6N_zVUafqr6L"
      },
      "outputs": [],
      "source": [
        "#calculate ECF4 descriptor\n",
        "ECFP4_fps = np.array([AllChem.GetMorganFingerprintAsBitVect(x,2) for x in scaffold_df['mol']])\n"
      ]
    },
    {
      "attachments": {},
      "cell_type": "markdown",
      "id": "8_WF1uTCqr6L",
      "metadata": {
        "id": "8_WF1uTCqr6L"
      },
      "source": [
        "### Calculate LDA\n"
      ]
    },
    {
      "cell_type": "code",
      "execution_count": null,
      "id": "a78b201a",
      "metadata": {},
      "outputs": [],
      "source": [
        "x_train_lda = ECFP4_fps\n",
        "y_train_lda = scaffold_df[\"n_mol\"]"
      ]
    },
    {
      "cell_type": "code",
      "execution_count": null,
      "id": "bb002732",
      "metadata": {},
      "outputs": [],
      "source": [
        "x_train_lda = StandardScaler().fit_transform(x_train_lda)"
      ]
    },
    {
      "cell_type": "code",
      "execution_count": null,
      "id": "QzXZt88mqr6M",
      "metadata": {
        "colab": {
          "base_uri": "https://localhost:8080/"
        },
        "id": "QzXZt88mqr6M",
        "outputId": "05e488ee-6b8a-411d-9712-6031947af30c"
      },
      "outputs": [],
      "source": [
        "%%time\n",
        "lda = LDA(n_components=2)\n",
        "lda.fit(x_train_lda, y_train_lda)\n",
        "x_lda = lda.transform(x_train_lda)\n",
        "lda_df = pd.DataFrame(x_lda, columns=['X_LDA','Y_LDA'])\n",
        "\n",
        "lda_df.info()"
      ]
    },
    {
      "attachments": {},
      "cell_type": "markdown",
      "id": "8_WF1uTCqr6L",
      "metadata": {
        "id": "8_WF1uTCqr6L"
      },
      "source": [
        "### Calculate PCA"
      ]
    },
    {
      "cell_type": "code",
      "execution_count": null,
      "id": "QzXZt88mqr6M",
      "metadata": {
        "colab": {
          "base_uri": "https://localhost:8080/"
        },
        "id": "QzXZt88mqr6M",
        "outputId": "05e488ee-6b8a-411d-9712-6031947af30c"
      },
      "outputs": [],
      "source": [
        "%%time\n",
        "pca = PCA(n_components=2)\n",
        "X_pca = pca.fit_transform(ECFP4_fps)\n",
        "pca_df = pd.DataFrame(X_pca, columns= ['X_PCA','Y_PCA'])\n",
        "pca_df.info()"
      ]
    },
    {
      "attachments": {},
      "cell_type": "markdown",
      "id": "ihpD6W-fqr6M",
      "metadata": {
        "id": "ihpD6W-fqr6M"
      },
      "source": [
        "### Calculate TSNE"
      ]
    },
    {
      "cell_type": "code",
      "execution_count": null,
      "id": "szCbecBYqr6M",
      "metadata": {
        "colab": {
          "base_uri": "https://localhost:8080/"
        },
        "id": "szCbecBYqr6M",
        "outputId": "acb01318-6dd9-494e-b0d9-636cb40a541c"
      },
      "outputs": [],
      "source": [
        "%%time\n",
        "tsne = TSNE(random_state=0).fit_transform(ECFP4_fps)\n",
        "#tsne = TSNE(random_state=0).fit_transform(ECFP4_fps)\n",
        "tsne_df = pd.DataFrame(tsne, columns= ['X_TSNE', 'Y_TSNE'])\n",
        "\n",
        "tsne_df.info()"
      ]
    },
    {
      "attachments": {},
      "cell_type": "markdown",
      "id": "DA_ve4beqr6M",
      "metadata": {
        "id": "DA_ve4beqr6M"
      },
      "source": [
        "### Calculate UMAP"
      ]
    },
    {
      "attachments": {},
      "cell_type": "markdown",
      "id": "XwRWVTLYqr6M",
      "metadata": {
        "id": "XwRWVTLYqr6M"
      },
      "source": [
        "### Prepare molecules to print"
      ]
    },
    {
      "cell_type": "code",
      "execution_count": null,
      "id": "zlimjDELqr6N",
      "metadata": {
        "id": "zlimjDELqr6N"
      },
      "outputs": [],
      "source": [
        "def _prepareMol(mol,kekulize):\n",
        "    mc = Chem.Mol(mol.ToBinary())\n",
        "    if kekulize:\n",
        "        try:\n",
        "            Chem.Kekulize(mc)\n",
        "        except:\n",
        "            mc = Chem.Mol(mol.ToBinary())\n",
        "    if not mc.GetNumConformers():\n",
        "        rdDepictor.Compute2DCoords(mc)\n",
        "    return mc\n",
        "\n",
        "def moltosvg(mol,molSize=(450,200),kekulize=True,drawer=None,**kwargs):\n",
        "    mc = _prepareMol(mol,kekulize)\n",
        "    if drawer is None:\n",
        "        drawer = rdMolDraw2D.MolDraw2DSVG(molSize[0],molSize[1])\n",
        "    drawer.DrawMolecule(mc,**kwargs)\n",
        "    drawer.FinishDrawing()\n",
        "    svg = drawer.GetDrawingText()\n",
        "    return SVG(svg.replace('svg:',''))"
      ]
    },
    {
      "cell_type": "code",
      "execution_count": null,
      "id": "ize00jDvqr6N",
      "metadata": {
        "id": "ize00jDvqr6N"
      },
      "outputs": [],
      "source": [
        "svgs = [moltosvg(m).data for m in scaffold_df.mol]"
      ]
    },
    {
      "cell_type": "code",
      "execution_count": null,
      "id": "F5GAushvqr6N",
      "metadata": {
        "colab": {
          "base_uri": "https://localhost:8080/"
        },
        "id": "F5GAushvqr6N",
        "outputId": "bbaef69e-7794-475c-fdbe-5c45df17996a"
      },
      "outputs": [],
      "source": [
        "scaffold_df.info()"
      ]
    },
    {
      "cell_type": "code",
      "execution_count": null,
      "id": "tTq4Szidqr6N",
      "metadata": {
        "colab": {
          "base_uri": "https://localhost:8080/"
        },
        "id": "tTq4Szidqr6N",
        "outputId": "628078e3-7b55-4406-f075-e31e04ebf09b"
      },
      "outputs": [],
      "source": [
        "scaffold_df=scaffold_df.reset_index()\n",
        "scaffold_df.head()"
      ]
    },
    {
      "cell_type": "code",
      "execution_count": null,
      "id": "euMnCJbYqr6N",
      "metadata": {
        "colab": {
          "base_uri": "https://localhost:8080/"
        },
        "id": "euMnCJbYqr6N",
        "outputId": "020d8004-f72b-496c-ef00-1ed09abe44fd"
      },
      "outputs": [],
      "source": [
        "df_merge = pd.concat([scaffold_df, pca_df, tsne_df, lda_df], axis=1)\n",
        "df_merge.head()"
      ]
    },
    {
      "attachments": {},
      "cell_type": "markdown",
      "id": "0WUUsBHVqr6N",
      "metadata": {
        "id": "0WUUsBHVqr6N"
      },
      "source": [
        "### Plot interactive maps"
      ]
    },
    {
      "cell_type": "code",
      "execution_count": null,
      "id": "oYKNeynmqr6O",
      "metadata": {
        "id": "oYKNeynmqr6O"
      },
      "outputs": [],
      "source": [
        "color_mapper=LinearColorMapper(palette=PiYG[9],\n",
        "                               low=scaffold_df.ACTIVITY.max(), high=scaffold_df.ACTIVITY.min())"
      ]
    },
    {
      "cell_type": "code",
      "execution_count": null,
      "id": "DSEh9UiCqr6O",
      "metadata": {
        "id": "DSEh9UiCqr6O"
      },
      "outputs": [],
      "source": [
        "scaffold_df['s']= [m for m in scaffold_df.n_mol]"
      ]
    },
    {
      "cell_type": "code",
      "execution_count": null,
      "id": "Fy-OIZJTg3kr",
      "metadata": {
        "colab": {
          "base_uri": "https://localhost:8080/",
          "height": 424
        },
        "id": "Fy-OIZJTg3kr",
        "outputId": "85ceb721-8b31-43e8-86bf-b2d15a6c464d"
      },
      "outputs": [],
      "source": [
        "scaffold_df"
      ]
    },
    {
      "cell_type": "code",
      "execution_count": null,
      "id": "gkzbAx3oqr6O",
      "metadata": {
        "id": "gkzbAx3oqr6O"
      },
      "outputs": [],
      "source": [
        "def plot_int_map(metodology):\n",
        "    source = ColumnDataSource(data=dict(x=metodology[:,0], y=metodology[:,1], freq = scaffold_df.n_mol, desc= scaffold_df.ACTIVITY,\n",
        "                                    svgs=svgs, s=scaffold_df.s*6, c=scaffold_df.ACTIVITY))\n",
        "    ChangeMoleculeRendering(renderer='PNG')\n",
        "\n",
        "\n",
        "\n",
        "    hover = HoverTool(tooltips=\"\"\"\n",
        "        <div>\n",
        "            <div>@svgs{safe}\n",
        "            </div>\n",
        "            <div>\n",
        "                <span style=\"font-size: 17px; font-weight: bold;\">Frequency @freq</span>\n",
        "            </div>\n",
        "            <div>\n",
        "                <span style=\"font-size: 17px; font-weight: bold;\">Pred_True_Positive @desc</span>\n",
        "            </div>\n",
        "        </div>\n",
        "        </body>\n",
        "        \"\"\")\n",
        "\n",
        "    interactive_map = figure(width = 1000, height=1000, tools=['reset,box_zoom,wheel_zoom,zoom_in,zoom_out,pan',hover],\n",
        "           title=\"Chemical Space of external set (true and false positives)\")\n",
        "\n",
        "\n",
        "\n",
        "    interactive_map.circle('x', 'y', \n",
        "                           source=source,\n",
        "                           size='s',\n",
        "                           color=transform('c', color_mapper),\n",
        "                           fill_alpha=0.5);\n",
        "\n",
        "    color_bar = ColorBar(color_mapper=color_mapper, label_standoff=12, location=(0,0), title ='Activity')\n",
        "    interactive_map.add_layout(color_bar,'left')\n",
        "    show(interactive_map)\n",
        "    return interactive_map"
      ]
    },
    {
      "cell_type": "code",
      "execution_count": null,
      "id": "QlvZT9vIqr6O",
      "metadata": {
        "colab": {
          "base_uri": "https://localhost:8080/",
          "height": 1000
        },
        "id": "QlvZT9vIqr6O",
        "outputId": "20f64569-5d56-4fef-d817-6e2e95d17ab0"
      },
      "outputs": [],
      "source": [
        "pca_map=plot_int_map(X_pca)"
      ]
    },
    {
      "cell_type": "code",
      "execution_count": null,
      "id": "75f1b2ba",
      "metadata": {},
      "outputs": [],
      "source": [
        "lda_map=plot_int_map(x_lda)"
      ]
    },
    {
      "cell_type": "code",
      "execution_count": null,
      "id": "MCon7nroqr6O",
      "metadata": {
        "colab": {
          "base_uri": "https://localhost:8080/",
          "height": 1000
        },
        "id": "MCon7nroqr6O",
        "outputId": "24cec73e-6a47-4b33-b5e1-b10135adbb98"
      },
      "outputs": [],
      "source": [
        "tsne_map=plot_int_map(tsne)"
      ]
    },
    {
      "cell_type": "code",
      "execution_count": null,
      "id": "d1bb8850",
      "metadata": {},
      "outputs": [],
      "source": [
        "output_file(\"./tsne_ames_FP.html\")\n",
        "save(tsne_map)\n",
        "\n",
        "output_file(\"./pca_ames_FP.html\")\n",
        "save(pca_map)\n",
        "\n",
        "output_file(\"./lda_ames_FP.html\")\n",
        "save(lda_map)"
      ]
    },
    {
      "cell_type": "code",
      "execution_count": null,
      "id": "RrH5mXtEqr6P",
      "metadata": {
        "id": "RrH5mXtEqr6P"
      },
      "outputs": [],
      "source": [
        "scaffold_df.to_csv('./scaffolds_ames_CS_FP.csv')"
      ]
    }
  ],
  "metadata": {
    "colab": {
      "collapsed_sections": [
        "33cba281",
        "Uzrfg0jwqr6L",
        "8_WF1uTCqr6L",
        "ihpD6W-fqr6M",
        "DA_ve4beqr6M"
      ],
      "provenance": []
    },
    "kernelspec": {
      "display_name": "base",
      "language": "python",
      "name": "python3"
    },
    "language_info": {
      "codemirror_mode": {
        "name": "ipython",
        "version": 3
      },
      "file_extension": ".py",
      "mimetype": "text/x-python",
      "name": "python",
      "nbconvert_exporter": "python",
      "pygments_lexer": "ipython3",
      "version": "3.10.6"
    },
    "vscode": {
      "interpreter": {
        "hash": "571c59294d03482e41bb2cfc996bf2c85130c06be18ebc8a39b4645bf778ac27"
      }
    },
    "widgets": {
      "application/vnd.jupyter.widget-state+json": {
        "0684e343c9394209b887d8b202d67fe2": {
          "model_module": "@jupyter-widgets/base",
          "model_module_version": "1.2.0",
          "model_name": "LayoutModel",
          "state": {
            "_model_module": "@jupyter-widgets/base",
            "_model_module_version": "1.2.0",
            "_model_name": "LayoutModel",
            "_view_count": null,
            "_view_module": "@jupyter-widgets/base",
            "_view_module_version": "1.2.0",
            "_view_name": "LayoutView",
            "align_content": null,
            "align_items": null,
            "align_self": null,
            "border": null,
            "bottom": null,
            "display": null,
            "flex": null,
            "flex_flow": null,
            "grid_area": null,
            "grid_auto_columns": null,
            "grid_auto_flow": null,
            "grid_auto_rows": null,
            "grid_column": null,
            "grid_gap": null,
            "grid_row": null,
            "grid_template_areas": null,
            "grid_template_columns": null,
            "grid_template_rows": null,
            "height": null,
            "justify_content": null,
            "justify_items": null,
            "left": null,
            "margin": null,
            "max_height": null,
            "max_width": null,
            "min_height": null,
            "min_width": null,
            "object_fit": null,
            "object_position": null,
            "order": null,
            "overflow": null,
            "overflow_x": null,
            "overflow_y": null,
            "padding": null,
            "right": null,
            "top": null,
            "visibility": null,
            "width": null
          }
        },
        "083401f5f4bb4627af9014584b13936c": {
          "model_module": "@jupyter-widgets/controls",
          "model_module_version": "1.5.0",
          "model_name": "HTMLModel",
          "state": {
            "_dom_classes": [],
            "_model_module": "@jupyter-widgets/controls",
            "_model_module_version": "1.5.0",
            "_model_name": "HTMLModel",
            "_view_count": null,
            "_view_module": "@jupyter-widgets/controls",
            "_view_module_version": "1.5.0",
            "_view_name": "HTMLView",
            "description": "",
            "description_tooltip": null,
            "layout": "IPY_MODEL_614a01e758a04ccea8878c1500d6e79f",
            "placeholder": "​",
            "style": "IPY_MODEL_837c3c6814ae46afb4023899dee32f29",
            "value": " 1215/1215 [00:00&lt;00:00, 1280.68it/s]"
          }
        },
        "130ff75781fe4dd697b0517e40a71a68": {
          "model_module": "@jupyter-widgets/controls",
          "model_module_version": "1.5.0",
          "model_name": "FloatProgressModel",
          "state": {
            "_dom_classes": [],
            "_model_module": "@jupyter-widgets/controls",
            "_model_module_version": "1.5.0",
            "_model_name": "FloatProgressModel",
            "_view_count": null,
            "_view_module": "@jupyter-widgets/controls",
            "_view_module_version": "1.5.0",
            "_view_name": "ProgressView",
            "bar_style": "success",
            "description": "",
            "description_tooltip": null,
            "layout": "IPY_MODEL_f99c67c7631641d682ad5471216052a4",
            "max": 1215,
            "min": 0,
            "orientation": "horizontal",
            "style": "IPY_MODEL_324d5341356c455195ff451eeaea4cdf",
            "value": 1215
          }
        },
        "1bb3859f69e24770af2825e0c821c704": {
          "model_module": "@jupyter-widgets/controls",
          "model_module_version": "1.5.0",
          "model_name": "HTMLModel",
          "state": {
            "_dom_classes": [],
            "_model_module": "@jupyter-widgets/controls",
            "_model_module_version": "1.5.0",
            "_model_name": "HTMLModel",
            "_view_count": null,
            "_view_module": "@jupyter-widgets/controls",
            "_view_module_version": "1.5.0",
            "_view_name": "HTMLView",
            "description": "",
            "description_tooltip": null,
            "layout": "IPY_MODEL_c24eb773704b4b60833330e971689c27",
            "placeholder": "​",
            "style": "IPY_MODEL_8d6a6b38a4bf41c9a8a79408fb6c4e9e",
            "value": "100%"
          }
        },
        "1cda8fe79129414f97cfe07e2ca95908": {
          "model_module": "@jupyter-widgets/controls",
          "model_module_version": "1.5.0",
          "model_name": "HBoxModel",
          "state": {
            "_dom_classes": [],
            "_model_module": "@jupyter-widgets/controls",
            "_model_module_version": "1.5.0",
            "_model_name": "HBoxModel",
            "_view_count": null,
            "_view_module": "@jupyter-widgets/controls",
            "_view_module_version": "1.5.0",
            "_view_name": "HBoxView",
            "box_style": "",
            "children": [
              "IPY_MODEL_a1d3897700324eafb70814e3e35f769d",
              "IPY_MODEL_130ff75781fe4dd697b0517e40a71a68",
              "IPY_MODEL_083401f5f4bb4627af9014584b13936c"
            ],
            "layout": "IPY_MODEL_0684e343c9394209b887d8b202d67fe2"
          }
        },
        "26db39ce456540ad9e5d566f54ec3156": {
          "model_module": "@jupyter-widgets/base",
          "model_module_version": "1.2.0",
          "model_name": "LayoutModel",
          "state": {
            "_model_module": "@jupyter-widgets/base",
            "_model_module_version": "1.2.0",
            "_model_name": "LayoutModel",
            "_view_count": null,
            "_view_module": "@jupyter-widgets/base",
            "_view_module_version": "1.2.0",
            "_view_name": "LayoutView",
            "align_content": null,
            "align_items": null,
            "align_self": null,
            "border": null,
            "bottom": null,
            "display": null,
            "flex": null,
            "flex_flow": null,
            "grid_area": null,
            "grid_auto_columns": null,
            "grid_auto_flow": null,
            "grid_auto_rows": null,
            "grid_column": null,
            "grid_gap": null,
            "grid_row": null,
            "grid_template_areas": null,
            "grid_template_columns": null,
            "grid_template_rows": null,
            "height": null,
            "justify_content": null,
            "justify_items": null,
            "left": null,
            "margin": null,
            "max_height": null,
            "max_width": null,
            "min_height": null,
            "min_width": null,
            "object_fit": null,
            "object_position": null,
            "order": null,
            "overflow": null,
            "overflow_x": null,
            "overflow_y": null,
            "padding": null,
            "right": null,
            "top": null,
            "visibility": null,
            "width": null
          }
        },
        "27a8feea0fb2461da2b8a22f8ec1834e": {
          "model_module": "@jupyter-widgets/base",
          "model_module_version": "1.2.0",
          "model_name": "LayoutModel",
          "state": {
            "_model_module": "@jupyter-widgets/base",
            "_model_module_version": "1.2.0",
            "_model_name": "LayoutModel",
            "_view_count": null,
            "_view_module": "@jupyter-widgets/base",
            "_view_module_version": "1.2.0",
            "_view_name": "LayoutView",
            "align_content": null,
            "align_items": null,
            "align_self": null,
            "border": null,
            "bottom": null,
            "display": null,
            "flex": null,
            "flex_flow": null,
            "grid_area": null,
            "grid_auto_columns": null,
            "grid_auto_flow": null,
            "grid_auto_rows": null,
            "grid_column": null,
            "grid_gap": null,
            "grid_row": null,
            "grid_template_areas": null,
            "grid_template_columns": null,
            "grid_template_rows": null,
            "height": null,
            "justify_content": null,
            "justify_items": null,
            "left": null,
            "margin": null,
            "max_height": null,
            "max_width": null,
            "min_height": null,
            "min_width": null,
            "object_fit": null,
            "object_position": null,
            "order": null,
            "overflow": null,
            "overflow_x": null,
            "overflow_y": null,
            "padding": null,
            "right": null,
            "top": null,
            "visibility": null,
            "width": null
          }
        },
        "324d5341356c455195ff451eeaea4cdf": {
          "model_module": "@jupyter-widgets/controls",
          "model_module_version": "1.5.0",
          "model_name": "ProgressStyleModel",
          "state": {
            "_model_module": "@jupyter-widgets/controls",
            "_model_module_version": "1.5.0",
            "_model_name": "ProgressStyleModel",
            "_view_count": null,
            "_view_module": "@jupyter-widgets/base",
            "_view_module_version": "1.2.0",
            "_view_name": "StyleView",
            "bar_color": null,
            "description_width": ""
          }
        },
        "3c6933c2c2e048518283930bf71fe699": {
          "model_module": "@jupyter-widgets/controls",
          "model_module_version": "1.5.0",
          "model_name": "DescriptionStyleModel",
          "state": {
            "_model_module": "@jupyter-widgets/controls",
            "_model_module_version": "1.5.0",
            "_model_name": "DescriptionStyleModel",
            "_view_count": null,
            "_view_module": "@jupyter-widgets/base",
            "_view_module_version": "1.2.0",
            "_view_name": "StyleView",
            "description_width": ""
          }
        },
        "50a9b1e8d6d241ea99ff0b8344cfb8e7": {
          "model_module": "@jupyter-widgets/controls",
          "model_module_version": "1.5.0",
          "model_name": "FloatProgressModel",
          "state": {
            "_dom_classes": [],
            "_model_module": "@jupyter-widgets/controls",
            "_model_module_version": "1.5.0",
            "_model_name": "FloatProgressModel",
            "_view_count": null,
            "_view_module": "@jupyter-widgets/controls",
            "_view_module_version": "1.5.0",
            "_view_name": "ProgressView",
            "bar_style": "success",
            "description": "",
            "description_tooltip": null,
            "layout": "IPY_MODEL_5c6c3cca86f74fbbaa86642000a24a60",
            "max": 1215,
            "min": 0,
            "orientation": "horizontal",
            "style": "IPY_MODEL_6ff5d66a76044c79b177157151ab27f9",
            "value": 1215
          }
        },
        "56ab5715256642b2ba15a415743ab7d5": {
          "model_module": "@jupyter-widgets/controls",
          "model_module_version": "1.5.0",
          "model_name": "ProgressStyleModel",
          "state": {
            "_model_module": "@jupyter-widgets/controls",
            "_model_module_version": "1.5.0",
            "_model_name": "ProgressStyleModel",
            "_view_count": null,
            "_view_module": "@jupyter-widgets/base",
            "_view_module_version": "1.2.0",
            "_view_name": "StyleView",
            "bar_color": null,
            "description_width": ""
          }
        },
        "5c6c3cca86f74fbbaa86642000a24a60": {
          "model_module": "@jupyter-widgets/base",
          "model_module_version": "1.2.0",
          "model_name": "LayoutModel",
          "state": {
            "_model_module": "@jupyter-widgets/base",
            "_model_module_version": "1.2.0",
            "_model_name": "LayoutModel",
            "_view_count": null,
            "_view_module": "@jupyter-widgets/base",
            "_view_module_version": "1.2.0",
            "_view_name": "LayoutView",
            "align_content": null,
            "align_items": null,
            "align_self": null,
            "border": null,
            "bottom": null,
            "display": null,
            "flex": null,
            "flex_flow": null,
            "grid_area": null,
            "grid_auto_columns": null,
            "grid_auto_flow": null,
            "grid_auto_rows": null,
            "grid_column": null,
            "grid_gap": null,
            "grid_row": null,
            "grid_template_areas": null,
            "grid_template_columns": null,
            "grid_template_rows": null,
            "height": null,
            "justify_content": null,
            "justify_items": null,
            "left": null,
            "margin": null,
            "max_height": null,
            "max_width": null,
            "min_height": null,
            "min_width": null,
            "object_fit": null,
            "object_position": null,
            "order": null,
            "overflow": null,
            "overflow_x": null,
            "overflow_y": null,
            "padding": null,
            "right": null,
            "top": null,
            "visibility": null,
            "width": null
          }
        },
        "5d024a47b41842e9bb01c3c6305572e8": {
          "model_module": "@jupyter-widgets/controls",
          "model_module_version": "1.5.0",
          "model_name": "HTMLModel",
          "state": {
            "_dom_classes": [],
            "_model_module": "@jupyter-widgets/controls",
            "_model_module_version": "1.5.0",
            "_model_name": "HTMLModel",
            "_view_count": null,
            "_view_module": "@jupyter-widgets/controls",
            "_view_module_version": "1.5.0",
            "_view_name": "HTMLView",
            "description": "",
            "description_tooltip": null,
            "layout": "IPY_MODEL_6513cbe41afb45ddb61d72df87bd5282",
            "placeholder": "​",
            "style": "IPY_MODEL_7078e3813d534f95b7a79a1a4c256729",
            "value": " 1215/1215 [00:00&lt;00:00, 6021.99it/s]"
          }
        },
        "614a01e758a04ccea8878c1500d6e79f": {
          "model_module": "@jupyter-widgets/base",
          "model_module_version": "1.2.0",
          "model_name": "LayoutModel",
          "state": {
            "_model_module": "@jupyter-widgets/base",
            "_model_module_version": "1.2.0",
            "_model_name": "LayoutModel",
            "_view_count": null,
            "_view_module": "@jupyter-widgets/base",
            "_view_module_version": "1.2.0",
            "_view_name": "LayoutView",
            "align_content": null,
            "align_items": null,
            "align_self": null,
            "border": null,
            "bottom": null,
            "display": null,
            "flex": null,
            "flex_flow": null,
            "grid_area": null,
            "grid_auto_columns": null,
            "grid_auto_flow": null,
            "grid_auto_rows": null,
            "grid_column": null,
            "grid_gap": null,
            "grid_row": null,
            "grid_template_areas": null,
            "grid_template_columns": null,
            "grid_template_rows": null,
            "height": null,
            "justify_content": null,
            "justify_items": null,
            "left": null,
            "margin": null,
            "max_height": null,
            "max_width": null,
            "min_height": null,
            "min_width": null,
            "object_fit": null,
            "object_position": null,
            "order": null,
            "overflow": null,
            "overflow_x": null,
            "overflow_y": null,
            "padding": null,
            "right": null,
            "top": null,
            "visibility": null,
            "width": null
          }
        },
        "6513cbe41afb45ddb61d72df87bd5282": {
          "model_module": "@jupyter-widgets/base",
          "model_module_version": "1.2.0",
          "model_name": "LayoutModel",
          "state": {
            "_model_module": "@jupyter-widgets/base",
            "_model_module_version": "1.2.0",
            "_model_name": "LayoutModel",
            "_view_count": null,
            "_view_module": "@jupyter-widgets/base",
            "_view_module_version": "1.2.0",
            "_view_name": "LayoutView",
            "align_content": null,
            "align_items": null,
            "align_self": null,
            "border": null,
            "bottom": null,
            "display": null,
            "flex": null,
            "flex_flow": null,
            "grid_area": null,
            "grid_auto_columns": null,
            "grid_auto_flow": null,
            "grid_auto_rows": null,
            "grid_column": null,
            "grid_gap": null,
            "grid_row": null,
            "grid_template_areas": null,
            "grid_template_columns": null,
            "grid_template_rows": null,
            "height": null,
            "justify_content": null,
            "justify_items": null,
            "left": null,
            "margin": null,
            "max_height": null,
            "max_width": null,
            "min_height": null,
            "min_width": null,
            "object_fit": null,
            "object_position": null,
            "order": null,
            "overflow": null,
            "overflow_x": null,
            "overflow_y": null,
            "padding": null,
            "right": null,
            "top": null,
            "visibility": null,
            "width": null
          }
        },
        "67e735ddc778411cab143aae5f993c37": {
          "model_module": "@jupyter-widgets/controls",
          "model_module_version": "1.5.0",
          "model_name": "HBoxModel",
          "state": {
            "_dom_classes": [],
            "_model_module": "@jupyter-widgets/controls",
            "_model_module_version": "1.5.0",
            "_model_name": "HBoxModel",
            "_view_count": null,
            "_view_module": "@jupyter-widgets/controls",
            "_view_module_version": "1.5.0",
            "_view_name": "HBoxView",
            "box_style": "",
            "children": [
              "IPY_MODEL_6afd6865f0344cfdadc76ea52918e6a3",
              "IPY_MODEL_50a9b1e8d6d241ea99ff0b8344cfb8e7",
              "IPY_MODEL_5d024a47b41842e9bb01c3c6305572e8"
            ],
            "layout": "IPY_MODEL_f034dbd3cf42408188b91de6231e3ce4"
          }
        },
        "6afd6865f0344cfdadc76ea52918e6a3": {
          "model_module": "@jupyter-widgets/controls",
          "model_module_version": "1.5.0",
          "model_name": "HTMLModel",
          "state": {
            "_dom_classes": [],
            "_model_module": "@jupyter-widgets/controls",
            "_model_module_version": "1.5.0",
            "_model_name": "HTMLModel",
            "_view_count": null,
            "_view_module": "@jupyter-widgets/controls",
            "_view_module_version": "1.5.0",
            "_view_name": "HTMLView",
            "description": "",
            "description_tooltip": null,
            "layout": "IPY_MODEL_26db39ce456540ad9e5d566f54ec3156",
            "placeholder": "​",
            "style": "IPY_MODEL_3c6933c2c2e048518283930bf71fe699",
            "value": "100%"
          }
        },
        "6ff5d66a76044c79b177157151ab27f9": {
          "model_module": "@jupyter-widgets/controls",
          "model_module_version": "1.5.0",
          "model_name": "ProgressStyleModel",
          "state": {
            "_model_module": "@jupyter-widgets/controls",
            "_model_module_version": "1.5.0",
            "_model_name": "ProgressStyleModel",
            "_view_count": null,
            "_view_module": "@jupyter-widgets/base",
            "_view_module_version": "1.2.0",
            "_view_name": "StyleView",
            "bar_color": null,
            "description_width": ""
          }
        },
        "7078e3813d534f95b7a79a1a4c256729": {
          "model_module": "@jupyter-widgets/controls",
          "model_module_version": "1.5.0",
          "model_name": "DescriptionStyleModel",
          "state": {
            "_model_module": "@jupyter-widgets/controls",
            "_model_module_version": "1.5.0",
            "_model_name": "DescriptionStyleModel",
            "_view_count": null,
            "_view_module": "@jupyter-widgets/base",
            "_view_module_version": "1.2.0",
            "_view_name": "StyleView",
            "description_width": ""
          }
        },
        "72819f10678747c18cb7bdea55f96cd4": {
          "model_module": "@jupyter-widgets/controls",
          "model_module_version": "1.5.0",
          "model_name": "HBoxModel",
          "state": {
            "_dom_classes": [],
            "_model_module": "@jupyter-widgets/controls",
            "_model_module_version": "1.5.0",
            "_model_name": "HBoxModel",
            "_view_count": null,
            "_view_module": "@jupyter-widgets/controls",
            "_view_module_version": "1.5.0",
            "_view_name": "HBoxView",
            "box_style": "",
            "children": [
              "IPY_MODEL_1bb3859f69e24770af2825e0c821c704",
              "IPY_MODEL_a9ef93379a4543c59f8bfec6225819ef",
              "IPY_MODEL_d9d6c9a5d9c7436198671b95a94d99bc"
            ],
            "layout": "IPY_MODEL_27a8feea0fb2461da2b8a22f8ec1834e"
          }
        },
        "837c3c6814ae46afb4023899dee32f29": {
          "model_module": "@jupyter-widgets/controls",
          "model_module_version": "1.5.0",
          "model_name": "DescriptionStyleModel",
          "state": {
            "_model_module": "@jupyter-widgets/controls",
            "_model_module_version": "1.5.0",
            "_model_name": "DescriptionStyleModel",
            "_view_count": null,
            "_view_module": "@jupyter-widgets/base",
            "_view_module_version": "1.2.0",
            "_view_name": "StyleView",
            "description_width": ""
          }
        },
        "89d3c8e861204ed2b0d822f99de5978f": {
          "model_module": "@jupyter-widgets/controls",
          "model_module_version": "1.5.0",
          "model_name": "DescriptionStyleModel",
          "state": {
            "_model_module": "@jupyter-widgets/controls",
            "_model_module_version": "1.5.0",
            "_model_name": "DescriptionStyleModel",
            "_view_count": null,
            "_view_module": "@jupyter-widgets/base",
            "_view_module_version": "1.2.0",
            "_view_name": "StyleView",
            "description_width": ""
          }
        },
        "8d6a6b38a4bf41c9a8a79408fb6c4e9e": {
          "model_module": "@jupyter-widgets/controls",
          "model_module_version": "1.5.0",
          "model_name": "DescriptionStyleModel",
          "state": {
            "_model_module": "@jupyter-widgets/controls",
            "_model_module_version": "1.5.0",
            "_model_name": "DescriptionStyleModel",
            "_view_count": null,
            "_view_module": "@jupyter-widgets/base",
            "_view_module_version": "1.2.0",
            "_view_name": "StyleView",
            "description_width": ""
          }
        },
        "a1d3897700324eafb70814e3e35f769d": {
          "model_module": "@jupyter-widgets/controls",
          "model_module_version": "1.5.0",
          "model_name": "HTMLModel",
          "state": {
            "_dom_classes": [],
            "_model_module": "@jupyter-widgets/controls",
            "_model_module_version": "1.5.0",
            "_model_name": "HTMLModel",
            "_view_count": null,
            "_view_module": "@jupyter-widgets/controls",
            "_view_module_version": "1.5.0",
            "_view_name": "HTMLView",
            "description": "",
            "description_tooltip": null,
            "layout": "IPY_MODEL_a4cc0993098f4be2871ba7658a448056",
            "placeholder": "​",
            "style": "IPY_MODEL_a7f552e84cdb46bca7d87563d3b7532c",
            "value": "100%"
          }
        },
        "a4cc0993098f4be2871ba7658a448056": {
          "model_module": "@jupyter-widgets/base",
          "model_module_version": "1.2.0",
          "model_name": "LayoutModel",
          "state": {
            "_model_module": "@jupyter-widgets/base",
            "_model_module_version": "1.2.0",
            "_model_name": "LayoutModel",
            "_view_count": null,
            "_view_module": "@jupyter-widgets/base",
            "_view_module_version": "1.2.0",
            "_view_name": "LayoutView",
            "align_content": null,
            "align_items": null,
            "align_self": null,
            "border": null,
            "bottom": null,
            "display": null,
            "flex": null,
            "flex_flow": null,
            "grid_area": null,
            "grid_auto_columns": null,
            "grid_auto_flow": null,
            "grid_auto_rows": null,
            "grid_column": null,
            "grid_gap": null,
            "grid_row": null,
            "grid_template_areas": null,
            "grid_template_columns": null,
            "grid_template_rows": null,
            "height": null,
            "justify_content": null,
            "justify_items": null,
            "left": null,
            "margin": null,
            "max_height": null,
            "max_width": null,
            "min_height": null,
            "min_width": null,
            "object_fit": null,
            "object_position": null,
            "order": null,
            "overflow": null,
            "overflow_x": null,
            "overflow_y": null,
            "padding": null,
            "right": null,
            "top": null,
            "visibility": null,
            "width": null
          }
        },
        "a7f552e84cdb46bca7d87563d3b7532c": {
          "model_module": "@jupyter-widgets/controls",
          "model_module_version": "1.5.0",
          "model_name": "DescriptionStyleModel",
          "state": {
            "_model_module": "@jupyter-widgets/controls",
            "_model_module_version": "1.5.0",
            "_model_name": "DescriptionStyleModel",
            "_view_count": null,
            "_view_module": "@jupyter-widgets/base",
            "_view_module_version": "1.2.0",
            "_view_name": "StyleView",
            "description_width": ""
          }
        },
        "a9ef93379a4543c59f8bfec6225819ef": {
          "model_module": "@jupyter-widgets/controls",
          "model_module_version": "1.5.0",
          "model_name": "FloatProgressModel",
          "state": {
            "_dom_classes": [],
            "_model_module": "@jupyter-widgets/controls",
            "_model_module_version": "1.5.0",
            "_model_name": "FloatProgressModel",
            "_view_count": null,
            "_view_module": "@jupyter-widgets/controls",
            "_view_module_version": "1.5.0",
            "_view_name": "ProgressView",
            "bar_style": "success",
            "description": "",
            "description_tooltip": null,
            "layout": "IPY_MODEL_f81847106d494b5989953c4182dddf7c",
            "max": 556,
            "min": 0,
            "orientation": "horizontal",
            "style": "IPY_MODEL_56ab5715256642b2ba15a415743ab7d5",
            "value": 556
          }
        },
        "c24eb773704b4b60833330e971689c27": {
          "model_module": "@jupyter-widgets/base",
          "model_module_version": "1.2.0",
          "model_name": "LayoutModel",
          "state": {
            "_model_module": "@jupyter-widgets/base",
            "_model_module_version": "1.2.0",
            "_model_name": "LayoutModel",
            "_view_count": null,
            "_view_module": "@jupyter-widgets/base",
            "_view_module_version": "1.2.0",
            "_view_name": "LayoutView",
            "align_content": null,
            "align_items": null,
            "align_self": null,
            "border": null,
            "bottom": null,
            "display": null,
            "flex": null,
            "flex_flow": null,
            "grid_area": null,
            "grid_auto_columns": null,
            "grid_auto_flow": null,
            "grid_auto_rows": null,
            "grid_column": null,
            "grid_gap": null,
            "grid_row": null,
            "grid_template_areas": null,
            "grid_template_columns": null,
            "grid_template_rows": null,
            "height": null,
            "justify_content": null,
            "justify_items": null,
            "left": null,
            "margin": null,
            "max_height": null,
            "max_width": null,
            "min_height": null,
            "min_width": null,
            "object_fit": null,
            "object_position": null,
            "order": null,
            "overflow": null,
            "overflow_x": null,
            "overflow_y": null,
            "padding": null,
            "right": null,
            "top": null,
            "visibility": null,
            "width": null
          }
        },
        "d9d6c9a5d9c7436198671b95a94d99bc": {
          "model_module": "@jupyter-widgets/controls",
          "model_module_version": "1.5.0",
          "model_name": "HTMLModel",
          "state": {
            "_dom_classes": [],
            "_model_module": "@jupyter-widgets/controls",
            "_model_module_version": "1.5.0",
            "_model_name": "HTMLModel",
            "_view_count": null,
            "_view_module": "@jupyter-widgets/controls",
            "_view_module_version": "1.5.0",
            "_view_name": "HTMLView",
            "description": "",
            "description_tooltip": null,
            "layout": "IPY_MODEL_f701d94e20bd46a59aaa2d71dbf822db",
            "placeholder": "​",
            "style": "IPY_MODEL_89d3c8e861204ed2b0d822f99de5978f",
            "value": " 556/556 [00:00&lt;00:00, 1557.95it/s]"
          }
        },
        "f034dbd3cf42408188b91de6231e3ce4": {
          "model_module": "@jupyter-widgets/base",
          "model_module_version": "1.2.0",
          "model_name": "LayoutModel",
          "state": {
            "_model_module": "@jupyter-widgets/base",
            "_model_module_version": "1.2.0",
            "_model_name": "LayoutModel",
            "_view_count": null,
            "_view_module": "@jupyter-widgets/base",
            "_view_module_version": "1.2.0",
            "_view_name": "LayoutView",
            "align_content": null,
            "align_items": null,
            "align_self": null,
            "border": null,
            "bottom": null,
            "display": null,
            "flex": null,
            "flex_flow": null,
            "grid_area": null,
            "grid_auto_columns": null,
            "grid_auto_flow": null,
            "grid_auto_rows": null,
            "grid_column": null,
            "grid_gap": null,
            "grid_row": null,
            "grid_template_areas": null,
            "grid_template_columns": null,
            "grid_template_rows": null,
            "height": null,
            "justify_content": null,
            "justify_items": null,
            "left": null,
            "margin": null,
            "max_height": null,
            "max_width": null,
            "min_height": null,
            "min_width": null,
            "object_fit": null,
            "object_position": null,
            "order": null,
            "overflow": null,
            "overflow_x": null,
            "overflow_y": null,
            "padding": null,
            "right": null,
            "top": null,
            "visibility": null,
            "width": null
          }
        },
        "f701d94e20bd46a59aaa2d71dbf822db": {
          "model_module": "@jupyter-widgets/base",
          "model_module_version": "1.2.0",
          "model_name": "LayoutModel",
          "state": {
            "_model_module": "@jupyter-widgets/base",
            "_model_module_version": "1.2.0",
            "_model_name": "LayoutModel",
            "_view_count": null,
            "_view_module": "@jupyter-widgets/base",
            "_view_module_version": "1.2.0",
            "_view_name": "LayoutView",
            "align_content": null,
            "align_items": null,
            "align_self": null,
            "border": null,
            "bottom": null,
            "display": null,
            "flex": null,
            "flex_flow": null,
            "grid_area": null,
            "grid_auto_columns": null,
            "grid_auto_flow": null,
            "grid_auto_rows": null,
            "grid_column": null,
            "grid_gap": null,
            "grid_row": null,
            "grid_template_areas": null,
            "grid_template_columns": null,
            "grid_template_rows": null,
            "height": null,
            "justify_content": null,
            "justify_items": null,
            "left": null,
            "margin": null,
            "max_height": null,
            "max_width": null,
            "min_height": null,
            "min_width": null,
            "object_fit": null,
            "object_position": null,
            "order": null,
            "overflow": null,
            "overflow_x": null,
            "overflow_y": null,
            "padding": null,
            "right": null,
            "top": null,
            "visibility": null,
            "width": null
          }
        },
        "f81847106d494b5989953c4182dddf7c": {
          "model_module": "@jupyter-widgets/base",
          "model_module_version": "1.2.0",
          "model_name": "LayoutModel",
          "state": {
            "_model_module": "@jupyter-widgets/base",
            "_model_module_version": "1.2.0",
            "_model_name": "LayoutModel",
            "_view_count": null,
            "_view_module": "@jupyter-widgets/base",
            "_view_module_version": "1.2.0",
            "_view_name": "LayoutView",
            "align_content": null,
            "align_items": null,
            "align_self": null,
            "border": null,
            "bottom": null,
            "display": null,
            "flex": null,
            "flex_flow": null,
            "grid_area": null,
            "grid_auto_columns": null,
            "grid_auto_flow": null,
            "grid_auto_rows": null,
            "grid_column": null,
            "grid_gap": null,
            "grid_row": null,
            "grid_template_areas": null,
            "grid_template_columns": null,
            "grid_template_rows": null,
            "height": null,
            "justify_content": null,
            "justify_items": null,
            "left": null,
            "margin": null,
            "max_height": null,
            "max_width": null,
            "min_height": null,
            "min_width": null,
            "object_fit": null,
            "object_position": null,
            "order": null,
            "overflow": null,
            "overflow_x": null,
            "overflow_y": null,
            "padding": null,
            "right": null,
            "top": null,
            "visibility": null,
            "width": null
          }
        },
        "f99c67c7631641d682ad5471216052a4": {
          "model_module": "@jupyter-widgets/base",
          "model_module_version": "1.2.0",
          "model_name": "LayoutModel",
          "state": {
            "_model_module": "@jupyter-widgets/base",
            "_model_module_version": "1.2.0",
            "_model_name": "LayoutModel",
            "_view_count": null,
            "_view_module": "@jupyter-widgets/base",
            "_view_module_version": "1.2.0",
            "_view_name": "LayoutView",
            "align_content": null,
            "align_items": null,
            "align_self": null,
            "border": null,
            "bottom": null,
            "display": null,
            "flex": null,
            "flex_flow": null,
            "grid_area": null,
            "grid_auto_columns": null,
            "grid_auto_flow": null,
            "grid_auto_rows": null,
            "grid_column": null,
            "grid_gap": null,
            "grid_row": null,
            "grid_template_areas": null,
            "grid_template_columns": null,
            "grid_template_rows": null,
            "height": null,
            "justify_content": null,
            "justify_items": null,
            "left": null,
            "margin": null,
            "max_height": null,
            "max_width": null,
            "min_height": null,
            "min_width": null,
            "object_fit": null,
            "object_position": null,
            "order": null,
            "overflow": null,
            "overflow_x": null,
            "overflow_y": null,
            "padding": null,
            "right": null,
            "top": null,
            "visibility": null,
            "width": null
          }
        }
      }
    }
  },
  "nbformat": 4,
  "nbformat_minor": 5
}

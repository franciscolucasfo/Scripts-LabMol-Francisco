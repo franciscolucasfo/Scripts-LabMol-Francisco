{
 "cells": [
  {
   "attachments": {},
   "cell_type": "markdown",
   "metadata": {},
   "source": [
    "# Chem Space (No Scaffold)\n",
    "### By: Francisco Feitosa"
   ]
  },
  {
   "attachments": {},
   "cell_type": "markdown",
   "metadata": {},
   "source": [
    "### Import Libraries"
   ]
  },
  {
   "cell_type": "code",
   "execution_count": null,
   "metadata": {},
   "outputs": [],
   "source": [
    "import os\n",
    "import time\n",
    "import pandas as pd\n",
    "import numpy as np\n",
    "\n",
    "from rdkit import Chem\n",
    "from rdkit.Chem import AllChem\n",
    "from rdkit.Chem import PandasTools\n",
    "from rdkit.Chem.Scaffolds.MurckoScaffold import MurckoScaffoldSmilesFromSmiles\n",
    "from rdkit import Chem, DataStructs\n",
    "from rdkit.Chem import Draw\n",
    "from rdkit.Chem.Draw import IPythonConsole\n",
    "from rdkit.Chem import rdFingerprintGenerator\n",
    "from rdkit.Chem import rdDepictor\n",
    "from rdkit.Chem import MACCSkeys\n",
    "from rdkit.Chem.Draw import rdMolDraw2D\n",
    "from rdkit.Chem.PandasTools import ChangeMoleculeRendering\n",
    "\n",
    "import mols2grid\n",
    "from tqdm.auto import tqdm\n",
    "from ipywidgets import widgets\n",
    "from typing import List\n",
    "\n",
    "from sklearn.discriminant_analysis import LinearDiscriminantAnalysis as LDA\n",
    "from sklearn.preprocessing import StandardScaler\n",
    "from sklearn.decomposition import PCA\n",
    "from sklearn.manifold import TSNE\n",
    "#import umap as umap\n",
    "#import hdbscan\n",
    "\n",
    "import matplotlib.pyplot as plt\n",
    "import seaborn as sns\n",
    "IPythonConsole.ipython_useSVG=True \n",
    "from IPython.display import SVG\n",
    "\n",
    "#Bokeh library for plotting\n",
    "import json\n",
    "from bokeh.plotting import figure, show, output_notebook, ColumnDataSource\n",
    "from bokeh.models import HoverTool\n",
    "from bokeh.transform import factor_cmap\n",
    "from bokeh.transform import transform\n",
    "from bokeh.transform import LinearColorMapper\n",
    "from bokeh.models import ColorBar\n",
    "from bokeh.palettes import PiYG\n",
    "from bokeh.plotting import figure, output_file, save\n",
    "output_notebook()"
   ]
  },
  {
   "cell_type": "code",
   "execution_count": 2,
   "metadata": {},
   "outputs": [],
   "source": [
    "tqdm.pandas()"
   ]
  },
  {
   "attachments": {},
   "cell_type": "markdown",
   "metadata": {},
   "source": [
    "### Setup"
   ]
  },
  {
   "cell_type": "code",
   "execution_count": 3,
   "metadata": {},
   "outputs": [],
   "source": [
    "fname = r\"C:\\Users\\franc\\OneDrive\\Documentos\\LabMol\\IC-Skin\\DADOS\\GHS\\curated_binary_GHS.csv\""
   ]
  },
  {
   "cell_type": "code",
   "execution_count": null,
   "metadata": {},
   "outputs": [],
   "source": [
    "df = pd.read_csv(fname)\n",
    "df.info()"
   ]
  },
  {
   "cell_type": "code",
   "execution_count": null,
   "metadata": {},
   "outputs": [],
   "source": [
    "df=df.rename(columns={'Outcome':'ACTIVITY'})\n",
    "df.info()"
   ]
  },
  {
   "cell_type": "code",
   "execution_count": null,
   "metadata": {},
   "outputs": [],
   "source": [
    "df1=df[['SMILES','ACTIVITY']]\n",
    "df1.info()"
   ]
  },
  {
   "cell_type": "code",
   "execution_count": null,
   "metadata": {},
   "outputs": [],
   "source": [
    "df1.isnull().any()"
   ]
  },
  {
   "cell_type": "code",
   "execution_count": null,
   "metadata": {},
   "outputs": [],
   "source": [
    "df1=df1.dropna(subset=['ACTIVITY'])\n",
    "df1.info()"
   ]
  },
  {
   "cell_type": "code",
   "execution_count": null,
   "metadata": {},
   "outputs": [],
   "source": [
    "df1['mol'] = df.SMILES.progress_apply(Chem.MolFromSmiles)"
   ]
  },
  {
   "cell_type": "code",
   "execution_count": null,
   "metadata": {},
   "outputs": [],
   "source": [
    "df1.isnull().any()\n",
    "df1.info()"
   ]
  },
  {
   "attachments": {},
   "cell_type": "markdown",
   "metadata": {},
   "source": [
    "### Fingerprints"
   ]
  },
  {
   "cell_type": "code",
   "execution_count": 11,
   "metadata": {},
   "outputs": [],
   "source": [
    "fp_type = \"ECFP\"\n",
    "radii = 2\n",
    "bits = 1024"
   ]
  },
  {
   "cell_type": "code",
   "execution_count": 12,
   "metadata": {},
   "outputs": [],
   "source": [
    "for type in fp_type:\n",
    "    if fp_type == \"ECFP\":\n",
    "        fps = np.array([AllChem.GetMorganFingerprintAsBitVect(x, radius = radii, nBits = bits, useFeatures=False) for x in df1['mol']])\n",
    "    if fp_type == \"FCFP\":\n",
    "        fps = np.array([AllChem.GetMorganFingerprintAsBitVect(x, radius = radii, nBits = bits, useFeatures=True) for x in df1['mol']])\n",
    "    if fp_type == \"MACCS\":\n",
    "        fps = np.array([MACCSkeys.GenMACCSKeys(x) for x in df1['mol']])\n",
    "    "
   ]
  },
  {
   "attachments": {},
   "cell_type": "markdown",
   "metadata": {},
   "source": [
    "### Calculate PCA"
   ]
  },
  {
   "cell_type": "code",
   "execution_count": null,
   "metadata": {},
   "outputs": [],
   "source": [
    "%%time\n",
    "pca = PCA(n_components=2)\n",
    "X_pca = pca.fit_transform(fps)\n",
    "pca_df = pd.DataFrame(X_pca, columns= ['X_PCA','Y_PCA'])\n",
    "pca_df.info()"
   ]
  },
  {
   "attachments": {},
   "cell_type": "markdown",
   "metadata": {},
   "source": [
    "### Calculate TSNE"
   ]
  },
  {
   "cell_type": "code",
   "execution_count": null,
   "metadata": {},
   "outputs": [],
   "source": [
    "%%time\n",
    "tsne = TSNE(random_state=0).fit_transform(fps)\n",
    "tsne_df = pd.DataFrame(tsne, columns= ['X_TSNE', 'Y_TSNE'])\n",
    "\n",
    "tsne_df.info()"
   ]
  },
  {
   "attachments": {},
   "cell_type": "markdown",
   "metadata": {},
   "source": [
    "### Calculate UMAP"
   ]
  },
  {
   "cell_type": "code",
   "execution_count": null,
   "metadata": {},
   "outputs": [],
   "source": [
    "\"\"\"%%time\n",
    "umap_model = umap.UMAP(metric = \"euclidean\",\n",
    "                      n_neighbors = 25,\n",
    "                      n_components = 2,\n",
    "                      low_memory = False,\n",
    "                      min_dist = 0.9)\n",
    "X_umap = umap_model.fit_transform(fps)\n",
    "umap_df = pd.DataFrame(X_umap, columns= ['X_UMAP', 'Y_UMAP'])\"\"\""
   ]
  },
  {
   "attachments": {},
   "cell_type": "markdown",
   "metadata": {},
   "source": [
    "### Prepare molecules to print"
   ]
  },
  {
   "cell_type": "code",
   "execution_count": 16,
   "metadata": {},
   "outputs": [],
   "source": [
    "def _prepareMol(mol,kekulize):\n",
    "    mc = Chem.Mol(mol.ToBinary())\n",
    "    if kekulize:\n",
    "        try:\n",
    "            Chem.Kekulize(mc)\n",
    "        except:\n",
    "            mc = Chem.Mol(mol.ToBinary())\n",
    "    if not mc.GetNumConformers():\n",
    "        rdDepictor.Compute2DCoords(mc)\n",
    "    return mc\n",
    "\n",
    "def moltosvg(mol,molSize=(450,200),kekulize=True,drawer=None,**kwargs):\n",
    "    mc = _prepareMol(mol,kekulize)\n",
    "    if drawer is None:\n",
    "        drawer = rdMolDraw2D.MolDraw2DSVG(molSize[0],molSize[1])\n",
    "    drawer.DrawMolecule(mc,**kwargs)\n",
    "    drawer.FinishDrawing()\n",
    "    svg = drawer.GetDrawingText()\n",
    "    return SVG(svg.replace('svg:',''))"
   ]
  },
  {
   "cell_type": "code",
   "execution_count": 17,
   "metadata": {},
   "outputs": [],
   "source": [
    "svgs = [moltosvg(m).data for m in df1.mol]"
   ]
  },
  {
   "cell_type": "code",
   "execution_count": null,
   "metadata": {},
   "outputs": [],
   "source": [
    "df1=df1.reset_index()\n",
    "df1.head()"
   ]
  },
  {
   "cell_type": "code",
   "execution_count": null,
   "metadata": {},
   "outputs": [],
   "source": [
    "df_merge = pd.concat([df1, pca_df, tsne_df], axis=1)\n",
    "df_merge.head()"
   ]
  },
  {
   "attachments": {},
   "cell_type": "markdown",
   "metadata": {},
   "source": [
    "### Plot Map"
   ]
  },
  {
   "cell_type": "code",
   "execution_count": null,
   "metadata": {},
   "outputs": [],
   "source": [
    "color_mapper=LinearColorMapper(palette=PiYG[9],\n",
    "                               low=df1.ACTIVITY.max(), high=df1.ACTIVITY.min())"
   ]
  },
  {
   "cell_type": "code",
   "execution_count": null,
   "metadata": {},
   "outputs": [],
   "source": [
    "df1['s'] = 1\n",
    "df1"
   ]
  },
  {
   "cell_type": "code",
   "execution_count": null,
   "metadata": {},
   "outputs": [],
   "source": [
    "def plot_int_map(metodology):\n",
    "    source = ColumnDataSource(data=dict(x=metodology[:,0], y=metodology[:,1], freq = df1.s, desc= df1.ACTIVITY,\n",
    "                                    svgs=svgs, s=df1.s*6, c=df1.ACTIVITY))\n",
    "    ChangeMoleculeRendering(renderer='PNG')\n",
    "\n",
    "\n",
    "\n",
    "    hover = HoverTool(tooltips=\"\"\"\n",
    "        <div>\n",
    "            <div>@svgs{safe}\n",
    "            </div>\n",
    "            <div>\n",
    "                <span style=\"font-size: 17px; font-weight: bold;\">Frequency @freq</span>\n",
    "            </div>\n",
    "            <div>\n",
    "                <span style=\"font-size: 17px; font-weight: bold;\">Activity @desc</span>\n",
    "            </div>\n",
    "        </div>\n",
    "        </body>\n",
    "        \"\"\")\n",
    "\n",
    "    interactive_map = figure(width = 1000, height=1000, tools=['reset,box_zoom,wheel_zoom,zoom_in,zoom_out,pan',hover],\n",
    "           title=\"Chemical Space \" + str(fp_type) + \" Radius: \" + str(radii) + \" bits: \" + str(bits))\n",
    "\n",
    "\n",
    "\n",
    "    interactive_map.circle('x', 'y', \n",
    "                           source=source,\n",
    "                           size='s',\n",
    "                           color=transform('c', color_mapper),\n",
    "                           fill_alpha=0.5);\n",
    "\n",
    "    color_bar = ColorBar(color_mapper=color_mapper, label_standoff=12, location=(0,0), title ='Activity')\n",
    "    interactive_map.add_layout(color_bar,'left')\n",
    "    show(interactive_map)\n",
    "    return interactive_map"
   ]
  },
  {
   "cell_type": "code",
   "execution_count": null,
   "metadata": {},
   "outputs": [],
   "source": [
    "pca_map=plot_int_map(X_pca)"
   ]
  },
  {
   "cell_type": "code",
   "execution_count": null,
   "metadata": {},
   "outputs": [],
   "source": [
    "tsne_map=plot_int_map(tsne)"
   ]
  },
  {
   "cell_type": "code",
   "execution_count": null,
   "metadata": {},
   "outputs": [],
   "source": [
    "#umap_map= plot_int_map(X_umap)"
   ]
  },
  {
   "cell_type": "code",
   "execution_count": null,
   "metadata": {},
   "outputs": [],
   "source": [
    "#Save Hmtl for later viewing\n",
    "#output_file(\"./umap \" + str(fp_type) + \" \" + str(radii) + \" \" + str(bits) + \".html\")\n",
    "#save(umap_map)\n",
    "\n",
    "output_file(\"./tsne \" + str(fp_type) + \" \" + str(radii) + \" \" + str(bits) + \".html\")\n",
    "save(tsne_map)\n",
    "\n",
    "output_file(\"./pca \" + str(fp_type) + \" \" + str(radii) + \" \" + str(bits) + \".html\")\n",
    "save(pca_map)\n"
   ]
  }
 ],
 "metadata": {
  "kernelspec": {
   "display_name": "my-rdkit-env",
   "language": "python",
   "name": "python3"
  },
  "language_info": {
   "codemirror_mode": {
    "name": "ipython",
    "version": 3
   },
   "file_extension": ".py",
   "mimetype": "text/x-python",
   "name": "python",
   "nbconvert_exporter": "python",
   "pygments_lexer": "ipython3",
   "version": "3.10.6"
  },
  "orig_nbformat": 4,
  "vscode": {
   "interpreter": {
    "hash": "abdac575baa5ca75846748934e69150e4d7d5b6c8b3f8d5f951a87886767e227"
   }
  }
 },
 "nbformat": 4,
 "nbformat_minor": 2
}

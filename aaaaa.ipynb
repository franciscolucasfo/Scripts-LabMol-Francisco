{
 "cells": [
  {
   "cell_type": "code",
   "execution_count": null,
   "metadata": {},
   "outputs": [],
   "source": [
    "import pandas as pd\n",
    "import numpy as np\n",
    "\n",
    "import os\n",
    "from pathlib import Path\n",
    "from rdkit import Chem\n",
    "from chembl_structure_pipeline import standardizer\n",
    "from rdkit.Chem.MolStandardize.metal import MetalDisconnector\n",
    "import rdkit.Chem.MolStandardize.rdMolStandardize as rdMolStandardize\n",
    "from rdkit.Chem import PandasTools\n",
    "\n",
    "from rdkit.Chem import inchi as rd_inchi\n",
    "\n",
    "from molvs import standardize_smiles\n",
    "from molvs import Standardizer"
   ]
  },
  {
   "cell_type": "code",
   "execution_count": null,
   "metadata": {},
   "outputs": [],
   "source": [
    "#choose a path to save\n",
    "savepath = r\"D:\\OneDrive\\Documentos\\LabMol\\IC-Citotoxicidade\\DeepCytosafe\"\n",
    "cell = \"hek293\" \n",
    "incubation = \"24h\""
   ]
  },
  {
   "cell_type": "code",
   "execution_count": null,
   "metadata": {},
   "outputs": [],
   "source": [
    "df0  = pd.read_csv(r\"D:\\OneDrive\\Documentos\\LabMol\\IC-Citotoxicidade\\DeepCytosafe\\HEK293\\RAW\\AID_624418_datatable.csv\")"
   ]
  },
  {
   "cell_type": "code",
   "execution_count": null,
   "metadata": {},
   "outputs": [],
   "source": [
    "df1 = pd.read_csv(r\"D:\\OneDrive\\Documentos\\LabMol\\IC-Citotoxicidade\\DeepCytosafe\\HEPG2\\RAW\\AID_588856_datatable.csv\")\n",
    "df2 = pd.read_csv(r\"D:\\OneDrive\\Documentos\\LabMol\\IC-Citotoxicidade\\DeepCytosafe\\HEPG2\\RAW\\AID_720535_datatable.csv\")\n",
    "#df3 = pd.read_csv(r\"D:\\OneDrive\\Documentos\\LabMol\\IC-Citotoxicidade\\DeepCytosafe\\THP1\\RAW\\AID_489025_datatable.csv\")\n",
    "#df4 = pd.read_csv(r\"D:\\OneDrive\\Documentos\\LabMol\\IC-Citotoxicidade\\DeepCytosafe\\THP1\\RAW\\AID_1117359_datatable.csv\")\n",
    "\n",
    "df0 = pd.concat([df1, df2], axis=0)"
   ]
  },
  {
   "cell_type": "code",
   "execution_count": null,
   "metadata": {},
   "outputs": [],
   "source": [
    "df0 = df0.loc[:, ['PUBCHEM_EXT_DATASOURCE_SMILES', 'PUBCHEM_ACTIVITY_OUTCOME', 'PUBCHEM_CID']]\n",
    "df0"
   ]
  },
  {
   "cell_type": "code",
   "execution_count": null,
   "metadata": {},
   "outputs": [],
   "source": [
    "df0 = df0.rename(columns={'PUBCHEM_EXT_DATASOURCE_SMILES':'Molecule', 'PUBCHEM_ACTIVITY_OUTCOME':'Outcome'})\n",
    "df0"
   ]
  },
  {
   "cell_type": "code",
   "execution_count": null,
   "metadata": {},
   "outputs": [],
   "source": [
    "df0 = df0.dropna(subset=['Molecule'])\n",
    "df0 = df0.dropna(subset=['Outcome'])\n",
    "df0"
   ]
  },
  {
   "cell_type": "code",
   "execution_count": null,
   "metadata": {},
   "outputs": [],
   "source": [
    "def string_to_int(s):\n",
    "    mapping = {\"Active\": 1, \"Inactive\": 0}\n",
    "    return mapping.get(s, None)\n",
    "\n",
    "df0['Outcome'] = df0['Outcome'].apply(string_to_int)\n",
    "df0"
   ]
  },
  {
   "cell_type": "code",
   "execution_count": null,
   "metadata": {},
   "outputs": [],
   "source": [
    "df0[\"Outcome\"].value_counts()"
   ]
  },
  {
   "cell_type": "code",
   "execution_count": null,
   "metadata": {},
   "outputs": [],
   "source": [
    "rdMol = [Chem.MolFromSmiles(smile, sanitize=True) for smile in df0['Molecule']]\n",
    "molBlock = [Chem.MolToMolBlock(mol) for mol in rdMol]\n",
    "stdMolBlock = [standardizer.standardize_molblock(mol_block) for mol_block in molBlock]\n",
    "molFromMolBlock = [Chem.MolFromMolBlock(std_molblock) for std_molblock in stdMolBlock]\n",
    "mol2smiles = [Chem.MolToSmiles(m) for m in molFromMolBlock]\n",
    "df0['final_smiles'] = mol2smiles\n",
    "\n",
    "df0 = df0.reset_index(drop=True)"
   ]
  },
  {
   "cell_type": "code",
   "execution_count": null,
   "metadata": {},
   "outputs": [],
   "source": [
    "df0 = df0.dropna(subset=['final_smiles'])\n",
    "df0 = df0.loc[:, ['final_smiles', 'Outcome', 'PUBCHEM_CID']]\n",
    "df0"
   ]
  },
  {
   "cell_type": "code",
   "execution_count": null,
   "metadata": {},
   "outputs": [],
   "source": [
    "#Save withou removing duplicates\n",
    "df0.to_csv(os.path.join(savepath, f\"Cytotox_{cell}_{incubation}_dupIN.csv\"), index=False)"
   ]
  },
  {
   "cell_type": "code",
   "execution_count": null,
   "metadata": {},
   "outputs": [],
   "source": [
    "# Calculate the InChI\n",
    "inchi_list = []\n",
    "for smiles in df0['final_smiles']:\n",
    "    mol = Chem.MolFromSmiles(smiles)\n",
    "    inchi = Chem.inchi.MolToInchi(mol)\n",
    "    inchi_list.append(inchi)\n",
    "\n",
    "# Adicionar a coluna de InChI no dataframe\n",
    "df0['InChI'] = inchi_list\n",
    "\n",
    "df0_active = df0.query('Outcome == 0')\n",
    "df0_inactive = df0.query('Outcome == 1')\n",
    "\n",
    "df0_active = df0_active.drop_duplicates(subset=['InChI'], inplace=False)\n",
    "df0_inactive = df0_inactive.drop_duplicates(subset=['InChI'], inplace=False)\n",
    "\n",
    "df_no_dup_concord = pd.concat([df0_active, df0_inactive], axis=0)\n",
    "\n",
    "final_drop_dup = df_no_dup_concord.drop_duplicates(subset=['InChI'], keep=False, inplace=False)\n",
    "\n",
    "lastcount = final_drop_dup['InChI'].count()\n",
    "\n",
    "df_final = final_drop_dup\n",
    "\n",
    "df_final = df_final.reset_index(drop=True)"
   ]
  },
  {
   "cell_type": "code",
   "execution_count": null,
   "metadata": {},
   "outputs": [],
   "source": [
    "df_final"
   ]
  },
  {
   "cell_type": "code",
   "execution_count": null,
   "metadata": {},
   "outputs": [],
   "source": [
    "#Save without duplicates\n",
    "df_final.to_csv(os.path.join(savepath, f\"Cytotox_{cell}_{incubation}_dupOUT.csv\"), index=False)"
   ]
  }
 ],
 "metadata": {
  "kernelspec": {
   "display_name": "ia",
   "language": "python",
   "name": "python3"
  },
  "language_info": {
   "codemirror_mode": {
    "name": "ipython",
    "version": 3
   },
   "file_extension": ".py",
   "mimetype": "text/x-python",
   "name": "python",
   "nbconvert_exporter": "python",
   "pygments_lexer": "ipython3",
   "version": "3.10.6"
  }
 },
 "nbformat": 4,
 "nbformat_minor": 2
}

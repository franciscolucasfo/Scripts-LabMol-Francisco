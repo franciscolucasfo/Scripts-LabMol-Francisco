{
 "cells": [
  {
   "cell_type": "code",
   "execution_count": 35,
   "metadata": {},
   "outputs": [],
   "source": [
    "import pandas as pd\n",
    "import numpy as np\n",
    "from rdkit import Chem\n",
    "\n",
    "def convert_ug_ml_to_nM(ug_ml, molecular_weight):\n",
    "    \"\"\"\n",
    "    Converta a concentração de µg/mL para nM/mL.\n",
    "    \n",
    "    Parâmetros:\n",
    "    ug_ml (float): Concentração em µg/mL\n",
    "    molecular_weight (float): Peso molecular em g/mol\n",
    "    \n",
    "    Retorna:\n",
    "    float: Concentração em nM/mL\n",
    "    \"\"\"\n",
    "    # Fator de conversão de µg para g\n",
    "    conversion_factor = 1e-6\n",
    "    \n",
    "    # Converta µg/mL para g/mL\n",
    "    g_ml = ug_ml * conversion_factor\n",
    "    \n",
    "    # Converta g/mL para molar (M) usando o peso molecular (g/mol)\n",
    "    molar_concentration = g_ml / molecular_weight\n",
    "    \n",
    "    # Converta M para nM (1 M = 10^9 nM)\n",
    "    nM_ml = molar_concentration * 1e9\n",
    "    \n",
    "    return nM_ml\n"
   ]
  },
  {
   "cell_type": "code",
   "execution_count": null,
   "metadata": {},
   "outputs": [],
   "source": [
    "df = pd.read_excel(r\"D:\\OneDrive\\Documentos\\LabMol\\QSARLit Colab\\automated-qsar-framework-master\\malaria\\data_sets\\bioactivity-18_17_57_08.xls.xlsx\")\n",
    "df.head()"
   ]
  },
  {
   "cell_type": "code",
   "execution_count": null,
   "metadata": {},
   "outputs": [],
   "source": [
    "df = df.loc[:, ['CANONICAL_SMILES', 'STANDARD_VALUE', 'STANDARD_UNITS', 'MOLWEIGHT']]\n",
    "df = df.dropna(subset=['STANDARD_VALUE'])\n",
    "\n",
    "if 'ug.mL-1' in df['STANDARD_UNITS']:\n",
    "    df['STANDARD_VALUE'] = df.apply(lambda x: convert_ug_ml_to_nM(x['STANDARD_VALUE'], x['MOLWEIGHT']), axis=1)\n",
    "    df['STANDARD_UNITS'] = 'nM'\n",
    "else:\n",
    "    df['STANDARD_UNITS'] = 'nM'\n",
    "df"
   ]
  },
  {
   "cell_type": "code",
   "execution_count": null,
   "metadata": {},
   "outputs": [],
   "source": [
    "for a in df['STANDARD_VALUE']:\n",
    "    a/1000\n",
    "    df['STANDARD_UNITS'] = 'uM'\n",
    "\n",
    "df['pI50 (uM)'] = -np.log10(df['STANDARD_VALUE'] / 1e6)\n",
    "df['binary'] = df['pI50 (uM)'].apply(lambda x: 1 if x >= 6 else 0)\n",
    "df"
   ]
  },
  {
   "cell_type": "code",
   "execution_count": 40,
   "metadata": {},
   "outputs": [],
   "source": [
    "df.to_csv(r\"D:\\OneDrive\\Documentos\\LabMol\\QSARLit Colab\\automated-qsar-framework-master\\malaria\\data_sets\\bioactivity_data_prepared.csv\", index=False)"
   ]
  }
 ],
 "metadata": {
  "kernelspec": {
   "display_name": "ia",
   "language": "python",
   "name": "python3"
  },
  "language_info": {
   "codemirror_mode": {
    "name": "ipython",
    "version": 3
   },
   "file_extension": ".py",
   "mimetype": "text/x-python",
   "name": "python",
   "nbconvert_exporter": "python",
   "pygments_lexer": "ipython3",
   "version": "3.10.6"
  }
 },
 "nbformat": 4,
 "nbformat_minor": 2
}
